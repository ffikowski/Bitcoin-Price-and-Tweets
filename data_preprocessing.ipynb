{
 "cells": [
  {
   "cell_type": "code",
   "execution_count": 2,
   "id": "1b976851",
   "metadata": {},
   "outputs": [],
   "source": [
    "import csv\n",
    "import pandas as pd\n",
    "import numpy as np\n",
    "import re\n",
    "import nltk\n",
    "from nltk.stem import *\n",
    "from vaderSentiment.vaderSentiment import SentimentIntensityAnalyzer\n",
    "from datetime import datetime\n",
    "from textblob import TextBlob\n",
    "import matplotlib.pyplot as plt\n",
    "from langdetect import detect\n",
    "\n",
    "\n",
    "from nltk.corpus import stopwords"
   ]
  },
  {
   "cell_type": "code",
   "execution_count": 63,
   "id": "f6b9e5bf",
   "metadata": {},
   "outputs": [
    {
     "ename": "KeyboardInterrupt",
     "evalue": "",
     "output_type": "error",
     "traceback": [
      "\u001b[1;31m---------------------------------------------------------------------------\u001b[0m",
      "\u001b[1;31mKeyboardInterrupt\u001b[0m                         Traceback (most recent call last)",
      "\u001b[1;32m~\\AppData\\Local\\Temp/ipykernel_23548/2078135597.py\u001b[0m in \u001b[0;36m<module>\u001b[1;34m\u001b[0m\n\u001b[1;32m----> 1\u001b[1;33m \u001b[0mdf\u001b[0m \u001b[1;33m=\u001b[0m \u001b[0mpd\u001b[0m\u001b[1;33m.\u001b[0m\u001b[0mread_csv\u001b[0m\u001b[1;33m(\u001b[0m\u001b[1;34m'tweets.csv'\u001b[0m\u001b[1;33m,\u001b[0m\u001b[0mdtype\u001b[0m\u001b[1;33m=\u001b[0m\u001b[0mobject\u001b[0m\u001b[1;33m,\u001b[0m \u001b[0msep\u001b[0m \u001b[1;33m=\u001b[0m \u001b[1;34m';'\u001b[0m\u001b[1;33m)\u001b[0m\u001b[1;33m\u001b[0m\u001b[1;33m\u001b[0m\u001b[0m\n\u001b[0m",
      "\u001b[1;32m~\\anaconda3\\lib\\site-packages\\pandas\\util\\_decorators.py\u001b[0m in \u001b[0;36mwrapper\u001b[1;34m(*args, **kwargs)\u001b[0m\n\u001b[0;32m    309\u001b[0m                     \u001b[0mstacklevel\u001b[0m\u001b[1;33m=\u001b[0m\u001b[0mstacklevel\u001b[0m\u001b[1;33m,\u001b[0m\u001b[1;33m\u001b[0m\u001b[1;33m\u001b[0m\u001b[0m\n\u001b[0;32m    310\u001b[0m                 )\n\u001b[1;32m--> 311\u001b[1;33m             \u001b[1;32mreturn\u001b[0m \u001b[0mfunc\u001b[0m\u001b[1;33m(\u001b[0m\u001b[1;33m*\u001b[0m\u001b[0margs\u001b[0m\u001b[1;33m,\u001b[0m \u001b[1;33m**\u001b[0m\u001b[0mkwargs\u001b[0m\u001b[1;33m)\u001b[0m\u001b[1;33m\u001b[0m\u001b[1;33m\u001b[0m\u001b[0m\n\u001b[0m\u001b[0;32m    312\u001b[0m \u001b[1;33m\u001b[0m\u001b[0m\n\u001b[0;32m    313\u001b[0m         \u001b[1;32mreturn\u001b[0m \u001b[0mwrapper\u001b[0m\u001b[1;33m\u001b[0m\u001b[1;33m\u001b[0m\u001b[0m\n",
      "\u001b[1;32m~\\anaconda3\\lib\\site-packages\\pandas\\io\\parsers\\readers.py\u001b[0m in \u001b[0;36mread_csv\u001b[1;34m(filepath_or_buffer, sep, delimiter, header, names, index_col, usecols, squeeze, prefix, mangle_dupe_cols, dtype, engine, converters, true_values, false_values, skipinitialspace, skiprows, skipfooter, nrows, na_values, keep_default_na, na_filter, verbose, skip_blank_lines, parse_dates, infer_datetime_format, keep_date_col, date_parser, dayfirst, cache_dates, iterator, chunksize, compression, thousands, decimal, lineterminator, quotechar, quoting, doublequote, escapechar, comment, encoding, encoding_errors, dialect, error_bad_lines, warn_bad_lines, on_bad_lines, delim_whitespace, low_memory, memory_map, float_precision, storage_options)\u001b[0m\n\u001b[0;32m    584\u001b[0m     \u001b[0mkwds\u001b[0m\u001b[1;33m.\u001b[0m\u001b[0mupdate\u001b[0m\u001b[1;33m(\u001b[0m\u001b[0mkwds_defaults\u001b[0m\u001b[1;33m)\u001b[0m\u001b[1;33m\u001b[0m\u001b[1;33m\u001b[0m\u001b[0m\n\u001b[0;32m    585\u001b[0m \u001b[1;33m\u001b[0m\u001b[0m\n\u001b[1;32m--> 586\u001b[1;33m     \u001b[1;32mreturn\u001b[0m \u001b[0m_read\u001b[0m\u001b[1;33m(\u001b[0m\u001b[0mfilepath_or_buffer\u001b[0m\u001b[1;33m,\u001b[0m \u001b[0mkwds\u001b[0m\u001b[1;33m)\u001b[0m\u001b[1;33m\u001b[0m\u001b[1;33m\u001b[0m\u001b[0m\n\u001b[0m\u001b[0;32m    587\u001b[0m \u001b[1;33m\u001b[0m\u001b[0m\n\u001b[0;32m    588\u001b[0m \u001b[1;33m\u001b[0m\u001b[0m\n",
      "\u001b[1;32m~\\anaconda3\\lib\\site-packages\\pandas\\io\\parsers\\readers.py\u001b[0m in \u001b[0;36m_read\u001b[1;34m(filepath_or_buffer, kwds)\u001b[0m\n\u001b[0;32m    486\u001b[0m \u001b[1;33m\u001b[0m\u001b[0m\n\u001b[0;32m    487\u001b[0m     \u001b[1;32mwith\u001b[0m \u001b[0mparser\u001b[0m\u001b[1;33m:\u001b[0m\u001b[1;33m\u001b[0m\u001b[1;33m\u001b[0m\u001b[0m\n\u001b[1;32m--> 488\u001b[1;33m         \u001b[1;32mreturn\u001b[0m \u001b[0mparser\u001b[0m\u001b[1;33m.\u001b[0m\u001b[0mread\u001b[0m\u001b[1;33m(\u001b[0m\u001b[0mnrows\u001b[0m\u001b[1;33m)\u001b[0m\u001b[1;33m\u001b[0m\u001b[1;33m\u001b[0m\u001b[0m\n\u001b[0m\u001b[0;32m    489\u001b[0m \u001b[1;33m\u001b[0m\u001b[0m\n\u001b[0;32m    490\u001b[0m \u001b[1;33m\u001b[0m\u001b[0m\n",
      "\u001b[1;32m~\\anaconda3\\lib\\site-packages\\pandas\\io\\parsers\\readers.py\u001b[0m in \u001b[0;36mread\u001b[1;34m(self, nrows)\u001b[0m\n\u001b[0;32m   1051\u001b[0m                 \u001b[1;31m# Any column is actually fine:\u001b[0m\u001b[1;33m\u001b[0m\u001b[1;33m\u001b[0m\u001b[0m\n\u001b[0;32m   1052\u001b[0m                 \u001b[0mnew_rows\u001b[0m \u001b[1;33m=\u001b[0m \u001b[0mlen\u001b[0m\u001b[1;33m(\u001b[0m\u001b[0mnext\u001b[0m\u001b[1;33m(\u001b[0m\u001b[0miter\u001b[0m\u001b[1;33m(\u001b[0m\u001b[0mcol_dict\u001b[0m\u001b[1;33m.\u001b[0m\u001b[0mvalues\u001b[0m\u001b[1;33m(\u001b[0m\u001b[1;33m)\u001b[0m\u001b[1;33m)\u001b[0m\u001b[1;33m)\u001b[0m\u001b[1;33m)\u001b[0m\u001b[1;33m\u001b[0m\u001b[1;33m\u001b[0m\u001b[0m\n\u001b[1;32m-> 1053\u001b[1;33m                 \u001b[0mindex\u001b[0m \u001b[1;33m=\u001b[0m \u001b[0mRangeIndex\u001b[0m\u001b[1;33m(\u001b[0m\u001b[0mself\u001b[0m\u001b[1;33m.\u001b[0m\u001b[0m_currow\u001b[0m\u001b[1;33m,\u001b[0m \u001b[0mself\u001b[0m\u001b[1;33m.\u001b[0m\u001b[0m_currow\u001b[0m \u001b[1;33m+\u001b[0m \u001b[0mnew_rows\u001b[0m\u001b[1;33m)\u001b[0m\u001b[1;33m\u001b[0m\u001b[1;33m\u001b[0m\u001b[0m\n\u001b[0m\u001b[0;32m   1054\u001b[0m             \u001b[1;32melse\u001b[0m\u001b[1;33m:\u001b[0m\u001b[1;33m\u001b[0m\u001b[1;33m\u001b[0m\u001b[0m\n\u001b[0;32m   1055\u001b[0m                 \u001b[0mnew_rows\u001b[0m \u001b[1;33m=\u001b[0m \u001b[1;36m0\u001b[0m\u001b[1;33m\u001b[0m\u001b[1;33m\u001b[0m\u001b[0m\n",
      "\u001b[1;32m~\\anaconda3\\lib\\site-packages\\pandas\\core\\indexes\\range.py\u001b[0m in \u001b[0;36m__new__\u001b[1;34m(cls, start, stop, step, dtype, copy, name)\u001b[0m\n\u001b[0;32m    122\u001b[0m \u001b[1;33m\u001b[0m\u001b[0m\n\u001b[0;32m    123\u001b[0m         \u001b[1;31m# validate the arguments\u001b[0m\u001b[1;33m\u001b[0m\u001b[1;33m\u001b[0m\u001b[0m\n\u001b[1;32m--> 124\u001b[1;33m         \u001b[1;32mif\u001b[0m \u001b[0mcom\u001b[0m\u001b[1;33m.\u001b[0m\u001b[0mall_none\u001b[0m\u001b[1;33m(\u001b[0m\u001b[0mstart\u001b[0m\u001b[1;33m,\u001b[0m \u001b[0mstop\u001b[0m\u001b[1;33m,\u001b[0m \u001b[0mstep\u001b[0m\u001b[1;33m)\u001b[0m\u001b[1;33m:\u001b[0m\u001b[1;33m\u001b[0m\u001b[1;33m\u001b[0m\u001b[0m\n\u001b[0m\u001b[0;32m    125\u001b[0m             \u001b[1;32mraise\u001b[0m \u001b[0mTypeError\u001b[0m\u001b[1;33m(\u001b[0m\u001b[1;34m\"RangeIndex(...) must be called with integers\"\u001b[0m\u001b[1;33m)\u001b[0m\u001b[1;33m\u001b[0m\u001b[1;33m\u001b[0m\u001b[0m\n\u001b[0;32m    126\u001b[0m \u001b[1;33m\u001b[0m\u001b[0m\n",
      "\u001b[1;32m~\\anaconda3\\lib\\site-packages\\pandas\\core\\common.py\u001b[0m in \u001b[0;36mall_none\u001b[1;34m(*args)\u001b[0m\n\u001b[0;32m    194\u001b[0m \u001b[1;33m\u001b[0m\u001b[0m\n\u001b[0;32m    195\u001b[0m \u001b[1;33m\u001b[0m\u001b[0m\n\u001b[1;32m--> 196\u001b[1;33m \u001b[1;32mdef\u001b[0m \u001b[0mall_none\u001b[0m\u001b[1;33m(\u001b[0m\u001b[1;33m*\u001b[0m\u001b[0margs\u001b[0m\u001b[1;33m)\u001b[0m \u001b[1;33m->\u001b[0m \u001b[0mbool\u001b[0m\u001b[1;33m:\u001b[0m\u001b[1;33m\u001b[0m\u001b[1;33m\u001b[0m\u001b[0m\n\u001b[0m\u001b[0;32m    197\u001b[0m     \"\"\"\n\u001b[0;32m    198\u001b[0m     \u001b[0mReturns\u001b[0m \u001b[0ma\u001b[0m \u001b[0mboolean\u001b[0m \u001b[0mindicating\u001b[0m \u001b[1;32mif\u001b[0m \u001b[0mall\u001b[0m \u001b[0marguments\u001b[0m \u001b[0mare\u001b[0m \u001b[1;32mNone\u001b[0m\u001b[1;33m.\u001b[0m\u001b[1;33m\u001b[0m\u001b[1;33m\u001b[0m\u001b[0m\n",
      "\u001b[1;31mKeyboardInterrupt\u001b[0m: "
     ]
    }
   ],
   "source": [
    "df = pd.read_csv('tweets.csv',dtype=object, sep = ';')"
   ]
  },
  {
   "cell_type": "code",
   "execution_count": null,
   "id": "398183ed",
   "metadata": {},
   "outputs": [],
   "source": [
    "df['timestamp'] =  pd.to_datetime(df['timestamp'],errors='coerce')"
   ]
  },
  {
   "cell_type": "code",
   "execution_count": null,
   "id": "d0936ea0",
   "metadata": {},
   "outputs": [],
   "source": [
    "mask = (df['timestamp'].dt.date > datetime(2018, 11, 23).date()) & (df['timestamp'].dt.date <= datetime(2019, 3, 29).date())\n",
    "df = df.loc[mask]"
   ]
  },
  {
   "cell_type": "code",
   "execution_count": null,
   "id": "9396a529",
   "metadata": {},
   "outputs": [],
   "source": [
    "df.shape"
   ]
  },
  {
   "cell_type": "code",
   "execution_count": null,
   "id": "e3089ecc",
   "metadata": {},
   "outputs": [],
   "source": []
  },
  {
   "cell_type": "code",
   "execution_count": null,
   "id": "7699b524",
   "metadata": {},
   "outputs": [],
   "source": [
    "df.shape"
   ]
  },
  {
   "cell_type": "code",
   "execution_count": 138,
   "id": "1fc5d0c1",
   "metadata": {},
   "outputs": [],
   "source": [
    "def single_preprocessing(document):\n",
    "    \"\"\"\n",
    "    This function performs for a single text all preprocessing steps\n",
    "    parameter: text as string\n",
    "    output: list of that contains the preprocessed tokens\n",
    "    \"\"\"\n",
    "        \n",
    "    # preprosessing of the stopwords:\n",
    "    lemmatizer = WordNetLemmatizer()\n",
    "    \n",
    "    stop_words = list(set(stopwords.words('english')))\n",
    "    \n",
    "    preprocessed_stop_words = []\n",
    "    \n",
    "    for k in np.arange(len(stop_words)):\n",
    "        text= \"\"\n",
    "        for i in np.arange(len(stop_words[k])):\n",
    "            if stop_words[k][i].isalpha() or stop_words[k][i].isspace():\n",
    "                text += stop_words[k][i].lower()\n",
    "        text = lemmatizer.lemmatize(text)\n",
    "        preprocessed_stop_words.append(text)\n",
    "    \n",
    "    # preprosessing of the actual text\n",
    "    \n",
    "    # list containing the regexes to clean the texts for not wanted pattern\n",
    "    regex_list = ['https:(\\S){1,}','www.(\\S){1,}']\n",
    "    \n",
    "    # list to save the preprocessed text\n",
    "    preprocessed_document = []\n",
    "\n",
    "    # use the regex list to remove unwanted pattern\n",
    "    for i in np.arange(len(regex_list)):\n",
    "        document = re.sub(regex_list[i], '', document, count=0, flags=0)\n",
    "\n",
    "    # remove non-alphabetical chars except space and split the text into a list of tokens\n",
    "    text= \"\"\n",
    "    for i in np.arange(len(document)):\n",
    "        if document[i].isalpha() or document[i].isspace():\n",
    "            text += document[i].lower()\n",
    "    text_split = text.split()\n",
    "\n",
    "    # lemmatize each token and remove it if it is part of the stopwords\n",
    "    #print(\"Before:\",len(text_split))\n",
    "    for i in text_split:\n",
    "        if i not in preprocessed_stop_words:\n",
    "            preprocessed_document.append(i)\n",
    "            \n",
    "#     print(\"After:\",len(preprocessed_document))\n",
    "    \n",
    "    \n",
    "    return ' '.join(preprocessed_document)"
   ]
  },
  {
   "cell_type": "code",
   "execution_count": 139,
   "id": "d134f049",
   "metadata": {},
   "outputs": [],
   "source": [
    "def nested_preprocessing(corpus):\n",
    "    \"\"\"\n",
    "    This function performs for a list of texts all preprocessing steps\n",
    "    parameter: list of texts\n",
    "    output: list of lists containing where each contained lists contains the preprocessed tokens\n",
    "    \"\"\"\n",
    "    \n",
    "    preprocessed_corpus = [single_preprocessing(k) for k in corpus]\n",
    "\n",
    "    return preprocessed_corpus"
   ]
  },
  {
   "cell_type": "code",
   "execution_count": 140,
   "id": "3ee873f8",
   "metadata": {},
   "outputs": [],
   "source": [
    "df = df.dropna(subset=['text'])"
   ]
  },
  {
   "cell_type": "code",
   "execution_count": 141,
   "id": "103da238",
   "metadata": {},
   "outputs": [],
   "source": [
    "df['preprocessed_text'] = df4['text'].apply(single_preprocessing)"
   ]
  },
  {
   "cell_type": "code",
   "execution_count": null,
   "id": "cda86fdc",
   "metadata": {},
   "outputs": [
    {
     "name": "stdout",
     "output_type": "stream",
     "text": [
      "No features in text\n",
      "No features in text\n",
      "No features in text\n",
      "No features in text\n",
      "No features in text\n",
      "No features in text\n",
      "No features in text\n",
      "No features in text\n",
      "No features in text\n",
      "No features in text\n",
      "No features in text\n",
      "No features in text\n",
      "No features in text\n"
     ]
    }
   ],
   "source": [
    "language = []\n",
    "\n",
    "for key, value in enumerate(df['preprocessed_text']):\n",
    "    try:\n",
    "        lang = detect(value)\n",
    "        language.append(lang)\n",
    "    except:\n",
    "        language.append('no_language')"
   ]
  },
  {
   "cell_type": "code",
   "execution_count": null,
   "id": "b02b603d",
   "metadata": {},
   "outputs": [],
   "source": [
    "df['language'] = language"
   ]
  },
  {
   "cell_type": "code",
   "execution_count": null,
   "id": "ae19f789",
   "metadata": {},
   "outputs": [],
   "source": [
    "df['language'].value_counts()"
   ]
  },
  {
   "cell_type": "code",
   "execution_count": null,
   "id": "0f27dcda",
   "metadata": {},
   "outputs": [],
   "source": [
    "df = df[df['language'] == 'en']"
   ]
  },
  {
   "cell_type": "code",
   "execution_count": 73,
   "id": "6220da49",
   "metadata": {},
   "outputs": [],
   "source": [
    "df = df[df['text'].str.contains('Giveaway')==False]\n",
    "df = df[df['text'].str.contains('Cashback')==False]\n",
    "df = df[df['text'].str.contains('Airdrop')==False]\n",
    "df = df[df['text'].str.contains('nft')==False]\n",
    "df = df[df['text'].str.contains('giveaway')==False]\n",
    "df = df[df['text'].str.contains('giveaway')==False]"
   ]
  },
  {
   "cell_type": "code",
   "execution_count": 76,
   "id": "abc303f5",
   "metadata": {},
   "outputs": [],
   "source": [
    "df.to_csv('processed_tweets.csv', index=False)"
   ]
  },
  {
   "cell_type": "code",
   "execution_count": 90,
   "id": "8a9a55b5",
   "metadata": {},
   "outputs": [],
   "source": [
    "df = pd.read_csv('processed_tweets.csv',dtype=object, sep = ',')"
   ]
  },
  {
   "cell_type": "code",
   "execution_count": 91,
   "id": "9f73c8ff",
   "metadata": {},
   "outputs": [],
   "source": [
    "df['timestamp'] =  pd.to_datetime(df['timestamp'],errors='coerce')"
   ]
  },
  {
   "cell_type": "code",
   "execution_count": 92,
   "id": "ed2714c4",
   "metadata": {},
   "outputs": [],
   "source": [
    "df['likes'] = df['likes'].astype(int)\n",
    "df['retweets'] = df['retweets'].astype(int)"
   ]
  },
  {
   "cell_type": "code",
   "execution_count": 42,
   "id": "f1e72d78",
   "metadata": {},
   "outputs": [],
   "source": [
    "df_test = df.head(10).copy()"
   ]
  },
  {
   "cell_type": "code",
   "execution_count": 6,
   "id": "4a31a30e",
   "metadata": {},
   "outputs": [],
   "source": [
    "# mask = (df['likes'] > 5) | (df['retweets'] > 5)"
   ]
  },
  {
   "cell_type": "code",
   "execution_count": 7,
   "id": "aa77ee3c",
   "metadata": {},
   "outputs": [],
   "source": [
    "# df = df.loc[mask]"
   ]
  },
  {
   "cell_type": "code",
   "execution_count": 93,
   "id": "68d32e36",
   "metadata": {},
   "outputs": [],
   "source": [
    "from vaderSentiment.vaderSentiment import SentimentIntensityAnalyzer\n",
    "from transformers import pipeline\n",
    "from transformers import AutoTokenizer, AutoModelForSequenceClassification"
   ]
  },
  {
   "cell_type": "code",
   "execution_count": 9,
   "id": "0c8b5d66",
   "metadata": {},
   "outputs": [],
   "source": [
    "# finBERT:\n",
    "tokenizer = AutoTokenizer.from_pretrained(\"ProsusAI/finbert\")\n",
    "\n",
    "model = AutoModelForSequenceClassification.from_pretrained(\"ProsusAI/finbert\",num_labels=3)\n",
    "nlp = pipeline(\"sentiment-analysis\",model=model,tokenizer=tokenizer)"
   ]
  },
  {
   "cell_type": "code",
   "execution_count": 10,
   "id": "a65e6d63",
   "metadata": {},
   "outputs": [],
   "source": [
    "analyzer = SentimentIntensityAnalyzer()"
   ]
  },
  {
   "cell_type": "code",
   "execution_count": 11,
   "id": "52471386",
   "metadata": {},
   "outputs": [],
   "source": [
    "def getSubjectivity(text):\n",
    "    return TextBlob(text).sentiment.subjectivity\n",
    " \n",
    "def getPolarity(text):\n",
    "    return TextBlob(text).sentiment.polarity\n",
    "\n",
    "def analyze_sentiment_pos(tweet):\n",
    "    sentiment_dict = analyzer.polarity_scores(tweet)\n",
    "    return str(sentiment_dict['pos'])\n",
    "\n",
    "def analyze_sentiment_Neg(tweet):\n",
    "    sentiment_dict = analyzer.polarity_scores(tweet)\n",
    "    return sentiment_dict['neg']\n",
    "\n",
    "def analyze_sentiment_Neu(tweet):\n",
    "    sentiment_dict = analyzer.polarity_scores(tweet)\n",
    "    return sentiment_dict['neu']\n",
    "\n",
    "def analyze_sentiment_Comp(tweet):\n",
    "    sentiment_dict = analyzer.polarity_scores(tweet)\n",
    "    return sentiment_dict['compound']\n",
    "\n",
    "def analyze_sentiment_finBERT_int(tweet):\n",
    "    sentiment_dict = nlp(tweet)\n",
    "    return sentiment_dict[0]['score']\n",
    "\n",
    "def analyze_sentiment_finBERT(tweet):\n",
    "    sentiment_dict = nlp(tweet)\n",
    "    if sentiment_dict[0]['label']=='positive':\n",
    "      return 2\n",
    "    elif sentiment_dict[0]['label']=='neutral':\n",
    "      return 1\n",
    "    else: return -1\n",
    "    \n",
    "def analyze_finBERT(tweet):\n",
    "    sentiment_dict = nlp(tweet)\n",
    "    if sentiment_dict[0]['label']=='positive':\n",
    "      return pd.Series([2, sentiment_dict[0]['score']])\n",
    "    elif sentiment_dict[0]['label']=='neutral':\n",
    "      return pd.Series([1, sentiment_dict[0]['score']])\n",
    "    else: return pd.Series([-1, sentiment_dict[0]['score']])"
   ]
  },
  {
   "cell_type": "code",
   "execution_count": null,
   "id": "77c3f2c1",
   "metadata": {},
   "outputs": [],
   "source": [
    "df[\"Vader_Comp\"] = df['preprocessed_text'].apply(analyze_sentiment_Comp)\n",
    "df[\"Vader_Pos\"] = df['preprocessed_text'].apply(analyze_sentiment_pos)\n",
    "df[\"Vader_Neg\"] = df['preprocessed_text'].apply(analyze_sentiment_Neg)\n",
    "df[\"Vader_Neu\"] = df['preprocessed_text'].apply(analyze_sentiment_Neu)"
   ]
  },
  {
   "cell_type": "code",
   "execution_count": 97,
   "id": "ddfc309d",
   "metadata": {},
   "outputs": [],
   "source": [
    "from tqdm import tqdm"
   ]
  },
  {
   "cell_type": "code",
   "execution_count": 98,
   "id": "8caa547d",
   "metadata": {},
   "outputs": [
    {
     "ename": "NameError",
     "evalue": "name 'df_test' is not defined",
     "output_type": "error",
     "traceback": [
      "\u001b[1;31m---------------------------------------------------------------------------\u001b[0m",
      "\u001b[1;31mNameError\u001b[0m                                 Traceback (most recent call last)",
      "\u001b[1;32m~\\AppData\\Local\\Temp/ipykernel_7156/2605660160.py\u001b[0m in \u001b[0;36m<module>\u001b[1;34m\u001b[0m\n\u001b[0;32m      2\u001b[0m \u001b[1;33m\u001b[0m\u001b[0m\n\u001b[0;32m      3\u001b[0m \u001b[1;31m# Iterate over the column values of a certain column\u001b[0m\u001b[1;33m\u001b[0m\u001b[1;33m\u001b[0m\u001b[0m\n\u001b[1;32m----> 4\u001b[1;33m \u001b[1;32mfor\u001b[0m \u001b[0mvalue\u001b[0m \u001b[1;32min\u001b[0m \u001b[0mtqdm\u001b[0m\u001b[1;33m(\u001b[0m\u001b[0mdf_test\u001b[0m\u001b[1;33m[\u001b[0m\u001b[1;34m'preprocessed_text'\u001b[0m\u001b[1;33m]\u001b[0m\u001b[1;33m)\u001b[0m\u001b[1;33m:\u001b[0m\u001b[1;33m\u001b[0m\u001b[1;33m\u001b[0m\u001b[0m\n\u001b[0m\u001b[0;32m      5\u001b[0m     \u001b[1;31m# Perform the resource-intensive operation\u001b[0m\u001b[1;33m\u001b[0m\u001b[1;33m\u001b[0m\u001b[0m\n\u001b[0;32m      6\u001b[0m     \u001b[0mresult\u001b[0m \u001b[1;33m=\u001b[0m \u001b[0manalyze_finBERT\u001b[0m\u001b[1;33m(\u001b[0m\u001b[0mvalue\u001b[0m\u001b[1;33m)\u001b[0m\u001b[1;33m\u001b[0m\u001b[1;33m\u001b[0m\u001b[0m\n",
      "\u001b[1;31mNameError\u001b[0m: name 'df_test' is not defined"
     ]
    }
   ],
   "source": [
    "results = []\n",
    "\n",
    "# Iterate over the column values of a certain column\n",
    "for value in tqdm(df_test['preprocessed_text']):\n",
    "    # Perform the resource-intensive operation\n",
    "    result = analyze_finBERT(value)\n",
    "    results.append(result)\n",
    "\n",
    "# Create a new column in the dataframe with the results\n",
    "df_test[[\"BERT_Sentiment\", \"BERT_SCORE\"]] = results"
   ]
  },
  {
   "cell_type": "code",
   "execution_count": null,
   "id": "3b87bc43",
   "metadata": {},
   "outputs": [],
   "source": [
    "df.to_csv('bert_tweets.csv', index=False)"
   ]
  },
  {
   "cell_type": "code",
   "execution_count": 94,
   "id": "ff90b6f5",
   "metadata": {},
   "outputs": [
    {
     "name": "stderr",
     "output_type": "stream",
     "text": [
      "Some weights of the model checkpoint at cardiffnlp/twitter-roberta-base-sentiment-latest were not used when initializing RobertaForSequenceClassification: ['roberta.pooler.dense.weight', 'roberta.pooler.dense.bias']\n",
      "- This IS expected if you are initializing RobertaForSequenceClassification from the checkpoint of a model trained on another task or with another architecture (e.g. initializing a BertForSequenceClassification model from a BertForPreTraining model).\n",
      "- This IS NOT expected if you are initializing RobertaForSequenceClassification from the checkpoint of a model that you expect to be exactly identical (initializing a BertForSequenceClassification model from a BertForSequenceClassification model).\n"
     ]
    }
   ],
   "source": [
    "# twitter-roberta-base-sentiment-latest:\n",
    "MODEL = f\"cardiffnlp/twitter-roberta-base-sentiment-latest\"\n",
    "tokenizer = AutoTokenizer.from_pretrained(MODEL)\n",
    "\n",
    "model = AutoModelForSequenceClassification.from_pretrained(MODEL)\n",
    "nlp = pipeline(\"sentiment-analysis\",model=model,tokenizer=tokenizer)"
   ]
  },
  {
   "cell_type": "code",
   "execution_count": 95,
   "id": "9c3454ae",
   "metadata": {},
   "outputs": [],
   "source": [
    "def analyze_sentiment_roberta_int(tweet):\n",
    "    sentiment_dict = nlp(tweet)\n",
    "    return sentiment_dict[0]['score']\n",
    "\n",
    "def analyze_sentiment_roberta(tweet):\n",
    "    sentiment_dict = nlp(tweet)\n",
    "    if sentiment_dict[0]['label']=='positive':\n",
    "      return 2\n",
    "    elif sentiment_dict[0]['label']=='neutral':\n",
    "      return 1\n",
    "    else: return -1\n",
    "    \n",
    "def analyze_roberta(tweet):\n",
    "    sentiment_dict = nlp(tweet)\n",
    "    if sentiment_dict[0]['label']=='positive':\n",
    "      return pd.Series([2, sentiment_dict[0]['score']])\n",
    "    elif sentiment_dict[0]['label']=='neutral':\n",
    "      return pd.Series([1, sentiment_dict[0]['score']])\n",
    "    else: return pd.Series([-1, sentiment_dict[0]['score']])"
   ]
  },
  {
   "cell_type": "code",
   "execution_count": 99,
   "id": "464e0f6d",
   "metadata": {},
   "outputs": [
    {
     "name": "stderr",
     "output_type": "stream",
     "text": [
      "  0%|          | 870/417006 [03:56<31:23:47,  3.68it/s]\n"
     ]
    },
    {
     "ename": "KeyboardInterrupt",
     "evalue": "",
     "output_type": "error",
     "traceback": [
      "\u001b[1;31m---------------------------------------------------------------------------\u001b[0m",
      "\u001b[1;31mKeyboardInterrupt\u001b[0m                         Traceback (most recent call last)",
      "\u001b[1;32m~\\AppData\\Local\\Temp/ipykernel_7156/4015825308.py\u001b[0m in \u001b[0;36m<module>\u001b[1;34m\u001b[0m\n\u001b[0;32m      4\u001b[0m \u001b[1;32mfor\u001b[0m \u001b[0mvalue\u001b[0m \u001b[1;32min\u001b[0m \u001b[0mtqdm\u001b[0m\u001b[1;33m(\u001b[0m\u001b[0mdf\u001b[0m\u001b[1;33m[\u001b[0m\u001b[1;34m'text'\u001b[0m\u001b[1;33m]\u001b[0m\u001b[1;33m)\u001b[0m\u001b[1;33m:\u001b[0m\u001b[1;33m\u001b[0m\u001b[1;33m\u001b[0m\u001b[0m\n\u001b[0;32m      5\u001b[0m     \u001b[1;31m# Perform the resource-intensive operation\u001b[0m\u001b[1;33m\u001b[0m\u001b[1;33m\u001b[0m\u001b[0m\n\u001b[1;32m----> 6\u001b[1;33m     \u001b[0mresult\u001b[0m \u001b[1;33m=\u001b[0m \u001b[0manalyze_roberta\u001b[0m\u001b[1;33m(\u001b[0m\u001b[0mvalue\u001b[0m\u001b[1;33m)\u001b[0m\u001b[1;33m\u001b[0m\u001b[1;33m\u001b[0m\u001b[0m\n\u001b[0m\u001b[0;32m      7\u001b[0m     \u001b[0mresults\u001b[0m\u001b[1;33m.\u001b[0m\u001b[0mappend\u001b[0m\u001b[1;33m(\u001b[0m\u001b[0mresult\u001b[0m\u001b[1;33m)\u001b[0m\u001b[1;33m\u001b[0m\u001b[1;33m\u001b[0m\u001b[0m\n\u001b[0;32m      8\u001b[0m \u001b[1;33m\u001b[0m\u001b[0m\n",
      "\u001b[1;32m~\\AppData\\Local\\Temp/ipykernel_7156/4021878359.py\u001b[0m in \u001b[0;36manalyze_roberta\u001b[1;34m(tweet)\u001b[0m\n\u001b[0;32m     12\u001b[0m \u001b[1;33m\u001b[0m\u001b[0m\n\u001b[0;32m     13\u001b[0m \u001b[1;32mdef\u001b[0m \u001b[0manalyze_roberta\u001b[0m\u001b[1;33m(\u001b[0m\u001b[0mtweet\u001b[0m\u001b[1;33m)\u001b[0m\u001b[1;33m:\u001b[0m\u001b[1;33m\u001b[0m\u001b[1;33m\u001b[0m\u001b[0m\n\u001b[1;32m---> 14\u001b[1;33m     \u001b[0msentiment_dict\u001b[0m \u001b[1;33m=\u001b[0m \u001b[0mnlp\u001b[0m\u001b[1;33m(\u001b[0m\u001b[0mtweet\u001b[0m\u001b[1;33m)\u001b[0m\u001b[1;33m\u001b[0m\u001b[1;33m\u001b[0m\u001b[0m\n\u001b[0m\u001b[0;32m     15\u001b[0m     \u001b[1;32mif\u001b[0m \u001b[0msentiment_dict\u001b[0m\u001b[1;33m[\u001b[0m\u001b[1;36m0\u001b[0m\u001b[1;33m]\u001b[0m\u001b[1;33m[\u001b[0m\u001b[1;34m'label'\u001b[0m\u001b[1;33m]\u001b[0m\u001b[1;33m==\u001b[0m\u001b[1;34m'positive'\u001b[0m\u001b[1;33m:\u001b[0m\u001b[1;33m\u001b[0m\u001b[1;33m\u001b[0m\u001b[0m\n\u001b[0;32m     16\u001b[0m       \u001b[1;32mreturn\u001b[0m \u001b[0mpd\u001b[0m\u001b[1;33m.\u001b[0m\u001b[0mSeries\u001b[0m\u001b[1;33m(\u001b[0m\u001b[1;33m[\u001b[0m\u001b[1;36m2\u001b[0m\u001b[1;33m,\u001b[0m \u001b[0msentiment_dict\u001b[0m\u001b[1;33m[\u001b[0m\u001b[1;36m0\u001b[0m\u001b[1;33m]\u001b[0m\u001b[1;33m[\u001b[0m\u001b[1;34m'score'\u001b[0m\u001b[1;33m]\u001b[0m\u001b[1;33m]\u001b[0m\u001b[1;33m)\u001b[0m\u001b[1;33m\u001b[0m\u001b[1;33m\u001b[0m\u001b[0m\n",
      "\u001b[1;32m~\\anaconda3\\lib\\site-packages\\transformers\\pipelines\\text_classification.py\u001b[0m in \u001b[0;36m__call__\u001b[1;34m(self, *args, **kwargs)\u001b[0m\n\u001b[0;32m    153\u001b[0m             \u001b[0mIf\u001b[0m\u001b[0;31m \u001b[0m\u001b[0;31m`\u001b[0m\u001b[0mtop_k\u001b[0m\u001b[0;31m`\u001b[0m \u001b[1;32mis\u001b[0m \u001b[0mused\u001b[0m\u001b[1;33m,\u001b[0m \u001b[0mone\u001b[0m \u001b[0msuch\u001b[0m \u001b[0mdictionary\u001b[0m \u001b[1;32mis\u001b[0m \u001b[0mreturned\u001b[0m \u001b[0mper\u001b[0m \u001b[0mlabel\u001b[0m\u001b[1;33m.\u001b[0m\u001b[1;33m\u001b[0m\u001b[1;33m\u001b[0m\u001b[0m\n\u001b[0;32m    154\u001b[0m         \"\"\"\n\u001b[1;32m--> 155\u001b[1;33m         \u001b[0mresult\u001b[0m \u001b[1;33m=\u001b[0m \u001b[0msuper\u001b[0m\u001b[1;33m(\u001b[0m\u001b[1;33m)\u001b[0m\u001b[1;33m.\u001b[0m\u001b[0m__call__\u001b[0m\u001b[1;33m(\u001b[0m\u001b[1;33m*\u001b[0m\u001b[0margs\u001b[0m\u001b[1;33m,\u001b[0m \u001b[1;33m**\u001b[0m\u001b[0mkwargs\u001b[0m\u001b[1;33m)\u001b[0m\u001b[1;33m\u001b[0m\u001b[1;33m\u001b[0m\u001b[0m\n\u001b[0m\u001b[0;32m    156\u001b[0m         \u001b[1;31m# TODO try and retrieve it in a nicer way from _sanitize_parameters.\u001b[0m\u001b[1;33m\u001b[0m\u001b[1;33m\u001b[0m\u001b[0m\n\u001b[0;32m    157\u001b[0m         \u001b[0m_legacy\u001b[0m \u001b[1;33m=\u001b[0m \u001b[1;34m\"top_k\"\u001b[0m \u001b[1;32mnot\u001b[0m \u001b[1;32min\u001b[0m \u001b[0mkwargs\u001b[0m\u001b[1;33m\u001b[0m\u001b[1;33m\u001b[0m\u001b[0m\n",
      "\u001b[1;32m~\\anaconda3\\lib\\site-packages\\transformers\\pipelines\\base.py\u001b[0m in \u001b[0;36m__call__\u001b[1;34m(self, inputs, num_workers, batch_size, *args, **kwargs)\u001b[0m\n\u001b[0;32m   1072\u001b[0m             \u001b[1;32mreturn\u001b[0m \u001b[0mself\u001b[0m\u001b[1;33m.\u001b[0m\u001b[0miterate\u001b[0m\u001b[1;33m(\u001b[0m\u001b[0minputs\u001b[0m\u001b[1;33m,\u001b[0m \u001b[0mpreprocess_params\u001b[0m\u001b[1;33m,\u001b[0m \u001b[0mforward_params\u001b[0m\u001b[1;33m,\u001b[0m \u001b[0mpostprocess_params\u001b[0m\u001b[1;33m)\u001b[0m\u001b[1;33m\u001b[0m\u001b[1;33m\u001b[0m\u001b[0m\n\u001b[0;32m   1073\u001b[0m         \u001b[1;32melse\u001b[0m\u001b[1;33m:\u001b[0m\u001b[1;33m\u001b[0m\u001b[1;33m\u001b[0m\u001b[0m\n\u001b[1;32m-> 1074\u001b[1;33m             \u001b[1;32mreturn\u001b[0m \u001b[0mself\u001b[0m\u001b[1;33m.\u001b[0m\u001b[0mrun_single\u001b[0m\u001b[1;33m(\u001b[0m\u001b[0minputs\u001b[0m\u001b[1;33m,\u001b[0m \u001b[0mpreprocess_params\u001b[0m\u001b[1;33m,\u001b[0m \u001b[0mforward_params\u001b[0m\u001b[1;33m,\u001b[0m \u001b[0mpostprocess_params\u001b[0m\u001b[1;33m)\u001b[0m\u001b[1;33m\u001b[0m\u001b[1;33m\u001b[0m\u001b[0m\n\u001b[0m\u001b[0;32m   1075\u001b[0m \u001b[1;33m\u001b[0m\u001b[0m\n\u001b[0;32m   1076\u001b[0m     \u001b[1;32mdef\u001b[0m \u001b[0mrun_multi\u001b[0m\u001b[1;33m(\u001b[0m\u001b[0mself\u001b[0m\u001b[1;33m,\u001b[0m \u001b[0minputs\u001b[0m\u001b[1;33m,\u001b[0m \u001b[0mpreprocess_params\u001b[0m\u001b[1;33m,\u001b[0m \u001b[0mforward_params\u001b[0m\u001b[1;33m,\u001b[0m \u001b[0mpostprocess_params\u001b[0m\u001b[1;33m)\u001b[0m\u001b[1;33m:\u001b[0m\u001b[1;33m\u001b[0m\u001b[1;33m\u001b[0m\u001b[0m\n",
      "\u001b[1;32m~\\anaconda3\\lib\\site-packages\\transformers\\pipelines\\base.py\u001b[0m in \u001b[0;36mrun_single\u001b[1;34m(self, inputs, preprocess_params, forward_params, postprocess_params)\u001b[0m\n\u001b[0;32m   1079\u001b[0m     \u001b[1;32mdef\u001b[0m \u001b[0mrun_single\u001b[0m\u001b[1;33m(\u001b[0m\u001b[0mself\u001b[0m\u001b[1;33m,\u001b[0m \u001b[0minputs\u001b[0m\u001b[1;33m,\u001b[0m \u001b[0mpreprocess_params\u001b[0m\u001b[1;33m,\u001b[0m \u001b[0mforward_params\u001b[0m\u001b[1;33m,\u001b[0m \u001b[0mpostprocess_params\u001b[0m\u001b[1;33m)\u001b[0m\u001b[1;33m:\u001b[0m\u001b[1;33m\u001b[0m\u001b[1;33m\u001b[0m\u001b[0m\n\u001b[0;32m   1080\u001b[0m         \u001b[0mmodel_inputs\u001b[0m \u001b[1;33m=\u001b[0m \u001b[0mself\u001b[0m\u001b[1;33m.\u001b[0m\u001b[0mpreprocess\u001b[0m\u001b[1;33m(\u001b[0m\u001b[0minputs\u001b[0m\u001b[1;33m,\u001b[0m \u001b[1;33m**\u001b[0m\u001b[0mpreprocess_params\u001b[0m\u001b[1;33m)\u001b[0m\u001b[1;33m\u001b[0m\u001b[1;33m\u001b[0m\u001b[0m\n\u001b[1;32m-> 1081\u001b[1;33m         \u001b[0mmodel_outputs\u001b[0m \u001b[1;33m=\u001b[0m \u001b[0mself\u001b[0m\u001b[1;33m.\u001b[0m\u001b[0mforward\u001b[0m\u001b[1;33m(\u001b[0m\u001b[0mmodel_inputs\u001b[0m\u001b[1;33m,\u001b[0m \u001b[1;33m**\u001b[0m\u001b[0mforward_params\u001b[0m\u001b[1;33m)\u001b[0m\u001b[1;33m\u001b[0m\u001b[1;33m\u001b[0m\u001b[0m\n\u001b[0m\u001b[0;32m   1082\u001b[0m         \u001b[0moutputs\u001b[0m \u001b[1;33m=\u001b[0m \u001b[0mself\u001b[0m\u001b[1;33m.\u001b[0m\u001b[0mpostprocess\u001b[0m\u001b[1;33m(\u001b[0m\u001b[0mmodel_outputs\u001b[0m\u001b[1;33m,\u001b[0m \u001b[1;33m**\u001b[0m\u001b[0mpostprocess_params\u001b[0m\u001b[1;33m)\u001b[0m\u001b[1;33m\u001b[0m\u001b[1;33m\u001b[0m\u001b[0m\n\u001b[0;32m   1083\u001b[0m         \u001b[1;32mreturn\u001b[0m \u001b[0moutputs\u001b[0m\u001b[1;33m\u001b[0m\u001b[1;33m\u001b[0m\u001b[0m\n",
      "\u001b[1;32m~\\anaconda3\\lib\\site-packages\\transformers\\pipelines\\base.py\u001b[0m in \u001b[0;36mforward\u001b[1;34m(self, model_inputs, **forward_params)\u001b[0m\n\u001b[0;32m    988\u001b[0m                 \u001b[1;32mwith\u001b[0m \u001b[0minference_context\u001b[0m\u001b[1;33m(\u001b[0m\u001b[1;33m)\u001b[0m\u001b[1;33m:\u001b[0m\u001b[1;33m\u001b[0m\u001b[1;33m\u001b[0m\u001b[0m\n\u001b[0;32m    989\u001b[0m                     \u001b[0mmodel_inputs\u001b[0m \u001b[1;33m=\u001b[0m \u001b[0mself\u001b[0m\u001b[1;33m.\u001b[0m\u001b[0m_ensure_tensor_on_device\u001b[0m\u001b[1;33m(\u001b[0m\u001b[0mmodel_inputs\u001b[0m\u001b[1;33m,\u001b[0m \u001b[0mdevice\u001b[0m\u001b[1;33m=\u001b[0m\u001b[0mself\u001b[0m\u001b[1;33m.\u001b[0m\u001b[0mdevice\u001b[0m\u001b[1;33m)\u001b[0m\u001b[1;33m\u001b[0m\u001b[1;33m\u001b[0m\u001b[0m\n\u001b[1;32m--> 990\u001b[1;33m                     \u001b[0mmodel_outputs\u001b[0m \u001b[1;33m=\u001b[0m \u001b[0mself\u001b[0m\u001b[1;33m.\u001b[0m\u001b[0m_forward\u001b[0m\u001b[1;33m(\u001b[0m\u001b[0mmodel_inputs\u001b[0m\u001b[1;33m,\u001b[0m \u001b[1;33m**\u001b[0m\u001b[0mforward_params\u001b[0m\u001b[1;33m)\u001b[0m\u001b[1;33m\u001b[0m\u001b[1;33m\u001b[0m\u001b[0m\n\u001b[0m\u001b[0;32m    991\u001b[0m                     \u001b[0mmodel_outputs\u001b[0m \u001b[1;33m=\u001b[0m \u001b[0mself\u001b[0m\u001b[1;33m.\u001b[0m\u001b[0m_ensure_tensor_on_device\u001b[0m\u001b[1;33m(\u001b[0m\u001b[0mmodel_outputs\u001b[0m\u001b[1;33m,\u001b[0m \u001b[0mdevice\u001b[0m\u001b[1;33m=\u001b[0m\u001b[0mtorch\u001b[0m\u001b[1;33m.\u001b[0m\u001b[0mdevice\u001b[0m\u001b[1;33m(\u001b[0m\u001b[1;34m\"cpu\"\u001b[0m\u001b[1;33m)\u001b[0m\u001b[1;33m)\u001b[0m\u001b[1;33m\u001b[0m\u001b[1;33m\u001b[0m\u001b[0m\n\u001b[0;32m    992\u001b[0m             \u001b[1;32melse\u001b[0m\u001b[1;33m:\u001b[0m\u001b[1;33m\u001b[0m\u001b[1;33m\u001b[0m\u001b[0m\n",
      "\u001b[1;32m~\\anaconda3\\lib\\site-packages\\transformers\\pipelines\\text_classification.py\u001b[0m in \u001b[0;36m_forward\u001b[1;34m(self, model_inputs)\u001b[0m\n\u001b[0;32m    180\u001b[0m \u001b[1;33m\u001b[0m\u001b[0m\n\u001b[0;32m    181\u001b[0m     \u001b[1;32mdef\u001b[0m \u001b[0m_forward\u001b[0m\u001b[1;33m(\u001b[0m\u001b[0mself\u001b[0m\u001b[1;33m,\u001b[0m \u001b[0mmodel_inputs\u001b[0m\u001b[1;33m)\u001b[0m\u001b[1;33m:\u001b[0m\u001b[1;33m\u001b[0m\u001b[1;33m\u001b[0m\u001b[0m\n\u001b[1;32m--> 182\u001b[1;33m         \u001b[1;32mreturn\u001b[0m \u001b[0mself\u001b[0m\u001b[1;33m.\u001b[0m\u001b[0mmodel\u001b[0m\u001b[1;33m(\u001b[0m\u001b[1;33m**\u001b[0m\u001b[0mmodel_inputs\u001b[0m\u001b[1;33m)\u001b[0m\u001b[1;33m\u001b[0m\u001b[1;33m\u001b[0m\u001b[0m\n\u001b[0m\u001b[0;32m    183\u001b[0m \u001b[1;33m\u001b[0m\u001b[0m\n\u001b[0;32m    184\u001b[0m     \u001b[1;32mdef\u001b[0m \u001b[0mpostprocess\u001b[0m\u001b[1;33m(\u001b[0m\u001b[0mself\u001b[0m\u001b[1;33m,\u001b[0m \u001b[0mmodel_outputs\u001b[0m\u001b[1;33m,\u001b[0m \u001b[0mfunction_to_apply\u001b[0m\u001b[1;33m=\u001b[0m\u001b[1;32mNone\u001b[0m\u001b[1;33m,\u001b[0m \u001b[0mtop_k\u001b[0m\u001b[1;33m=\u001b[0m\u001b[1;36m1\u001b[0m\u001b[1;33m,\u001b[0m \u001b[0m_legacy\u001b[0m\u001b[1;33m=\u001b[0m\u001b[1;32mTrue\u001b[0m\u001b[1;33m)\u001b[0m\u001b[1;33m:\u001b[0m\u001b[1;33m\u001b[0m\u001b[1;33m\u001b[0m\u001b[0m\n",
      "\u001b[1;32m~\\anaconda3\\lib\\site-packages\\torch\\nn\\modules\\module.py\u001b[0m in \u001b[0;36m_call_impl\u001b[1;34m(self, *input, **kwargs)\u001b[0m\n\u001b[0;32m   1128\u001b[0m         if not (self._backward_hooks or self._forward_hooks or self._forward_pre_hooks or _global_backward_hooks\n\u001b[0;32m   1129\u001b[0m                 or _global_forward_hooks or _global_forward_pre_hooks):\n\u001b[1;32m-> 1130\u001b[1;33m             \u001b[1;32mreturn\u001b[0m \u001b[0mforward_call\u001b[0m\u001b[1;33m(\u001b[0m\u001b[1;33m*\u001b[0m\u001b[0minput\u001b[0m\u001b[1;33m,\u001b[0m \u001b[1;33m**\u001b[0m\u001b[0mkwargs\u001b[0m\u001b[1;33m)\u001b[0m\u001b[1;33m\u001b[0m\u001b[1;33m\u001b[0m\u001b[0m\n\u001b[0m\u001b[0;32m   1131\u001b[0m         \u001b[1;31m# Do not call functions when jit is used\u001b[0m\u001b[1;33m\u001b[0m\u001b[1;33m\u001b[0m\u001b[0m\n\u001b[0;32m   1132\u001b[0m         \u001b[0mfull_backward_hooks\u001b[0m\u001b[1;33m,\u001b[0m \u001b[0mnon_full_backward_hooks\u001b[0m \u001b[1;33m=\u001b[0m \u001b[1;33m[\u001b[0m\u001b[1;33m]\u001b[0m\u001b[1;33m,\u001b[0m \u001b[1;33m[\u001b[0m\u001b[1;33m]\u001b[0m\u001b[1;33m\u001b[0m\u001b[1;33m\u001b[0m\u001b[0m\n",
      "\u001b[1;32m~\\anaconda3\\lib\\site-packages\\transformers\\models\\roberta\\modeling_roberta.py\u001b[0m in \u001b[0;36mforward\u001b[1;34m(self, input_ids, attention_mask, token_type_ids, position_ids, head_mask, inputs_embeds, labels, output_attentions, output_hidden_states, return_dict)\u001b[0m\n\u001b[0;32m   1213\u001b[0m         \u001b[0mreturn_dict\u001b[0m \u001b[1;33m=\u001b[0m \u001b[0mreturn_dict\u001b[0m \u001b[1;32mif\u001b[0m \u001b[0mreturn_dict\u001b[0m \u001b[1;32mis\u001b[0m \u001b[1;32mnot\u001b[0m \u001b[1;32mNone\u001b[0m \u001b[1;32melse\u001b[0m \u001b[0mself\u001b[0m\u001b[1;33m.\u001b[0m\u001b[0mconfig\u001b[0m\u001b[1;33m.\u001b[0m\u001b[0muse_return_dict\u001b[0m\u001b[1;33m\u001b[0m\u001b[1;33m\u001b[0m\u001b[0m\n\u001b[0;32m   1214\u001b[0m \u001b[1;33m\u001b[0m\u001b[0m\n\u001b[1;32m-> 1215\u001b[1;33m         outputs = self.roberta(\n\u001b[0m\u001b[0;32m   1216\u001b[0m             \u001b[0minput_ids\u001b[0m\u001b[1;33m,\u001b[0m\u001b[1;33m\u001b[0m\u001b[1;33m\u001b[0m\u001b[0m\n\u001b[0;32m   1217\u001b[0m             \u001b[0mattention_mask\u001b[0m\u001b[1;33m=\u001b[0m\u001b[0mattention_mask\u001b[0m\u001b[1;33m,\u001b[0m\u001b[1;33m\u001b[0m\u001b[1;33m\u001b[0m\u001b[0m\n",
      "\u001b[1;32m~\\anaconda3\\lib\\site-packages\\torch\\nn\\modules\\module.py\u001b[0m in \u001b[0;36m_call_impl\u001b[1;34m(self, *input, **kwargs)\u001b[0m\n\u001b[0;32m   1128\u001b[0m         if not (self._backward_hooks or self._forward_hooks or self._forward_pre_hooks or _global_backward_hooks\n\u001b[0;32m   1129\u001b[0m                 or _global_forward_hooks or _global_forward_pre_hooks):\n\u001b[1;32m-> 1130\u001b[1;33m             \u001b[1;32mreturn\u001b[0m \u001b[0mforward_call\u001b[0m\u001b[1;33m(\u001b[0m\u001b[1;33m*\u001b[0m\u001b[0minput\u001b[0m\u001b[1;33m,\u001b[0m \u001b[1;33m**\u001b[0m\u001b[0mkwargs\u001b[0m\u001b[1;33m)\u001b[0m\u001b[1;33m\u001b[0m\u001b[1;33m\u001b[0m\u001b[0m\n\u001b[0m\u001b[0;32m   1131\u001b[0m         \u001b[1;31m# Do not call functions when jit is used\u001b[0m\u001b[1;33m\u001b[0m\u001b[1;33m\u001b[0m\u001b[0m\n\u001b[0;32m   1132\u001b[0m         \u001b[0mfull_backward_hooks\u001b[0m\u001b[1;33m,\u001b[0m \u001b[0mnon_full_backward_hooks\u001b[0m \u001b[1;33m=\u001b[0m \u001b[1;33m[\u001b[0m\u001b[1;33m]\u001b[0m\u001b[1;33m,\u001b[0m \u001b[1;33m[\u001b[0m\u001b[1;33m]\u001b[0m\u001b[1;33m\u001b[0m\u001b[1;33m\u001b[0m\u001b[0m\n",
      "\u001b[1;32m~\\anaconda3\\lib\\site-packages\\transformers\\models\\roberta\\modeling_roberta.py\u001b[0m in \u001b[0;36mforward\u001b[1;34m(self, input_ids, attention_mask, token_type_ids, position_ids, head_mask, inputs_embeds, encoder_hidden_states, encoder_attention_mask, past_key_values, use_cache, output_attentions, output_hidden_states, return_dict)\u001b[0m\n\u001b[0;32m    851\u001b[0m             \u001b[0mpast_key_values_length\u001b[0m\u001b[1;33m=\u001b[0m\u001b[0mpast_key_values_length\u001b[0m\u001b[1;33m,\u001b[0m\u001b[1;33m\u001b[0m\u001b[1;33m\u001b[0m\u001b[0m\n\u001b[0;32m    852\u001b[0m         )\n\u001b[1;32m--> 853\u001b[1;33m         encoder_outputs = self.encoder(\n\u001b[0m\u001b[0;32m    854\u001b[0m             \u001b[0membedding_output\u001b[0m\u001b[1;33m,\u001b[0m\u001b[1;33m\u001b[0m\u001b[1;33m\u001b[0m\u001b[0m\n\u001b[0;32m    855\u001b[0m             \u001b[0mattention_mask\u001b[0m\u001b[1;33m=\u001b[0m\u001b[0mextended_attention_mask\u001b[0m\u001b[1;33m,\u001b[0m\u001b[1;33m\u001b[0m\u001b[1;33m\u001b[0m\u001b[0m\n",
      "\u001b[1;32m~\\anaconda3\\lib\\site-packages\\torch\\nn\\modules\\module.py\u001b[0m in \u001b[0;36m_call_impl\u001b[1;34m(self, *input, **kwargs)\u001b[0m\n\u001b[0;32m   1128\u001b[0m         if not (self._backward_hooks or self._forward_hooks or self._forward_pre_hooks or _global_backward_hooks\n\u001b[0;32m   1129\u001b[0m                 or _global_forward_hooks or _global_forward_pre_hooks):\n\u001b[1;32m-> 1130\u001b[1;33m             \u001b[1;32mreturn\u001b[0m \u001b[0mforward_call\u001b[0m\u001b[1;33m(\u001b[0m\u001b[1;33m*\u001b[0m\u001b[0minput\u001b[0m\u001b[1;33m,\u001b[0m \u001b[1;33m**\u001b[0m\u001b[0mkwargs\u001b[0m\u001b[1;33m)\u001b[0m\u001b[1;33m\u001b[0m\u001b[1;33m\u001b[0m\u001b[0m\n\u001b[0m\u001b[0;32m   1131\u001b[0m         \u001b[1;31m# Do not call functions when jit is used\u001b[0m\u001b[1;33m\u001b[0m\u001b[1;33m\u001b[0m\u001b[0m\n\u001b[0;32m   1132\u001b[0m         \u001b[0mfull_backward_hooks\u001b[0m\u001b[1;33m,\u001b[0m \u001b[0mnon_full_backward_hooks\u001b[0m \u001b[1;33m=\u001b[0m \u001b[1;33m[\u001b[0m\u001b[1;33m]\u001b[0m\u001b[1;33m,\u001b[0m \u001b[1;33m[\u001b[0m\u001b[1;33m]\u001b[0m\u001b[1;33m\u001b[0m\u001b[1;33m\u001b[0m\u001b[0m\n",
      "\u001b[1;32m~\\anaconda3\\lib\\site-packages\\transformers\\models\\roberta\\modeling_roberta.py\u001b[0m in \u001b[0;36mforward\u001b[1;34m(self, hidden_states, attention_mask, head_mask, encoder_hidden_states, encoder_attention_mask, past_key_values, use_cache, output_attentions, output_hidden_states, return_dict)\u001b[0m\n\u001b[0;32m    525\u001b[0m                 )\n\u001b[0;32m    526\u001b[0m             \u001b[1;32melse\u001b[0m\u001b[1;33m:\u001b[0m\u001b[1;33m\u001b[0m\u001b[1;33m\u001b[0m\u001b[0m\n\u001b[1;32m--> 527\u001b[1;33m                 layer_outputs = layer_module(\n\u001b[0m\u001b[0;32m    528\u001b[0m                     \u001b[0mhidden_states\u001b[0m\u001b[1;33m,\u001b[0m\u001b[1;33m\u001b[0m\u001b[1;33m\u001b[0m\u001b[0m\n\u001b[0;32m    529\u001b[0m                     \u001b[0mattention_mask\u001b[0m\u001b[1;33m,\u001b[0m\u001b[1;33m\u001b[0m\u001b[1;33m\u001b[0m\u001b[0m\n",
      "\u001b[1;32m~\\anaconda3\\lib\\site-packages\\torch\\nn\\modules\\module.py\u001b[0m in \u001b[0;36m_call_impl\u001b[1;34m(self, *input, **kwargs)\u001b[0m\n\u001b[0;32m   1128\u001b[0m         if not (self._backward_hooks or self._forward_hooks or self._forward_pre_hooks or _global_backward_hooks\n\u001b[0;32m   1129\u001b[0m                 or _global_forward_hooks or _global_forward_pre_hooks):\n\u001b[1;32m-> 1130\u001b[1;33m             \u001b[1;32mreturn\u001b[0m \u001b[0mforward_call\u001b[0m\u001b[1;33m(\u001b[0m\u001b[1;33m*\u001b[0m\u001b[0minput\u001b[0m\u001b[1;33m,\u001b[0m \u001b[1;33m**\u001b[0m\u001b[0mkwargs\u001b[0m\u001b[1;33m)\u001b[0m\u001b[1;33m\u001b[0m\u001b[1;33m\u001b[0m\u001b[0m\n\u001b[0m\u001b[0;32m   1131\u001b[0m         \u001b[1;31m# Do not call functions when jit is used\u001b[0m\u001b[1;33m\u001b[0m\u001b[1;33m\u001b[0m\u001b[0m\n\u001b[0;32m   1132\u001b[0m         \u001b[0mfull_backward_hooks\u001b[0m\u001b[1;33m,\u001b[0m \u001b[0mnon_full_backward_hooks\u001b[0m \u001b[1;33m=\u001b[0m \u001b[1;33m[\u001b[0m\u001b[1;33m]\u001b[0m\u001b[1;33m,\u001b[0m \u001b[1;33m[\u001b[0m\u001b[1;33m]\u001b[0m\u001b[1;33m\u001b[0m\u001b[1;33m\u001b[0m\u001b[0m\n",
      "\u001b[1;32m~\\anaconda3\\lib\\site-packages\\transformers\\models\\roberta\\modeling_roberta.py\u001b[0m in \u001b[0;36mforward\u001b[1;34m(self, hidden_states, attention_mask, head_mask, encoder_hidden_states, encoder_attention_mask, past_key_value, output_attentions)\u001b[0m\n\u001b[0;32m    410\u001b[0m         \u001b[1;31m# decoder uni-directional self-attention cached key/values tuple is at positions 1,2\u001b[0m\u001b[1;33m\u001b[0m\u001b[1;33m\u001b[0m\u001b[0m\n\u001b[0;32m    411\u001b[0m         \u001b[0mself_attn_past_key_value\u001b[0m \u001b[1;33m=\u001b[0m \u001b[0mpast_key_value\u001b[0m\u001b[1;33m[\u001b[0m\u001b[1;33m:\u001b[0m\u001b[1;36m2\u001b[0m\u001b[1;33m]\u001b[0m \u001b[1;32mif\u001b[0m \u001b[0mpast_key_value\u001b[0m \u001b[1;32mis\u001b[0m \u001b[1;32mnot\u001b[0m \u001b[1;32mNone\u001b[0m \u001b[1;32melse\u001b[0m \u001b[1;32mNone\u001b[0m\u001b[1;33m\u001b[0m\u001b[1;33m\u001b[0m\u001b[0m\n\u001b[1;32m--> 412\u001b[1;33m         self_attention_outputs = self.attention(\n\u001b[0m\u001b[0;32m    413\u001b[0m             \u001b[0mhidden_states\u001b[0m\u001b[1;33m,\u001b[0m\u001b[1;33m\u001b[0m\u001b[1;33m\u001b[0m\u001b[0m\n\u001b[0;32m    414\u001b[0m             \u001b[0mattention_mask\u001b[0m\u001b[1;33m,\u001b[0m\u001b[1;33m\u001b[0m\u001b[1;33m\u001b[0m\u001b[0m\n",
      "\u001b[1;32m~\\anaconda3\\lib\\site-packages\\torch\\nn\\modules\\module.py\u001b[0m in \u001b[0;36m_call_impl\u001b[1;34m(self, *input, **kwargs)\u001b[0m\n\u001b[0;32m   1128\u001b[0m         if not (self._backward_hooks or self._forward_hooks or self._forward_pre_hooks or _global_backward_hooks\n\u001b[0;32m   1129\u001b[0m                 or _global_forward_hooks or _global_forward_pre_hooks):\n\u001b[1;32m-> 1130\u001b[1;33m             \u001b[1;32mreturn\u001b[0m \u001b[0mforward_call\u001b[0m\u001b[1;33m(\u001b[0m\u001b[1;33m*\u001b[0m\u001b[0minput\u001b[0m\u001b[1;33m,\u001b[0m \u001b[1;33m**\u001b[0m\u001b[0mkwargs\u001b[0m\u001b[1;33m)\u001b[0m\u001b[1;33m\u001b[0m\u001b[1;33m\u001b[0m\u001b[0m\n\u001b[0m\u001b[0;32m   1131\u001b[0m         \u001b[1;31m# Do not call functions when jit is used\u001b[0m\u001b[1;33m\u001b[0m\u001b[1;33m\u001b[0m\u001b[0m\n\u001b[0;32m   1132\u001b[0m         \u001b[0mfull_backward_hooks\u001b[0m\u001b[1;33m,\u001b[0m \u001b[0mnon_full_backward_hooks\u001b[0m \u001b[1;33m=\u001b[0m \u001b[1;33m[\u001b[0m\u001b[1;33m]\u001b[0m\u001b[1;33m,\u001b[0m \u001b[1;33m[\u001b[0m\u001b[1;33m]\u001b[0m\u001b[1;33m\u001b[0m\u001b[1;33m\u001b[0m\u001b[0m\n",
      "\u001b[1;32m~\\anaconda3\\lib\\site-packages\\transformers\\models\\roberta\\modeling_roberta.py\u001b[0m in \u001b[0;36mforward\u001b[1;34m(self, hidden_states, attention_mask, head_mask, encoder_hidden_states, encoder_attention_mask, past_key_value, output_attentions)\u001b[0m\n\u001b[0;32m    346\u001b[0m             \u001b[0moutput_attentions\u001b[0m\u001b[1;33m,\u001b[0m\u001b[1;33m\u001b[0m\u001b[1;33m\u001b[0m\u001b[0m\n\u001b[0;32m    347\u001b[0m         )\n\u001b[1;32m--> 348\u001b[1;33m         \u001b[0mattention_output\u001b[0m \u001b[1;33m=\u001b[0m \u001b[0mself\u001b[0m\u001b[1;33m.\u001b[0m\u001b[0moutput\u001b[0m\u001b[1;33m(\u001b[0m\u001b[0mself_outputs\u001b[0m\u001b[1;33m[\u001b[0m\u001b[1;36m0\u001b[0m\u001b[1;33m]\u001b[0m\u001b[1;33m,\u001b[0m \u001b[0mhidden_states\u001b[0m\u001b[1;33m)\u001b[0m\u001b[1;33m\u001b[0m\u001b[1;33m\u001b[0m\u001b[0m\n\u001b[0m\u001b[0;32m    349\u001b[0m         \u001b[0moutputs\u001b[0m \u001b[1;33m=\u001b[0m \u001b[1;33m(\u001b[0m\u001b[0mattention_output\u001b[0m\u001b[1;33m,\u001b[0m\u001b[1;33m)\u001b[0m \u001b[1;33m+\u001b[0m \u001b[0mself_outputs\u001b[0m\u001b[1;33m[\u001b[0m\u001b[1;36m1\u001b[0m\u001b[1;33m:\u001b[0m\u001b[1;33m]\u001b[0m  \u001b[1;31m# add attentions if we output them\u001b[0m\u001b[1;33m\u001b[0m\u001b[1;33m\u001b[0m\u001b[0m\n\u001b[0;32m    350\u001b[0m         \u001b[1;32mreturn\u001b[0m \u001b[0moutputs\u001b[0m\u001b[1;33m\u001b[0m\u001b[1;33m\u001b[0m\u001b[0m\n",
      "\u001b[1;32m~\\anaconda3\\lib\\site-packages\\torch\\nn\\modules\\module.py\u001b[0m in \u001b[0;36m_call_impl\u001b[1;34m(self, *input, **kwargs)\u001b[0m\n\u001b[0;32m   1128\u001b[0m         if not (self._backward_hooks or self._forward_hooks or self._forward_pre_hooks or _global_backward_hooks\n\u001b[0;32m   1129\u001b[0m                 or _global_forward_hooks or _global_forward_pre_hooks):\n\u001b[1;32m-> 1130\u001b[1;33m             \u001b[1;32mreturn\u001b[0m \u001b[0mforward_call\u001b[0m\u001b[1;33m(\u001b[0m\u001b[1;33m*\u001b[0m\u001b[0minput\u001b[0m\u001b[1;33m,\u001b[0m \u001b[1;33m**\u001b[0m\u001b[0mkwargs\u001b[0m\u001b[1;33m)\u001b[0m\u001b[1;33m\u001b[0m\u001b[1;33m\u001b[0m\u001b[0m\n\u001b[0m\u001b[0;32m   1131\u001b[0m         \u001b[1;31m# Do not call functions when jit is used\u001b[0m\u001b[1;33m\u001b[0m\u001b[1;33m\u001b[0m\u001b[0m\n\u001b[0;32m   1132\u001b[0m         \u001b[0mfull_backward_hooks\u001b[0m\u001b[1;33m,\u001b[0m \u001b[0mnon_full_backward_hooks\u001b[0m \u001b[1;33m=\u001b[0m \u001b[1;33m[\u001b[0m\u001b[1;33m]\u001b[0m\u001b[1;33m,\u001b[0m \u001b[1;33m[\u001b[0m\u001b[1;33m]\u001b[0m\u001b[1;33m\u001b[0m\u001b[1;33m\u001b[0m\u001b[0m\n",
      "\u001b[1;32m~\\anaconda3\\lib\\site-packages\\transformers\\models\\roberta\\modeling_roberta.py\u001b[0m in \u001b[0;36mforward\u001b[1;34m(self, hidden_states, input_tensor)\u001b[0m\n\u001b[0;32m    295\u001b[0m \u001b[1;33m\u001b[0m\u001b[0m\n\u001b[0;32m    296\u001b[0m     \u001b[1;32mdef\u001b[0m \u001b[0mforward\u001b[0m\u001b[1;33m(\u001b[0m\u001b[0mself\u001b[0m\u001b[1;33m,\u001b[0m \u001b[0mhidden_states\u001b[0m\u001b[1;33m:\u001b[0m \u001b[0mtorch\u001b[0m\u001b[1;33m.\u001b[0m\u001b[0mTensor\u001b[0m\u001b[1;33m,\u001b[0m \u001b[0minput_tensor\u001b[0m\u001b[1;33m:\u001b[0m \u001b[0mtorch\u001b[0m\u001b[1;33m.\u001b[0m\u001b[0mTensor\u001b[0m\u001b[1;33m)\u001b[0m \u001b[1;33m->\u001b[0m \u001b[0mtorch\u001b[0m\u001b[1;33m.\u001b[0m\u001b[0mTensor\u001b[0m\u001b[1;33m:\u001b[0m\u001b[1;33m\u001b[0m\u001b[1;33m\u001b[0m\u001b[0m\n\u001b[1;32m--> 297\u001b[1;33m         \u001b[0mhidden_states\u001b[0m \u001b[1;33m=\u001b[0m \u001b[0mself\u001b[0m\u001b[1;33m.\u001b[0m\u001b[0mdense\u001b[0m\u001b[1;33m(\u001b[0m\u001b[0mhidden_states\u001b[0m\u001b[1;33m)\u001b[0m\u001b[1;33m\u001b[0m\u001b[1;33m\u001b[0m\u001b[0m\n\u001b[0m\u001b[0;32m    298\u001b[0m         \u001b[0mhidden_states\u001b[0m \u001b[1;33m=\u001b[0m \u001b[0mself\u001b[0m\u001b[1;33m.\u001b[0m\u001b[0mdropout\u001b[0m\u001b[1;33m(\u001b[0m\u001b[0mhidden_states\u001b[0m\u001b[1;33m)\u001b[0m\u001b[1;33m\u001b[0m\u001b[1;33m\u001b[0m\u001b[0m\n\u001b[0;32m    299\u001b[0m         \u001b[0mhidden_states\u001b[0m \u001b[1;33m=\u001b[0m \u001b[0mself\u001b[0m\u001b[1;33m.\u001b[0m\u001b[0mLayerNorm\u001b[0m\u001b[1;33m(\u001b[0m\u001b[0mhidden_states\u001b[0m \u001b[1;33m+\u001b[0m \u001b[0minput_tensor\u001b[0m\u001b[1;33m)\u001b[0m\u001b[1;33m\u001b[0m\u001b[1;33m\u001b[0m\u001b[0m\n",
      "\u001b[1;32m~\\anaconda3\\lib\\site-packages\\torch\\nn\\modules\\module.py\u001b[0m in \u001b[0;36m_call_impl\u001b[1;34m(self, *input, **kwargs)\u001b[0m\n\u001b[0;32m   1128\u001b[0m         if not (self._backward_hooks or self._forward_hooks or self._forward_pre_hooks or _global_backward_hooks\n\u001b[0;32m   1129\u001b[0m                 or _global_forward_hooks or _global_forward_pre_hooks):\n\u001b[1;32m-> 1130\u001b[1;33m             \u001b[1;32mreturn\u001b[0m \u001b[0mforward_call\u001b[0m\u001b[1;33m(\u001b[0m\u001b[1;33m*\u001b[0m\u001b[0minput\u001b[0m\u001b[1;33m,\u001b[0m \u001b[1;33m**\u001b[0m\u001b[0mkwargs\u001b[0m\u001b[1;33m)\u001b[0m\u001b[1;33m\u001b[0m\u001b[1;33m\u001b[0m\u001b[0m\n\u001b[0m\u001b[0;32m   1131\u001b[0m         \u001b[1;31m# Do not call functions when jit is used\u001b[0m\u001b[1;33m\u001b[0m\u001b[1;33m\u001b[0m\u001b[0m\n\u001b[0;32m   1132\u001b[0m         \u001b[0mfull_backward_hooks\u001b[0m\u001b[1;33m,\u001b[0m \u001b[0mnon_full_backward_hooks\u001b[0m \u001b[1;33m=\u001b[0m \u001b[1;33m[\u001b[0m\u001b[1;33m]\u001b[0m\u001b[1;33m,\u001b[0m \u001b[1;33m[\u001b[0m\u001b[1;33m]\u001b[0m\u001b[1;33m\u001b[0m\u001b[1;33m\u001b[0m\u001b[0m\n",
      "\u001b[1;32m~\\anaconda3\\lib\\site-packages\\torch\\nn\\modules\\linear.py\u001b[0m in \u001b[0;36mforward\u001b[1;34m(self, input)\u001b[0m\n\u001b[0;32m    112\u001b[0m \u001b[1;33m\u001b[0m\u001b[0m\n\u001b[0;32m    113\u001b[0m     \u001b[1;32mdef\u001b[0m \u001b[0mforward\u001b[0m\u001b[1;33m(\u001b[0m\u001b[0mself\u001b[0m\u001b[1;33m,\u001b[0m \u001b[0minput\u001b[0m\u001b[1;33m:\u001b[0m \u001b[0mTensor\u001b[0m\u001b[1;33m)\u001b[0m \u001b[1;33m->\u001b[0m \u001b[0mTensor\u001b[0m\u001b[1;33m:\u001b[0m\u001b[1;33m\u001b[0m\u001b[1;33m\u001b[0m\u001b[0m\n\u001b[1;32m--> 114\u001b[1;33m         \u001b[1;32mreturn\u001b[0m \u001b[0mF\u001b[0m\u001b[1;33m.\u001b[0m\u001b[0mlinear\u001b[0m\u001b[1;33m(\u001b[0m\u001b[0minput\u001b[0m\u001b[1;33m,\u001b[0m \u001b[0mself\u001b[0m\u001b[1;33m.\u001b[0m\u001b[0mweight\u001b[0m\u001b[1;33m,\u001b[0m \u001b[0mself\u001b[0m\u001b[1;33m.\u001b[0m\u001b[0mbias\u001b[0m\u001b[1;33m)\u001b[0m\u001b[1;33m\u001b[0m\u001b[1;33m\u001b[0m\u001b[0m\n\u001b[0m\u001b[0;32m    115\u001b[0m \u001b[1;33m\u001b[0m\u001b[0m\n\u001b[0;32m    116\u001b[0m     \u001b[1;32mdef\u001b[0m \u001b[0mextra_repr\u001b[0m\u001b[1;33m(\u001b[0m\u001b[0mself\u001b[0m\u001b[1;33m)\u001b[0m \u001b[1;33m->\u001b[0m \u001b[0mstr\u001b[0m\u001b[1;33m:\u001b[0m\u001b[1;33m\u001b[0m\u001b[1;33m\u001b[0m\u001b[0m\n",
      "\u001b[1;31mKeyboardInterrupt\u001b[0m: "
     ]
    }
   ],
   "source": [
    "results = []\n",
    "\n",
    "# Iterate over the column values of a certain column\n",
    "for value in tqdm(df['text']):\n",
    "    # Perform the resource-intensive operation\n",
    "    result = analyze_roberta(value)\n",
    "    results.append(result)\n",
    "\n",
    "# Create a new column in the dataframe with the results\n",
    "df[[\"roberta_Sentiment\", \"roberta_SCORE\"]] = results"
   ]
  },
  {
   "cell_type": "code",
   "execution_count": 46,
   "id": "df76e2c5",
   "metadata": {},
   "outputs": [
    {
     "data": {
      "text/html": [
       "<div>\n",
       "<style scoped>\n",
       "    .dataframe tbody tr th:only-of-type {\n",
       "        vertical-align: middle;\n",
       "    }\n",
       "\n",
       "    .dataframe tbody tr th {\n",
       "        vertical-align: top;\n",
       "    }\n",
       "\n",
       "    .dataframe thead th {\n",
       "        text-align: right;\n",
       "    }\n",
       "</style>\n",
       "<table border=\"1\" class=\"dataframe\">\n",
       "  <thead>\n",
       "    <tr style=\"text-align: right;\">\n",
       "      <th></th>\n",
       "      <th>id</th>\n",
       "      <th>user</th>\n",
       "      <th>fullname</th>\n",
       "      <th>url</th>\n",
       "      <th>timestamp</th>\n",
       "      <th>replies</th>\n",
       "      <th>likes</th>\n",
       "      <th>retweets</th>\n",
       "      <th>text</th>\n",
       "      <th>preprocessed_text</th>\n",
       "      <th>language</th>\n",
       "      <th>Vader_Comp</th>\n",
       "      <th>Vader_Pos</th>\n",
       "      <th>Vader_Neg</th>\n",
       "      <th>Vader_Neu</th>\n",
       "      <th>BERT_SCORE</th>\n",
       "      <th>BERT_Sentiment</th>\n",
       "      <th>roberta_Sentiment</th>\n",
       "      <th>roberta_SCORE</th>\n",
       "    </tr>\n",
       "  </thead>\n",
       "  <tbody>\n",
       "    <tr>\n",
       "      <th>0</th>\n",
       "      <td>1105610249069883392</td>\n",
       "      <td>coinairdropall</td>\n",
       "      <td>Crypto Airdrops</td>\n",
       "      <td>NaN</td>\n",
       "      <td>2019-03-12</td>\n",
       "      <td>1</td>\n",
       "      <td>0</td>\n",
       "      <td>1</td>\n",
       "      <td>#Bitcoin #Satoshi #crypto #blockchain #Airdrop...</td>\n",
       "      <td>bitcoin satoshi crypto blockchain airdrop new ...</td>\n",
       "      <td>en</td>\n",
       "      <td>0.2263</td>\n",
       "      <td>0.091</td>\n",
       "      <td>0.000</td>\n",
       "      <td>0.909</td>\n",
       "      <td>0.895744</td>\n",
       "      <td>1</td>\n",
       "      <td>1.0</td>\n",
       "      <td>0.561111</td>\n",
       "    </tr>\n",
       "    <tr>\n",
       "      <th>1</th>\n",
       "      <td>1108810883290095616</td>\n",
       "      <td>Airdropnotecom</td>\n",
       "      <td>Crypto Airdrops</td>\n",
       "      <td>NaN</td>\n",
       "      <td>2019-03-21</td>\n",
       "      <td>0</td>\n",
       "      <td>13</td>\n",
       "      <td>13</td>\n",
       "      <td>#Bitcoin #Satoshi #crypto #blockchain #Airdrop...</td>\n",
       "      <td>bitcoin satoshi crypto blockchain airdrop new ...</td>\n",
       "      <td>en</td>\n",
       "      <td>0.9260</td>\n",
       "      <td>0.420</td>\n",
       "      <td>0.000</td>\n",
       "      <td>0.580</td>\n",
       "      <td>0.883305</td>\n",
       "      <td>1</td>\n",
       "      <td>2.0</td>\n",
       "      <td>0.609270</td>\n",
       "    </tr>\n",
       "    <tr>\n",
       "      <th>2</th>\n",
       "      <td>1104519969398816771</td>\n",
       "      <td>coinairdropall</td>\n",
       "      <td>Crypto Airdrops</td>\n",
       "      <td>NaN</td>\n",
       "      <td>2019-03-09</td>\n",
       "      <td>0</td>\n",
       "      <td>0</td>\n",
       "      <td>1</td>\n",
       "      <td>#Bitcoin #Satoshi #crypto #blockchain #Airdrop...</td>\n",
       "      <td>bitcoin satoshi crypto blockchain airdrop new ...</td>\n",
       "      <td>en</td>\n",
       "      <td>0.0000</td>\n",
       "      <td>0.000</td>\n",
       "      <td>0.000</td>\n",
       "      <td>1.000</td>\n",
       "      <td>0.900940</td>\n",
       "      <td>1</td>\n",
       "      <td>1.0</td>\n",
       "      <td>0.752385</td>\n",
       "    </tr>\n",
       "    <tr>\n",
       "      <th>3</th>\n",
       "      <td>1105606801914060801</td>\n",
       "      <td>CoinsAirdrops</td>\n",
       "      <td>Crypto Airdrops</td>\n",
       "      <td>NaN</td>\n",
       "      <td>2019-03-12</td>\n",
       "      <td>1</td>\n",
       "      <td>13</td>\n",
       "      <td>9</td>\n",
       "      <td>#Bitcoin #crypto #Airdrop\\nNew Airdrop #p2pb2b...</td>\n",
       "      <td>bitcoin crypto airdrop new airdrop ppbb airdro...</td>\n",
       "      <td>en</td>\n",
       "      <td>0.5859</td>\n",
       "      <td>0.202</td>\n",
       "      <td>0.000</td>\n",
       "      <td>0.798</td>\n",
       "      <td>0.921648</td>\n",
       "      <td>1</td>\n",
       "      <td>1.0</td>\n",
       "      <td>0.598714</td>\n",
       "    </tr>\n",
       "    <tr>\n",
       "      <th>4</th>\n",
       "      <td>1078873154376880129</td>\n",
       "      <td>TheBitfi</td>\n",
       "      <td>Bitfi - open source: bitfi.dev</td>\n",
       "      <td>NaN</td>\n",
       "      <td>2018-12-29</td>\n",
       "      <td>9</td>\n",
       "      <td>61</td>\n",
       "      <td>16</td>\n",
       "      <td>The first lab made diamond happened in 1955 &amp;a...</td>\n",
       "      <td>first lab made diamond happened amp flawless m...</td>\n",
       "      <td>en</td>\n",
       "      <td>0.6908</td>\n",
       "      <td>0.180</td>\n",
       "      <td>0.000</td>\n",
       "      <td>0.820</td>\n",
       "      <td>0.872292</td>\n",
       "      <td>1</td>\n",
       "      <td>2.0</td>\n",
       "      <td>0.814316</td>\n",
       "    </tr>\n",
       "    <tr>\n",
       "      <th>5</th>\n",
       "      <td>1105611129773006848</td>\n",
       "      <td>coinairdropall</td>\n",
       "      <td>Crypto Airdrops</td>\n",
       "      <td>NaN</td>\n",
       "      <td>2019-03-12</td>\n",
       "      <td>0</td>\n",
       "      <td>0</td>\n",
       "      <td>1</td>\n",
       "      <td>#Bitcoin #crypto #Airdrop\\nNew Airdrop #Crypto...</td>\n",
       "      <td>bitcoin crypto airdrop new airdrop cryptosoul ...</td>\n",
       "      <td>en</td>\n",
       "      <td>-0.3818</td>\n",
       "      <td>0.000</td>\n",
       "      <td>0.094</td>\n",
       "      <td>0.906</td>\n",
       "      <td>0.830180</td>\n",
       "      <td>1</td>\n",
       "      <td>1.0</td>\n",
       "      <td>0.646247</td>\n",
       "    </tr>\n",
       "    <tr>\n",
       "      <th>6</th>\n",
       "      <td>1108499115334348801</td>\n",
       "      <td>Airdropnotecom</td>\n",
       "      <td>Crypto Airdrops</td>\n",
       "      <td>NaN</td>\n",
       "      <td>2019-03-20</td>\n",
       "      <td>2</td>\n",
       "      <td>8</td>\n",
       "      <td>8</td>\n",
       "      <td>#Bitcoin #Satoshi #crypto\\nCrypto Wallet #XAPO...</td>\n",
       "      <td>bitcoin satoshi crypto crypto wallet xapo xapo...</td>\n",
       "      <td>en</td>\n",
       "      <td>0.6249</td>\n",
       "      <td>0.203</td>\n",
       "      <td>0.000</td>\n",
       "      <td>0.797</td>\n",
       "      <td>0.931054</td>\n",
       "      <td>1</td>\n",
       "      <td>1.0</td>\n",
       "      <td>0.583216</td>\n",
       "    </tr>\n",
       "    <tr>\n",
       "      <th>7</th>\n",
       "      <td>1105611397872996354</td>\n",
       "      <td>coinairdropall</td>\n",
       "      <td>Crypto Airdrops</td>\n",
       "      <td>NaN</td>\n",
       "      <td>2019-03-12</td>\n",
       "      <td>0</td>\n",
       "      <td>0</td>\n",
       "      <td>1</td>\n",
       "      <td>#Bitcoin #crypto #Airdrop\\nNew Airdrop #Bitdep...</td>\n",
       "      <td>bitcoin crypto airdrop new airdrop bitdeposita...</td>\n",
       "      <td>en</td>\n",
       "      <td>0.7783</td>\n",
       "      <td>0.238</td>\n",
       "      <td>0.000</td>\n",
       "      <td>0.762</td>\n",
       "      <td>0.923276</td>\n",
       "      <td>1</td>\n",
       "      <td>1.0</td>\n",
       "      <td>0.675743</td>\n",
       "    </tr>\n",
       "    <tr>\n",
       "      <th>8</th>\n",
       "      <td>1105611682410315777</td>\n",
       "      <td>coinairdropall</td>\n",
       "      <td>Crypto Airdrops</td>\n",
       "      <td>NaN</td>\n",
       "      <td>2019-03-12</td>\n",
       "      <td>0</td>\n",
       "      <td>0</td>\n",
       "      <td>1</td>\n",
       "      <td>#Bitcoin #crypto #Airdrop\\nNew Airdrop #p2pb2b...</td>\n",
       "      <td>bitcoin crypto airdrop new airdrop ppbb airdro...</td>\n",
       "      <td>en</td>\n",
       "      <td>0.5859</td>\n",
       "      <td>0.202</td>\n",
       "      <td>0.000</td>\n",
       "      <td>0.798</td>\n",
       "      <td>0.921648</td>\n",
       "      <td>1</td>\n",
       "      <td>1.0</td>\n",
       "      <td>0.592256</td>\n",
       "    </tr>\n",
       "    <tr>\n",
       "      <th>9</th>\n",
       "      <td>1100771310249095170</td>\n",
       "      <td>Airdropnotecom</td>\n",
       "      <td>Crypto Airdrops</td>\n",
       "      <td>NaN</td>\n",
       "      <td>2019-02-27</td>\n",
       "      <td>6</td>\n",
       "      <td>21</td>\n",
       "      <td>11</td>\n",
       "      <td>#Bitcoin #crypto #Airdrop\\nNew Airdrop #BIGtok...</td>\n",
       "      <td>bitcoin crypto airdrop new airdrop bigtoken ea...</td>\n",
       "      <td>en</td>\n",
       "      <td>0.8126</td>\n",
       "      <td>0.344</td>\n",
       "      <td>0.000</td>\n",
       "      <td>0.656</td>\n",
       "      <td>0.632297</td>\n",
       "      <td>2</td>\n",
       "      <td>1.0</td>\n",
       "      <td>0.596951</td>\n",
       "    </tr>\n",
       "  </tbody>\n",
       "</table>\n",
       "</div>"
      ],
      "text/plain": [
       "                    id            user                        fullname  url  \\\n",
       "0  1105610249069883392  coinairdropall                 Crypto Airdrops  NaN   \n",
       "1  1108810883290095616  Airdropnotecom                 Crypto Airdrops  NaN   \n",
       "2  1104519969398816771  coinairdropall                 Crypto Airdrops  NaN   \n",
       "3  1105606801914060801   CoinsAirdrops                 Crypto Airdrops  NaN   \n",
       "4  1078873154376880129        TheBitfi  Bitfi - open source: bitfi.dev  NaN   \n",
       "5  1105611129773006848  coinairdropall                 Crypto Airdrops  NaN   \n",
       "6  1108499115334348801  Airdropnotecom                 Crypto Airdrops  NaN   \n",
       "7  1105611397872996354  coinairdropall                 Crypto Airdrops  NaN   \n",
       "8  1105611682410315777  coinairdropall                 Crypto Airdrops  NaN   \n",
       "9  1100771310249095170  Airdropnotecom                 Crypto Airdrops  NaN   \n",
       "\n",
       "    timestamp  replies  likes  retweets  \\\n",
       "0  2019-03-12        1      0         1   \n",
       "1  2019-03-21        0     13        13   \n",
       "2  2019-03-09        0      0         1   \n",
       "3  2019-03-12        1     13         9   \n",
       "4  2018-12-29        9     61        16   \n",
       "5  2019-03-12        0      0         1   \n",
       "6  2019-03-20        2      8         8   \n",
       "7  2019-03-12        0      0         1   \n",
       "8  2019-03-12        0      0         1   \n",
       "9  2019-02-27        6     21        11   \n",
       "\n",
       "                                                text  \\\n",
       "0  #Bitcoin #Satoshi #crypto #blockchain #Airdrop...   \n",
       "1  #Bitcoin #Satoshi #crypto #blockchain #Airdrop...   \n",
       "2  #Bitcoin #Satoshi #crypto #blockchain #Airdrop...   \n",
       "3  #Bitcoin #crypto #Airdrop\\nNew Airdrop #p2pb2b...   \n",
       "4  The first lab made diamond happened in 1955 &a...   \n",
       "5  #Bitcoin #crypto #Airdrop\\nNew Airdrop #Crypto...   \n",
       "6  #Bitcoin #Satoshi #crypto\\nCrypto Wallet #XAPO...   \n",
       "7  #Bitcoin #crypto #Airdrop\\nNew Airdrop #Bitdep...   \n",
       "8  #Bitcoin #crypto #Airdrop\\nNew Airdrop #p2pb2b...   \n",
       "9  #Bitcoin #crypto #Airdrop\\nNew Airdrop #BIGtok...   \n",
       "\n",
       "                                   preprocessed_text language  Vader_Comp  \\\n",
       "0  bitcoin satoshi crypto blockchain airdrop new ...       en      0.2263   \n",
       "1  bitcoin satoshi crypto blockchain airdrop new ...       en      0.9260   \n",
       "2  bitcoin satoshi crypto blockchain airdrop new ...       en      0.0000   \n",
       "3  bitcoin crypto airdrop new airdrop ppbb airdro...       en      0.5859   \n",
       "4  first lab made diamond happened amp flawless m...       en      0.6908   \n",
       "5  bitcoin crypto airdrop new airdrop cryptosoul ...       en     -0.3818   \n",
       "6  bitcoin satoshi crypto crypto wallet xapo xapo...       en      0.6249   \n",
       "7  bitcoin crypto airdrop new airdrop bitdeposita...       en      0.7783   \n",
       "8  bitcoin crypto airdrop new airdrop ppbb airdro...       en      0.5859   \n",
       "9  bitcoin crypto airdrop new airdrop bigtoken ea...       en      0.8126   \n",
       "\n",
       "   Vader_Pos  Vader_Neg  Vader_Neu  BERT_SCORE  BERT_Sentiment  \\\n",
       "0      0.091      0.000      0.909    0.895744               1   \n",
       "1      0.420      0.000      0.580    0.883305               1   \n",
       "2      0.000      0.000      1.000    0.900940               1   \n",
       "3      0.202      0.000      0.798    0.921648               1   \n",
       "4      0.180      0.000      0.820    0.872292               1   \n",
       "5      0.000      0.094      0.906    0.830180               1   \n",
       "6      0.203      0.000      0.797    0.931054               1   \n",
       "7      0.238      0.000      0.762    0.923276               1   \n",
       "8      0.202      0.000      0.798    0.921648               1   \n",
       "9      0.344      0.000      0.656    0.632297               2   \n",
       "\n",
       "   roberta_Sentiment  roberta_SCORE  \n",
       "0                1.0       0.561111  \n",
       "1                2.0       0.609270  \n",
       "2                1.0       0.752385  \n",
       "3                1.0       0.598714  \n",
       "4                2.0       0.814316  \n",
       "5                1.0       0.646247  \n",
       "6                1.0       0.583216  \n",
       "7                1.0       0.675743  \n",
       "8                1.0       0.592256  \n",
       "9                1.0       0.596951  "
      ]
     },
     "execution_count": 46,
     "metadata": {},
     "output_type": "execute_result"
    }
   ],
   "source": [
    "df_test.head(10)"
   ]
  },
  {
   "cell_type": "code",
   "execution_count": null,
   "id": "2db98562",
   "metadata": {},
   "outputs": [],
   "source": [
    "df.to_csv('bert_tweets.csv', index=False)"
   ]
  },
  {
   "cell_type": "code",
   "execution_count": 29,
   "id": "56d1918c",
   "metadata": {},
   "outputs": [],
   "source": [
    "# df_test[[\"BERT_Sentiment\", \"BERT_SCORE\"]] = df_test['preprocessed_text'].copy().apply(analyze_finBERT)"
   ]
  },
  {
   "cell_type": "code",
   "execution_count": 15,
   "id": "c2e99c18",
   "metadata": {},
   "outputs": [],
   "source": [
    "# df[\"BERT_SCORE\"] = df['preprocessed_text'].apply(analyze_sentiment_finBERT_int)"
   ]
  },
  {
   "cell_type": "code",
   "execution_count": 16,
   "id": "f089e759",
   "metadata": {},
   "outputs": [],
   "source": [
    "# df.to_csv('bert_tweets.csv', index=False)"
   ]
  },
  {
   "cell_type": "code",
   "execution_count": 17,
   "id": "0216163c",
   "metadata": {},
   "outputs": [],
   "source": [
    "# df[\"BERT_Sentiment\"] = df['preprocessed_text'].apply(analyze_sentiment_BERT)"
   ]
  },
  {
   "cell_type": "code",
   "execution_count": 18,
   "id": "4ed15ab8",
   "metadata": {},
   "outputs": [],
   "source": [
    "# df.to_csv('bert_tweets.csv', index=False)"
   ]
  },
  {
   "cell_type": "code",
   "execution_count": 63,
   "id": "2d569013",
   "metadata": {},
   "outputs": [],
   "source": [
    "df = pd.read_csv('bert_tweets.csv')"
   ]
  },
  {
   "cell_type": "code",
   "execution_count": 64,
   "id": "28bece25",
   "metadata": {},
   "outputs": [],
   "source": [
    "df['timestamp'] =  pd.to_datetime(df['timestamp'],errors='coerce')"
   ]
  },
  {
   "cell_type": "code",
   "execution_count": 65,
   "id": "0a332547",
   "metadata": {},
   "outputs": [],
   "source": [
    "df['quantity'] = 1"
   ]
  },
  {
   "cell_type": "code",
   "execution_count": 66,
   "id": "63fba8f8",
   "metadata": {},
   "outputs": [
    {
     "data": {
      "text/html": [
       "<div>\n",
       "<style scoped>\n",
       "    .dataframe tbody tr th:only-of-type {\n",
       "        vertical-align: middle;\n",
       "    }\n",
       "\n",
       "    .dataframe tbody tr th {\n",
       "        vertical-align: top;\n",
       "    }\n",
       "\n",
       "    .dataframe thead th {\n",
       "        text-align: right;\n",
       "    }\n",
       "</style>\n",
       "<table border=\"1\" class=\"dataframe\">\n",
       "  <thead>\n",
       "    <tr style=\"text-align: right;\">\n",
       "      <th></th>\n",
       "      <th>id</th>\n",
       "      <th>user</th>\n",
       "      <th>fullname</th>\n",
       "      <th>url</th>\n",
       "      <th>timestamp</th>\n",
       "      <th>replies</th>\n",
       "      <th>likes</th>\n",
       "      <th>retweets</th>\n",
       "      <th>text</th>\n",
       "      <th>preprocessed_text</th>\n",
       "      <th>language</th>\n",
       "      <th>Vader_Comp</th>\n",
       "      <th>Vader_Pos</th>\n",
       "      <th>Vader_Neg</th>\n",
       "      <th>Vader_Neu</th>\n",
       "      <th>BERT_SCORE</th>\n",
       "      <th>BERT_Sentiment</th>\n",
       "      <th>quantity</th>\n",
       "    </tr>\n",
       "  </thead>\n",
       "  <tbody>\n",
       "    <tr>\n",
       "      <th>0</th>\n",
       "      <td>1105610249069883392</td>\n",
       "      <td>coinairdropall</td>\n",
       "      <td>Crypto Airdrops</td>\n",
       "      <td>NaN</td>\n",
       "      <td>2019-03-12 23:23:19+00:00</td>\n",
       "      <td>1</td>\n",
       "      <td>0</td>\n",
       "      <td>1</td>\n",
       "      <td>#Bitcoin #Satoshi #crypto #blockchain #Airdrop...</td>\n",
       "      <td>bitcoin satoshi crypto blockchain airdrop new ...</td>\n",
       "      <td>en</td>\n",
       "      <td>0.2263</td>\n",
       "      <td>0.091</td>\n",
       "      <td>0.0</td>\n",
       "      <td>0.909</td>\n",
       "      <td>0.895744</td>\n",
       "      <td>1</td>\n",
       "      <td>1</td>\n",
       "    </tr>\n",
       "    <tr>\n",
       "      <th>1</th>\n",
       "      <td>1108810883290095616</td>\n",
       "      <td>Airdropnotecom</td>\n",
       "      <td>Crypto Airdrops</td>\n",
       "      <td>NaN</td>\n",
       "      <td>2019-03-21 19:21:29+00:00</td>\n",
       "      <td>0</td>\n",
       "      <td>13</td>\n",
       "      <td>13</td>\n",
       "      <td>#Bitcoin #Satoshi #crypto #blockchain #Airdrop...</td>\n",
       "      <td>bitcoin satoshi crypto blockchain airdrop new ...</td>\n",
       "      <td>en</td>\n",
       "      <td>0.9260</td>\n",
       "      <td>0.420</td>\n",
       "      <td>0.0</td>\n",
       "      <td>0.580</td>\n",
       "      <td>0.883305</td>\n",
       "      <td>1</td>\n",
       "      <td>1</td>\n",
       "    </tr>\n",
       "    <tr>\n",
       "      <th>2</th>\n",
       "      <td>1104519969398816771</td>\n",
       "      <td>coinairdropall</td>\n",
       "      <td>Crypto Airdrops</td>\n",
       "      <td>NaN</td>\n",
       "      <td>2019-03-09 23:10:56+00:00</td>\n",
       "      <td>0</td>\n",
       "      <td>0</td>\n",
       "      <td>1</td>\n",
       "      <td>#Bitcoin #Satoshi #crypto #blockchain #Airdrop...</td>\n",
       "      <td>bitcoin satoshi crypto blockchain airdrop new ...</td>\n",
       "      <td>en</td>\n",
       "      <td>0.0000</td>\n",
       "      <td>0.000</td>\n",
       "      <td>0.0</td>\n",
       "      <td>1.000</td>\n",
       "      <td>0.900940</td>\n",
       "      <td>1</td>\n",
       "      <td>1</td>\n",
       "    </tr>\n",
       "    <tr>\n",
       "      <th>3</th>\n",
       "      <td>1105606801914060801</td>\n",
       "      <td>CoinsAirdrops</td>\n",
       "      <td>Crypto Airdrops</td>\n",
       "      <td>NaN</td>\n",
       "      <td>2019-03-12 23:09:37+00:00</td>\n",
       "      <td>1</td>\n",
       "      <td>13</td>\n",
       "      <td>9</td>\n",
       "      <td>#Bitcoin #crypto #Airdrop\\nNew Airdrop #p2pb2b...</td>\n",
       "      <td>bitcoin crypto airdrop new airdrop ppbb airdro...</td>\n",
       "      <td>en</td>\n",
       "      <td>0.5859</td>\n",
       "      <td>0.202</td>\n",
       "      <td>0.0</td>\n",
       "      <td>0.798</td>\n",
       "      <td>0.921648</td>\n",
       "      <td>1</td>\n",
       "      <td>1</td>\n",
       "    </tr>\n",
       "    <tr>\n",
       "      <th>4</th>\n",
       "      <td>1078873154376880129</td>\n",
       "      <td>TheBitfi</td>\n",
       "      <td>Bitfi - open source: bitfi.dev</td>\n",
       "      <td>NaN</td>\n",
       "      <td>2018-12-29 04:39:39+00:00</td>\n",
       "      <td>9</td>\n",
       "      <td>61</td>\n",
       "      <td>16</td>\n",
       "      <td>The first lab made diamond happened in 1955 &amp;a...</td>\n",
       "      <td>first lab made diamond happened amp flawless m...</td>\n",
       "      <td>en</td>\n",
       "      <td>0.6908</td>\n",
       "      <td>0.180</td>\n",
       "      <td>0.0</td>\n",
       "      <td>0.820</td>\n",
       "      <td>0.872292</td>\n",
       "      <td>1</td>\n",
       "      <td>1</td>\n",
       "    </tr>\n",
       "  </tbody>\n",
       "</table>\n",
       "</div>"
      ],
      "text/plain": [
       "                    id            user                        fullname  url  \\\n",
       "0  1105610249069883392  coinairdropall                 Crypto Airdrops  NaN   \n",
       "1  1108810883290095616  Airdropnotecom                 Crypto Airdrops  NaN   \n",
       "2  1104519969398816771  coinairdropall                 Crypto Airdrops  NaN   \n",
       "3  1105606801914060801   CoinsAirdrops                 Crypto Airdrops  NaN   \n",
       "4  1078873154376880129        TheBitfi  Bitfi - open source: bitfi.dev  NaN   \n",
       "\n",
       "                  timestamp  replies  likes  retweets  \\\n",
       "0 2019-03-12 23:23:19+00:00        1      0         1   \n",
       "1 2019-03-21 19:21:29+00:00        0     13        13   \n",
       "2 2019-03-09 23:10:56+00:00        0      0         1   \n",
       "3 2019-03-12 23:09:37+00:00        1     13         9   \n",
       "4 2018-12-29 04:39:39+00:00        9     61        16   \n",
       "\n",
       "                                                text  \\\n",
       "0  #Bitcoin #Satoshi #crypto #blockchain #Airdrop...   \n",
       "1  #Bitcoin #Satoshi #crypto #blockchain #Airdrop...   \n",
       "2  #Bitcoin #Satoshi #crypto #blockchain #Airdrop...   \n",
       "3  #Bitcoin #crypto #Airdrop\\nNew Airdrop #p2pb2b...   \n",
       "4  The first lab made diamond happened in 1955 &a...   \n",
       "\n",
       "                                   preprocessed_text language  Vader_Comp  \\\n",
       "0  bitcoin satoshi crypto blockchain airdrop new ...       en      0.2263   \n",
       "1  bitcoin satoshi crypto blockchain airdrop new ...       en      0.9260   \n",
       "2  bitcoin satoshi crypto blockchain airdrop new ...       en      0.0000   \n",
       "3  bitcoin crypto airdrop new airdrop ppbb airdro...       en      0.5859   \n",
       "4  first lab made diamond happened amp flawless m...       en      0.6908   \n",
       "\n",
       "   Vader_Pos  Vader_Neg  Vader_Neu  BERT_SCORE  BERT_Sentiment  quantity  \n",
       "0      0.091        0.0      0.909    0.895744               1         1  \n",
       "1      0.420        0.0      0.580    0.883305               1         1  \n",
       "2      0.000        0.0      1.000    0.900940               1         1  \n",
       "3      0.202        0.0      0.798    0.921648               1         1  \n",
       "4      0.180        0.0      0.820    0.872292               1         1  "
      ]
     },
     "execution_count": 66,
     "metadata": {},
     "output_type": "execute_result"
    }
   ],
   "source": [
    "df.head()"
   ]
  },
  {
   "cell_type": "code",
   "execution_count": 67,
   "id": "a1c43f94",
   "metadata": {},
   "outputs": [],
   "source": [
    "frequency = '6H'"
   ]
  },
  {
   "cell_type": "code",
   "execution_count": 68,
   "id": "dca59c2a",
   "metadata": {},
   "outputs": [],
   "source": [
    "df = df.resample(frequency, on='timestamp').agg({'quantity':'sum','BERT_Sentiment':'mean', 'Vader_Comp':'mean','likes':'sum','retweets':'sum','replies':'sum'})\n",
    "df.rename(columns={'quantity': 'num_tweets', 'BERT_Sentiment': 'BERT_Sentiment_mean', 'Vader_Comp': 'Vader_Comp_mean', 'likes': 'likes_sum', 'retweets':'retweets_sum', 'replies':'replies_sum'}, inplace=True)\n",
    "df.index.rename('time', inplace=True)"
   ]
  },
  {
   "cell_type": "code",
   "execution_count": 69,
   "id": "20366c03",
   "metadata": {},
   "outputs": [
    {
     "data": {
      "text/html": [
       "<div>\n",
       "<style scoped>\n",
       "    .dataframe tbody tr th:only-of-type {\n",
       "        vertical-align: middle;\n",
       "    }\n",
       "\n",
       "    .dataframe tbody tr th {\n",
       "        vertical-align: top;\n",
       "    }\n",
       "\n",
       "    .dataframe thead th {\n",
       "        text-align: right;\n",
       "    }\n",
       "</style>\n",
       "<table border=\"1\" class=\"dataframe\">\n",
       "  <thead>\n",
       "    <tr style=\"text-align: right;\">\n",
       "      <th></th>\n",
       "      <th>num_tweets</th>\n",
       "      <th>BERT_Sentiment_mean</th>\n",
       "      <th>Vader_Comp_mean</th>\n",
       "      <th>likes_sum</th>\n",
       "      <th>retweets_sum</th>\n",
       "      <th>replies_sum</th>\n",
       "    </tr>\n",
       "    <tr>\n",
       "      <th>time</th>\n",
       "      <th></th>\n",
       "      <th></th>\n",
       "      <th></th>\n",
       "      <th></th>\n",
       "      <th></th>\n",
       "      <th></th>\n",
       "    </tr>\n",
       "  </thead>\n",
       "  <tbody>\n",
       "    <tr>\n",
       "      <th>2018-11-24 00:00:00+00:00</th>\n",
       "      <td>127</td>\n",
       "      <td>0.984252</td>\n",
       "      <td>0.025830</td>\n",
       "      <td>1382</td>\n",
       "      <td>486</td>\n",
       "      <td>204</td>\n",
       "    </tr>\n",
       "    <tr>\n",
       "      <th>2018-11-24 06:00:00+00:00</th>\n",
       "      <td>115</td>\n",
       "      <td>0.982609</td>\n",
       "      <td>0.061959</td>\n",
       "      <td>1147</td>\n",
       "      <td>1009</td>\n",
       "      <td>85</td>\n",
       "    </tr>\n",
       "    <tr>\n",
       "      <th>2018-11-24 12:00:00+00:00</th>\n",
       "      <td>149</td>\n",
       "      <td>0.993289</td>\n",
       "      <td>0.029923</td>\n",
       "      <td>3923</td>\n",
       "      <td>1054</td>\n",
       "      <td>200</td>\n",
       "    </tr>\n",
       "    <tr>\n",
       "      <th>2018-11-24 18:00:00+00:00</th>\n",
       "      <td>211</td>\n",
       "      <td>0.966825</td>\n",
       "      <td>0.083009</td>\n",
       "      <td>5160</td>\n",
       "      <td>1050</td>\n",
       "      <td>335</td>\n",
       "    </tr>\n",
       "    <tr>\n",
       "      <th>2018-11-25 00:00:00+00:00</th>\n",
       "      <td>172</td>\n",
       "      <td>0.970930</td>\n",
       "      <td>0.077348</td>\n",
       "      <td>5273</td>\n",
       "      <td>1265</td>\n",
       "      <td>436</td>\n",
       "    </tr>\n",
       "  </tbody>\n",
       "</table>\n",
       "</div>"
      ],
      "text/plain": [
       "                           num_tweets  BERT_Sentiment_mean  Vader_Comp_mean  \\\n",
       "time                                                                          \n",
       "2018-11-24 00:00:00+00:00         127             0.984252         0.025830   \n",
       "2018-11-24 06:00:00+00:00         115             0.982609         0.061959   \n",
       "2018-11-24 12:00:00+00:00         149             0.993289         0.029923   \n",
       "2018-11-24 18:00:00+00:00         211             0.966825         0.083009   \n",
       "2018-11-25 00:00:00+00:00         172             0.970930         0.077348   \n",
       "\n",
       "                           likes_sum  retweets_sum  replies_sum  \n",
       "time                                                             \n",
       "2018-11-24 00:00:00+00:00       1382           486          204  \n",
       "2018-11-24 06:00:00+00:00       1147          1009           85  \n",
       "2018-11-24 12:00:00+00:00       3923          1054          200  \n",
       "2018-11-24 18:00:00+00:00       5160          1050          335  \n",
       "2018-11-25 00:00:00+00:00       5273          1265          436  "
      ]
     },
     "execution_count": 69,
     "metadata": {},
     "output_type": "execute_result"
    }
   ],
   "source": [
    "df.head()"
   ]
  },
  {
   "cell_type": "code",
   "execution_count": 70,
   "id": "91f526f2",
   "metadata": {},
   "outputs": [],
   "source": [
    "btc = pd.read_csv('btcusd.csv')"
   ]
  },
  {
   "cell_type": "code",
   "execution_count": 71,
   "id": "63b9b9a0",
   "metadata": {},
   "outputs": [],
   "source": [
    "btc['time'] =  pd.to_datetime(btc['time'], utc=True, unit='ms')"
   ]
  },
  {
   "cell_type": "code",
   "execution_count": 72,
   "id": "95240888",
   "metadata": {},
   "outputs": [],
   "source": [
    "mask = (btc['time'].dt.date > datetime(2018, 11, 23).date()) & (btc['time'].dt.date <= datetime(2019, 3, 29).date())\n",
    "btc = btc.loc[mask]"
   ]
  },
  {
   "cell_type": "code",
   "execution_count": 73,
   "id": "46415099",
   "metadata": {},
   "outputs": [
    {
     "data": {
      "text/html": [
       "<div>\n",
       "<style scoped>\n",
       "    .dataframe tbody tr th:only-of-type {\n",
       "        vertical-align: middle;\n",
       "    }\n",
       "\n",
       "    .dataframe tbody tr th {\n",
       "        vertical-align: top;\n",
       "    }\n",
       "\n",
       "    .dataframe thead th {\n",
       "        text-align: right;\n",
       "    }\n",
       "</style>\n",
       "<table border=\"1\" class=\"dataframe\">\n",
       "  <thead>\n",
       "    <tr style=\"text-align: right;\">\n",
       "      <th></th>\n",
       "      <th>time</th>\n",
       "      <th>open</th>\n",
       "      <th>close</th>\n",
       "      <th>high</th>\n",
       "      <th>low</th>\n",
       "      <th>volume</th>\n",
       "    </tr>\n",
       "  </thead>\n",
       "  <tbody>\n",
       "    <tr>\n",
       "      <th>2063047</th>\n",
       "      <td>2018-11-24 00:00:00+00:00</td>\n",
       "      <td>4422.8</td>\n",
       "      <td>4422.2</td>\n",
       "      <td>4422.8</td>\n",
       "      <td>4422.200000</td>\n",
       "      <td>3.362245</td>\n",
       "    </tr>\n",
       "    <tr>\n",
       "      <th>2063048</th>\n",
       "      <td>2018-11-24 00:01:00+00:00</td>\n",
       "      <td>4421.2</td>\n",
       "      <td>4426.9</td>\n",
       "      <td>4426.9</td>\n",
       "      <td>4421.192334</td>\n",
       "      <td>5.092215</td>\n",
       "    </tr>\n",
       "    <tr>\n",
       "      <th>2063049</th>\n",
       "      <td>2018-11-24 00:02:00+00:00</td>\n",
       "      <td>4426.9</td>\n",
       "      <td>4430.0</td>\n",
       "      <td>4434.0</td>\n",
       "      <td>4426.900000</td>\n",
       "      <td>7.283302</td>\n",
       "    </tr>\n",
       "    <tr>\n",
       "      <th>2063050</th>\n",
       "      <td>2018-11-24 00:03:00+00:00</td>\n",
       "      <td>4429.9</td>\n",
       "      <td>4430.3</td>\n",
       "      <td>4433.5</td>\n",
       "      <td>4429.900000</td>\n",
       "      <td>6.224774</td>\n",
       "    </tr>\n",
       "    <tr>\n",
       "      <th>2063051</th>\n",
       "      <td>2018-11-24 00:04:00+00:00</td>\n",
       "      <td>4426.8</td>\n",
       "      <td>4428.7</td>\n",
       "      <td>4428.8</td>\n",
       "      <td>4426.800000</td>\n",
       "      <td>2.972837</td>\n",
       "    </tr>\n",
       "  </tbody>\n",
       "</table>\n",
       "</div>"
      ],
      "text/plain": [
       "                             time    open   close    high          low  \\\n",
       "2063047 2018-11-24 00:00:00+00:00  4422.8  4422.2  4422.8  4422.200000   \n",
       "2063048 2018-11-24 00:01:00+00:00  4421.2  4426.9  4426.9  4421.192334   \n",
       "2063049 2018-11-24 00:02:00+00:00  4426.9  4430.0  4434.0  4426.900000   \n",
       "2063050 2018-11-24 00:03:00+00:00  4429.9  4430.3  4433.5  4429.900000   \n",
       "2063051 2018-11-24 00:04:00+00:00  4426.8  4428.7  4428.8  4426.800000   \n",
       "\n",
       "           volume  \n",
       "2063047  3.362245  \n",
       "2063048  5.092215  \n",
       "2063049  7.283302  \n",
       "2063050  6.224774  \n",
       "2063051  2.972837  "
      ]
     },
     "execution_count": 73,
     "metadata": {},
     "output_type": "execute_result"
    }
   ],
   "source": [
    "btc.head()"
   ]
  },
  {
   "cell_type": "code",
   "execution_count": 74,
   "id": "3c518d57",
   "metadata": {},
   "outputs": [],
   "source": [
    "btc = btc.resample(frequency, on='time').agg({'close':'last','volume':'sum'})\n",
    "btc.rename(columns={'close': 'btc_price', 'volume': 'volume_sum'}, inplace=True)"
   ]
  },
  {
   "cell_type": "code",
   "execution_count": 75,
   "id": "2870e737",
   "metadata": {},
   "outputs": [
    {
     "data": {
      "text/plain": [
       "(504, 2)"
      ]
     },
     "execution_count": 75,
     "metadata": {},
     "output_type": "execute_result"
    }
   ],
   "source": [
    "btc.shape"
   ]
  },
  {
   "cell_type": "code",
   "execution_count": 76,
   "id": "15ac47cb",
   "metadata": {},
   "outputs": [
    {
     "data": {
      "text/html": [
       "<div>\n",
       "<style scoped>\n",
       "    .dataframe tbody tr th:only-of-type {\n",
       "        vertical-align: middle;\n",
       "    }\n",
       "\n",
       "    .dataframe tbody tr th {\n",
       "        vertical-align: top;\n",
       "    }\n",
       "\n",
       "    .dataframe thead th {\n",
       "        text-align: right;\n",
       "    }\n",
       "</style>\n",
       "<table border=\"1\" class=\"dataframe\">\n",
       "  <thead>\n",
       "    <tr style=\"text-align: right;\">\n",
       "      <th></th>\n",
       "      <th>num_tweets</th>\n",
       "      <th>BERT_Sentiment_mean</th>\n",
       "      <th>Vader_Comp_mean</th>\n",
       "      <th>likes_sum</th>\n",
       "      <th>retweets_sum</th>\n",
       "      <th>replies_sum</th>\n",
       "      <th>btc_price</th>\n",
       "      <th>volume_sum</th>\n",
       "    </tr>\n",
       "    <tr>\n",
       "      <th>time</th>\n",
       "      <th></th>\n",
       "      <th></th>\n",
       "      <th></th>\n",
       "      <th></th>\n",
       "      <th></th>\n",
       "      <th></th>\n",
       "      <th></th>\n",
       "      <th></th>\n",
       "    </tr>\n",
       "  </thead>\n",
       "  <tbody>\n",
       "    <tr>\n",
       "      <th>2018-11-24 00:00:00+00:00</th>\n",
       "      <td>127</td>\n",
       "      <td>0.984252</td>\n",
       "      <td>0.025830</td>\n",
       "      <td>1382</td>\n",
       "      <td>486</td>\n",
       "      <td>204</td>\n",
       "      <td>4416.9</td>\n",
       "      <td>6286.528809</td>\n",
       "    </tr>\n",
       "    <tr>\n",
       "      <th>2018-11-24 06:00:00+00:00</th>\n",
       "      <td>115</td>\n",
       "      <td>0.982609</td>\n",
       "      <td>0.061959</td>\n",
       "      <td>1147</td>\n",
       "      <td>1009</td>\n",
       "      <td>85</td>\n",
       "      <td>4387.2</td>\n",
       "      <td>5999.513477</td>\n",
       "    </tr>\n",
       "    <tr>\n",
       "      <th>2018-11-24 12:00:00+00:00</th>\n",
       "      <td>149</td>\n",
       "      <td>0.993289</td>\n",
       "      <td>0.029923</td>\n",
       "      <td>3923</td>\n",
       "      <td>1054</td>\n",
       "      <td>200</td>\n",
       "      <td>4346.7</td>\n",
       "      <td>5129.781099</td>\n",
       "    </tr>\n",
       "    <tr>\n",
       "      <th>2018-11-24 18:00:00+00:00</th>\n",
       "      <td>211</td>\n",
       "      <td>0.966825</td>\n",
       "      <td>0.083009</td>\n",
       "      <td>5160</td>\n",
       "      <td>1050</td>\n",
       "      <td>335</td>\n",
       "      <td>3929.9</td>\n",
       "      <td>33727.201572</td>\n",
       "    </tr>\n",
       "    <tr>\n",
       "      <th>2018-11-25 00:00:00+00:00</th>\n",
       "      <td>172</td>\n",
       "      <td>0.970930</td>\n",
       "      <td>0.077348</td>\n",
       "      <td>5273</td>\n",
       "      <td>1265</td>\n",
       "      <td>436</td>\n",
       "      <td>3816.0</td>\n",
       "      <td>18544.741574</td>\n",
       "    </tr>\n",
       "  </tbody>\n",
       "</table>\n",
       "</div>"
      ],
      "text/plain": [
       "                           num_tweets  BERT_Sentiment_mean  Vader_Comp_mean  \\\n",
       "time                                                                          \n",
       "2018-11-24 00:00:00+00:00         127             0.984252         0.025830   \n",
       "2018-11-24 06:00:00+00:00         115             0.982609         0.061959   \n",
       "2018-11-24 12:00:00+00:00         149             0.993289         0.029923   \n",
       "2018-11-24 18:00:00+00:00         211             0.966825         0.083009   \n",
       "2018-11-25 00:00:00+00:00         172             0.970930         0.077348   \n",
       "\n",
       "                           likes_sum  retweets_sum  replies_sum  btc_price  \\\n",
       "time                                                                         \n",
       "2018-11-24 00:00:00+00:00       1382           486          204     4416.9   \n",
       "2018-11-24 06:00:00+00:00       1147          1009           85     4387.2   \n",
       "2018-11-24 12:00:00+00:00       3923          1054          200     4346.7   \n",
       "2018-11-24 18:00:00+00:00       5160          1050          335     3929.9   \n",
       "2018-11-25 00:00:00+00:00       5273          1265          436     3816.0   \n",
       "\n",
       "                             volume_sum  \n",
       "time                                     \n",
       "2018-11-24 00:00:00+00:00   6286.528809  \n",
       "2018-11-24 06:00:00+00:00   5999.513477  \n",
       "2018-11-24 12:00:00+00:00   5129.781099  \n",
       "2018-11-24 18:00:00+00:00  33727.201572  \n",
       "2018-11-25 00:00:00+00:00  18544.741574  "
      ]
     },
     "execution_count": 76,
     "metadata": {},
     "output_type": "execute_result"
    }
   ],
   "source": [
    "sdf = pd.concat([df, btc], axis=1)\n",
    "sdf.head()"
   ]
  },
  {
   "cell_type": "code",
   "execution_count": 244,
   "id": "b77e0ee3",
   "metadata": {},
   "outputs": [],
   "source": [
    "sdf.to_csv(\"final_data.csv\", index=True)"
   ]
  },
  {
   "cell_type": "code",
   "execution_count": 48,
   "id": "b62ac3b4",
   "metadata": {},
   "outputs": [],
   "source": [
    "# def dt(x):\n",
    "#     t = pd.Timestamp(x)\n",
    "#     return pd.Timestamp.date(t)\n",
    "\n",
    "# df.timestamp = df.timestamp.apply(dt)"
   ]
  },
  {
   "cell_type": "code",
   "execution_count": 41,
   "id": "7425cae5",
   "metadata": {},
   "outputs": [
    {
     "data": {
      "text/plain": [
       "(126, 2)"
      ]
     },
     "execution_count": 41,
     "metadata": {},
     "output_type": "execute_result"
    }
   ],
   "source": [
    "# sdf=pd.DataFrame(df['timestamp'].value_counts())\n",
    "# sdf = sdf.reset_index()\n",
    "# sdf.columns = ['date','tweets_number']\n",
    "# sdf = sdf.sort_values(by=['date'], ascending=True)\n",
    "# sdf.insert(0, 'id_d', range(1, 1 + len(sdf)))\n",
    "# sdf = sdf.reset_index()\n",
    "# sdf = sdf[['date','tweets_number']]\n",
    "# sdf.shape"
   ]
  },
  {
   "cell_type": "code",
   "execution_count": 8,
   "id": "f17804c0",
   "metadata": {},
   "outputs": [],
   "source": [
    "# for date in sdf['date']:\n",
    "#     sdf.loc[sdf['date'] == date, 'likes_mean'] = df.loc[df['timestamp'] == date, 'likes'].mean()\n",
    "    \n",
    "# for date in sdf['date']:\n",
    "#     sdf.loc[sdf['date'] == date, 'replies_mean'] = df.loc[df['timestamp'] == date, 'replies'].mean()\n",
    "#     sdf.loc[sdf['date'] == date, 'retweets_mean'] = df.loc[df['timestamp'] == date, 'retweets'].mean()\n",
    "    \n",
    "# for date in sdf['date']:\n",
    "#     sdf.loc[sdf['date'] == date, 'BERT_Sentiment_mean'] = df.loc[df['timestamp'] == date, 'BERT_Sentiment'].mean()\n",
    "#     sdf.loc[sdf['date'] == date, 'BERT_SCORE_mean'] = df.loc[df['timestamp'] == date, 'BERT_SCORE'].mean()\n",
    "#     sdf.loc[sdf['date'] == date, 'Vader_Comp_mean'] = df.loc[df['timestamp'] == date, 'Vader_Comp'].mean()"
   ]
  },
  {
   "cell_type": "code",
   "execution_count": null,
   "id": "6759b995",
   "metadata": {},
   "outputs": [],
   "source": [
    "# for date in sdf['date']:\n",
    "#     sdf.loc[sdf['date'] == date, 'BERT_Sentiment_sum'] = df.loc[df['timestamp'] == date, 'BERT_Sentiment'].sum()\n",
    "#     sdf.loc[sdf['date'] == date, 'BERT_SCORE_sum'] = df.loc[df['timestamp'] == date, 'BERT_SCORE'].sum()\n",
    "#     sdf.loc[sdf['date'] == date, 'Vader_Comp_sum'] = df.loc[df['timestamp'] == date, 'Vader_Comp'].sum()"
   ]
  },
  {
   "cell_type": "code",
   "execution_count": 9,
   "id": "309d96a2",
   "metadata": {},
   "outputs": [],
   "source": [
    "# sdf['date'] =  pd.to_datetime(sdf['date'],errors='coerce')"
   ]
  },
  {
   "cell_type": "code",
   "execution_count": 89,
   "id": "e5ab877b",
   "metadata": {},
   "outputs": [],
   "source": [
    "# # Find the range of dates in the dataframe\n",
    "# date_range = pd.date_range(start=sdf['date'].min(), end=sdf['date'].max(), freq='D')\n",
    "\n",
    "# # Reindex the dataframe to align with the range of dates\n",
    "# sdf = sdf.set_index('date').reindex(date_range, fill_value=0)\n",
    "# sdf.reset_index(inplace=True)\n",
    "# sdf.rename(columns={'index': 'date'}, inplace=True)\n",
    "# sdf.shape"
   ]
  },
  {
   "cell_type": "code",
   "execution_count": 11,
   "id": "4df00224",
   "metadata": {},
   "outputs": [],
   "source": [
    "# btc = pd.read_csv('BTC-EUR2019.csv')"
   ]
  },
  {
   "cell_type": "code",
   "execution_count": 88,
   "id": "6a6e9284",
   "metadata": {},
   "outputs": [],
   "source": [
    "# btc.head()"
   ]
  },
  {
   "cell_type": "code",
   "execution_count": 87,
   "id": "9c6372f3",
   "metadata": {},
   "outputs": [],
   "source": [
    "# sdf.shape"
   ]
  },
  {
   "cell_type": "code",
   "execution_count": 14,
   "id": "25f324fb",
   "metadata": {},
   "outputs": [],
   "source": [
    "# sdf['BTC'] = btc['Close'].copy()"
   ]
  },
  {
   "cell_type": "code",
   "execution_count": 86,
   "id": "b8306909",
   "metadata": {},
   "outputs": [],
   "source": [
    "# sdf"
   ]
  },
  {
   "cell_type": "code",
   "execution_count": 110,
   "id": "08ddf0a5",
   "metadata": {},
   "outputs": [
    {
     "data": {
      "image/png": "[encoded data removed]",
      "text/plain": [
       "<Figure size 432x288 with 1 Axes>"
      ]
     },
     "metadata": {
      "needs_background": "light"
     },
     "output_type": "display_data"
    }
   ],
   "source": [
    "# Select the column of interest\n",
    "column = sdf['btc_price']\n",
    "\n",
    "# Plot the time series\n",
    "plt.plot(column)\n",
    "plt.xlabel('Date')\n",
    "plt.ylabel('BTC')\n",
    "plt.title('Time Series')\n",
    "plt.xticks(rotation=45)\n",
    "plt.show()\n"
   ]
  },
  {
   "cell_type": "code",
   "execution_count": 111,
   "id": "c8fcc37e",
   "metadata": {},
   "outputs": [
    {
     "data": {
      "image/png": "[encoded data removed]",
      "text/plain": [
       "<Figure size 432x288 with 1 Axes>"
      ]
     },
     "metadata": {
      "needs_background": "light"
     },
     "output_type": "display_data"
    }
   ],
   "source": [
    "# Select the column of interest\n",
    "column = sdf['volume_sum']\n",
    "\n",
    "# Plot the time series\n",
    "plt.plot(column)\n",
    "plt.xlabel('Date')\n",
    "plt.ylabel('volume_sum')\n",
    "plt.title('Time Series')\n",
    "plt.xticks(rotation=45)\n",
    "plt.show()"
   ]
  },
  {
   "cell_type": "code",
   "execution_count": 112,
   "id": "4189c067",
   "metadata": {},
   "outputs": [
    {
     "data": {
      "image/png": "[encoded data removed]",
      "text/plain": [
       "<Figure size 432x288 with 1 Axes>"
      ]
     },
     "metadata": {
      "needs_background": "light"
     },
     "output_type": "display_data"
    }
   ],
   "source": [
    "# Select the column of interest\n",
    "column = sdf['BERT_Sentiment_mean']\n",
    "\n",
    "# Plot the time series\n",
    "plt.plot(column)\n",
    "plt.xlabel('Date')\n",
    "plt.ylabel('BERT_Sentiment_mean')\n",
    "plt.title('Time Series')\n",
    "plt.xticks(rotation=45)\n",
    "plt.show()"
   ]
  },
  {
   "cell_type": "code",
   "execution_count": 113,
   "id": "fb7887a1",
   "metadata": {},
   "outputs": [
    {
     "data": {
      "image/png": "[encoded data removed]",
      "text/plain": [
       "<Figure size 432x288 with 1 Axes>"
      ]
     },
     "metadata": {
      "needs_background": "light"
     },
     "output_type": "display_data"
    }
   ],
   "source": [
    "# Select the column of interest\n",
    "column = sdf['Vader_Comp_mean']\n",
    "\n",
    "# Plot the time series\n",
    "plt.plot(column)\n",
    "plt.xlabel('Date')\n",
    "plt.ylabel('Vader_Comp_mean')\n",
    "plt.title('Time Series')\n",
    "plt.xticks(rotation=45)\n",
    "plt.show()"
   ]
  },
  {
   "cell_type": "code",
   "execution_count": 114,
   "id": "85ad6cce",
   "metadata": {},
   "outputs": [
    {
     "data": {
      "image/png": "[encoded data removed]",
      "text/plain": [
       "<Figure size 432x288 with 1 Axes>"
      ]
     },
     "metadata": {
      "needs_background": "light"
     },
     "output_type": "display_data"
    }
   ],
   "source": [
    "# Select the column of interest\n",
    "column = sdf['likes_sum']\n",
    "\n",
    "# Plot the time series\n",
    "plt.plot(column)\n",
    "plt.xlabel('Date')\n",
    "plt.ylabel('likes_sum')\n",
    "plt.title('Time Series')\n",
    "plt.xticks(rotation=45)\n",
    "plt.show()"
   ]
  },
  {
   "cell_type": "code",
   "execution_count": 115,
   "id": "c15c6012",
   "metadata": {},
   "outputs": [
    {
     "data": {
      "image/png": "[encoded data removed]",
      "text/plain": [
       "<Figure size 432x288 with 1 Axes>"
      ]
     },
     "metadata": {
      "needs_background": "light"
     },
     "output_type": "display_data"
    }
   ],
   "source": [
    "# Select the column of interest\n",
    "column = sdf['replies_sum']\n",
    "\n",
    "# Plot the time series\n",
    "plt.plot(column)\n",
    "plt.xlabel('Date')\n",
    "plt.ylabel('replies_sum')\n",
    "plt.title('Time Series')\n",
    "plt.xticks(rotation=45)\n",
    "plt.show()"
   ]
  },
  {
   "cell_type": "code",
   "execution_count": 116,
   "id": "e27a3893",
   "metadata": {},
   "outputs": [
    {
     "data": {
      "image/png": "[encoded data removed]",
      "text/plain": [
       "<Figure size 432x288 with 1 Axes>"
      ]
     },
     "metadata": {
      "needs_background": "light"
     },
     "output_type": "display_data"
    }
   ],
   "source": [
    "# Select the column of interest\n",
    "column = sdf['num_tweets']\n",
    "\n",
    "# Plot the time series\n",
    "plt.plot(column)\n",
    "plt.xlabel('Date')\n",
    "plt.ylabel('tweets_number')\n",
    "plt.title('Time Series')\n",
    "plt.xticks(rotation=45)\n",
    "\n",
    "plt.show()"
   ]
  },
  {
   "cell_type": "code",
   "execution_count": 103,
   "id": "feef3002",
   "metadata": {},
   "outputs": [
    {
     "data": {
      "text/plain": [
       "0.44032099447374556"
      ]
     },
     "execution_count": 103,
     "metadata": {},
     "output_type": "execute_result"
    }
   ],
   "source": [
    "correlation = sdf['likes_sum'].corr(sdf['Vader_Comp_mean'])\n",
    "correlation"
   ]
  }
 ],
 "metadata": {
  "kernelspec": {
   "display_name": "Python 3 (ipykernel)",
   "language": "python",
   "name": "python3"
  },
  "language_info": {
   "codemirror_mode": {
    "name": "ipython",
    "version": 3
   },
   "file_extension": ".py",
   "mimetype": "text/x-python",
   "name": "python",
   "nbconvert_exporter": "python",
   "pygments_lexer": "ipython3",
   "version": "3.9.7"
  }
 },
 "nbformat": 4,
 "nbformat_minor": 5
}
