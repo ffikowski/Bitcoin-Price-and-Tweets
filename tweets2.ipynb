{
 "cells": [
  {
   "cell_type": "code",
   "execution_count": 3,
   "id": "1b976851",
   "metadata": {},
   "outputs": [],
   "source": [
    "import csv\n",
    "import pandas as pd\n",
    "import numpy as np\n",
    "import re\n",
    "import nltk\n",
    "from nltk.stem import *\n",
    "from vaderSentiment.vaderSentiment import SentimentIntensityAnalyzer\n",
    "from datetime import datetime\n",
    "from textblob import TextBlob\n",
    "import matplotlib.pyplot as plt\n",
    "from langdetect import detect\n",
    "\n",
    "\n",
    "from nltk.corpus import stopwords"
   ]
  },
  {
   "cell_type": "code",
   "execution_count": 131,
   "id": "f6b9e5bf",
   "metadata": {},
   "outputs": [],
   "source": [
    "df = pd.read_csv('tweets.csv',dtype=object, sep = ';')"
   ]
  },
  {
   "cell_type": "code",
   "execution_count": 132,
   "id": "398183ed",
   "metadata": {},
   "outputs": [],
   "source": [
    "df['timestamp'] =  pd.to_datetime(df['timestamp'],errors='coerce')"
   ]
  },
  {
   "cell_type": "code",
   "execution_count": 133,
   "id": "94f3e15b",
   "metadata": {},
   "outputs": [
    {
     "data": {
      "text/plain": [
       "(20165013, 9)"
      ]
     },
     "execution_count": 133,
     "metadata": {},
     "output_type": "execute_result"
    }
   ],
   "source": [
    "df.shape"
   ]
  },
  {
   "cell_type": "code",
   "execution_count": 134,
   "id": "d0936ea0",
   "metadata": {},
   "outputs": [],
   "source": [
    "mask = (df['timestamp'].dt.date > datetime(2018, 11, 23).date()) & (df['timestamp'].dt.date <= datetime(2019, 3, 29).date())\n",
    "df = df.loc[mask]"
   ]
  },
  {
   "cell_type": "code",
   "execution_count": 135,
   "id": "f51fc4b1",
   "metadata": {},
   "outputs": [
    {
     "data": {
      "text/plain": [
       "(584391, 9)"
      ]
     },
     "execution_count": 135,
     "metadata": {},
     "output_type": "execute_result"
    }
   ],
   "source": [
    "df.shape"
   ]
  },
  {
   "cell_type": "code",
   "execution_count": 136,
   "id": "205da2d0",
   "metadata": {},
   "outputs": [],
   "source": [
    "# grouped = df4.groupby(df['timestamp'].dt.date)"
   ]
  },
  {
   "cell_type": "code",
   "execution_count": 137,
   "id": "1838ff30",
   "metadata": {},
   "outputs": [],
   "source": [
    "# dates = []\n",
    "\n",
    "# for name, group in grouped:\n",
    "#     dates.append(name)\n"
   ]
  },
  {
   "cell_type": "code",
   "execution_count": 138,
   "id": "1fc5d0c1",
   "metadata": {},
   "outputs": [],
   "source": [
    "def single_preprocessing(document):\n",
    "    \"\"\"\n",
    "    This function performs for a single text all preprocessing steps\n",
    "    parameter: text as string\n",
    "    output: list of that contains the preprocessed tokens\n",
    "    \"\"\"\n",
    "        \n",
    "    # preprosessing of the stopwords:\n",
    "    lemmatizer = WordNetLemmatizer()\n",
    "    \n",
    "    stop_words = list(set(stopwords.words('english')))\n",
    "    \n",
    "    preprocessed_stop_words = []\n",
    "    \n",
    "    for k in np.arange(len(stop_words)):\n",
    "        text= \"\"\n",
    "        for i in np.arange(len(stop_words[k])):\n",
    "            if stop_words[k][i].isalpha() or stop_words[k][i].isspace():\n",
    "                text += stop_words[k][i].lower()\n",
    "        text = lemmatizer.lemmatize(text)\n",
    "        preprocessed_stop_words.append(text)\n",
    "    \n",
    "    # preprosessing of the actual text\n",
    "    \n",
    "    # list containing the regexes to clean the texts for not wanted pattern\n",
    "    regex_list = ['https:(\\S){1,}','www.(\\S){1,}']\n",
    "    \n",
    "    # list to save the preprocessed text\n",
    "    preprocessed_document = []\n",
    "\n",
    "    # use the regex list to remove unwanted pattern\n",
    "    for i in np.arange(len(regex_list)):\n",
    "        document = re.sub(regex_list[i], '', document, count=0, flags=0)\n",
    "\n",
    "    # remove non-alphabetical chars except space and split the text into a list of tokens\n",
    "    text= \"\"\n",
    "    for i in np.arange(len(document)):\n",
    "        if document[i].isalpha() or document[i].isspace():\n",
    "            text += document[i].lower()\n",
    "    text_split = text.split()\n",
    "\n",
    "    # lemmatize each token and remove it if it is part of the stopwords\n",
    "    #print(\"Before:\",len(text_split))\n",
    "    for i in text_split:\n",
    "        if i not in preprocessed_stop_words:\n",
    "            preprocessed_document.append(i)\n",
    "            \n",
    "#     print(\"After:\",len(preprocessed_document))\n",
    "    \n",
    "    \n",
    "    return ' '.join(preprocessed_document)"
   ]
  },
  {
   "cell_type": "code",
   "execution_count": 139,
   "id": "d134f049",
   "metadata": {},
   "outputs": [],
   "source": [
    "def nested_preprocessing(corpus):\n",
    "    \"\"\"\n",
    "    This function performs for a list of texts all preprocessing steps\n",
    "    parameter: list of texts\n",
    "    output: list of lists containing where each contained lists contains the preprocessed tokens\n",
    "    \"\"\"\n",
    "    \n",
    "    preprocessed_corpus = [single_preprocessing(k) for k in corpus]\n",
    "\n",
    "    return preprocessed_corpus"
   ]
  },
  {
   "cell_type": "code",
   "execution_count": 140,
   "id": "3ee873f8",
   "metadata": {},
   "outputs": [],
   "source": [
    "df.dropna(subset=['text'], inplace=True)"
   ]
  },
  {
   "cell_type": "code",
   "execution_count": 141,
   "id": "103da238",
   "metadata": {},
   "outputs": [],
   "source": [
    "df['preprocessed_text'] = df4['text'].apply(single_preprocessing)"
   ]
  },
  {
   "cell_type": "code",
   "execution_count": 142,
   "id": "6ffa1b64",
   "metadata": {},
   "outputs": [
    {
     "data": {
      "text/plain": [
       "(584062, 10)"
      ]
     },
     "execution_count": 142,
     "metadata": {},
     "output_type": "execute_result"
    }
   ],
   "source": [
    "df.shape"
   ]
  },
  {
   "cell_type": "code",
   "execution_count": 143,
   "id": "806b3d70",
   "metadata": {},
   "outputs": [
    {
     "name": "stdout",
     "output_type": "stream",
     "text": [
      "en\n"
     ]
    }
   ],
   "source": [
    "lang = detect(df['preprocessed_text'].iloc[0])\n",
    "print(lang)"
   ]
  },
  {
   "cell_type": "code",
   "execution_count": null,
   "id": "cda86fdc",
   "metadata": {},
   "outputs": [
    {
     "name": "stdout",
     "output_type": "stream",
     "text": [
      "No features in text\n",
      "No features in text\n",
      "No features in text\n",
      "No features in text\n",
      "No features in text\n",
      "No features in text\n",
      "No features in text\n",
      "No features in text\n",
      "No features in text\n",
      "No features in text\n",
      "No features in text\n",
      "No features in text\n",
      "No features in text\n"
     ]
    }
   ],
   "source": [
    "language = []\n",
    "\n",
    "for key, value in enumerate(df['preprocessed_text']):\n",
    "    try:\n",
    "        lang = detect(value)\n",
    "        language.append(lang)\n",
    "    except:\n",
    "        print(\"No features in text\")\n",
    "        language.append('no_language')"
   ]
  },
  {
   "cell_type": "code",
   "execution_count": null,
   "id": "b02b603d",
   "metadata": {},
   "outputs": [],
   "source": [
    "df['language'] = language"
   ]
  },
  {
   "cell_type": "code",
   "execution_count": null,
   "id": "ae19f789",
   "metadata": {},
   "outputs": [],
   "source": [
    "df['language'].value_counts()"
   ]
  },
  {
   "cell_type": "code",
   "execution_count": null,
   "id": "0f27dcda",
   "metadata": {},
   "outputs": [],
   "source": [
    "df = df[df['language'] == 'en']"
   ]
  },
  {
   "cell_type": "code",
   "execution_count": 113,
   "id": "bd8813da",
   "metadata": {},
   "outputs": [],
   "source": [
    "df.to_csv('processed_tweets.csv', index=False)"
   ]
  },
  {
   "cell_type": "code",
   "execution_count": 4,
   "id": "8df1a346",
   "metadata": {},
   "outputs": [],
   "source": [
    "df = pd.read_csv('processed_tweets.csv',dtype=object, sep = ',')"
   ]
  },
  {
   "cell_type": "code",
   "execution_count": 5,
   "id": "dc91e196",
   "metadata": {},
   "outputs": [
    {
     "data": {
      "text/plain": [
       "(421142, 11)"
      ]
     },
     "execution_count": 5,
     "metadata": {},
     "output_type": "execute_result"
    }
   ],
   "source": [
    "df.shape"
   ]
  },
  {
   "cell_type": "code",
   "execution_count": 6,
   "id": "9f73c8ff",
   "metadata": {},
   "outputs": [],
   "source": [
    "df['timestamp'] =  pd.to_datetime(df['timestamp'],errors='coerce')"
   ]
  },
  {
   "cell_type": "code",
   "execution_count": 27,
   "id": "85020831",
   "metadata": {},
   "outputs": [],
   "source": [
    "grouped = df6.groupby(df6['timestamp'].dt.date)"
   ]
  },
  {
   "cell_type": "code",
   "execution_count": 28,
   "id": "a9c5ce78",
   "metadata": {},
   "outputs": [],
   "source": [
    "dates = []\n",
    "\n",
    "for name, group in grouped:\n",
    "    dates.append(name)\n"
   ]
  },
  {
   "cell_type": "code",
   "execution_count": 7,
   "id": "ed2714c4",
   "metadata": {},
   "outputs": [],
   "source": [
    "df['likes'] = df['likes'].astype(int)\n",
    "df['retweets'] = df['retweets'].astype(int)"
   ]
  },
  {
   "cell_type": "code",
   "execution_count": 8,
   "id": "4a31a30e",
   "metadata": {},
   "outputs": [],
   "source": [
    "# mask = (df['likes'] > 5) | (df['retweets'] > 5)"
   ]
  },
  {
   "cell_type": "code",
   "execution_count": 9,
   "id": "aa77ee3c",
   "metadata": {},
   "outputs": [],
   "source": [
    "# df = df.loc[mask]"
   ]
  },
  {
   "cell_type": "code",
   "execution_count": 10,
   "id": "68d32e36",
   "metadata": {},
   "outputs": [],
   "source": [
    "from vaderSentiment.vaderSentiment import SentimentIntensityAnalyzer\n",
    "from transformers import pipeline\n",
    "from transformers import AutoTokenizer, AutoModelForSequenceClassification"
   ]
  },
  {
   "cell_type": "code",
   "execution_count": 11,
   "id": "0c8b5d66",
   "metadata": {},
   "outputs": [],
   "source": [
    "tokenizer = AutoTokenizer.from_pretrained(\"ProsusAI/finbert\")\n",
    "\n",
    "model = AutoModelForSequenceClassification.from_pretrained(\"ProsusAI/finbert\",num_labels=3)\n",
    "nlp = pipeline(\"sentiment-analysis\",model=model,tokenizer=tokenizer)"
   ]
  },
  {
   "cell_type": "code",
   "execution_count": 12,
   "id": "a65e6d63",
   "metadata": {},
   "outputs": [],
   "source": [
    "analyzer = SentimentIntensityAnalyzer()"
   ]
  },
  {
   "cell_type": "code",
   "execution_count": 13,
   "id": "52471386",
   "metadata": {},
   "outputs": [],
   "source": [
    "def getSubjectivity(text):\n",
    "    return TextBlob(text).sentiment.subjectivity\n",
    " \n",
    "def getPolarity(text):\n",
    "    return TextBlob(text).sentiment.polarity\n",
    "\n",
    "def analyze_sentiment_pos(tweet):\n",
    "    sentiment_dict = analyzer.polarity_scores(tweet)\n",
    "    return str(sentiment_dict['pos'])\n",
    "\n",
    "def analyze_sentiment_Neg(tweet):\n",
    "    sentiment_dict = analyzer.polarity_scores(tweet)\n",
    "    return sentiment_dict['neg']\n",
    "\n",
    "def analyze_sentiment_Neu(tweet):\n",
    "    sentiment_dict = analyzer.polarity_scores(tweet)\n",
    "    return sentiment_dict['neu']\n",
    "\n",
    "def analyze_sentiment_Comp(tweet):\n",
    "    sentiment_dict = analyzer.polarity_scores(tweet)\n",
    "    return sentiment_dict['compound']\n",
    "\n",
    "def analyze_sentiment_BERT_int(tweet):\n",
    "#     print(len(tweet))\n",
    "    sentiment_dict = nlp(tweet)\n",
    "    return sentiment_dict[0]['score']\n",
    "\n",
    "def analyze_sentiment_BERT(tweet):\n",
    "    sentiment_dict = nlp(tweet)\n",
    "    if sentiment_dict[0]['label']=='positive':\n",
    "      return 2\n",
    "    elif sentiment_dict[0]['label']=='neutral':\n",
    "      return 1\n",
    "    else: return -1"
   ]
  },
  {
   "cell_type": "code",
   "execution_count": 14,
   "id": "2d8aea58",
   "metadata": {
    "scrolled": true
   },
   "outputs": [],
   "source": [
    "df[\"Vader_Comp\"] = df['preprocessed_text'].apply(analyze_sentiment_Comp)\n",
    "df[\"Vader_Pos\"] = df['preprocessed_text'].apply(analyze_sentiment_pos)\n",
    "df[\"Vader_Neg\"] = df['preprocessed_text'].apply(analyze_sentiment_Neg)\n",
    "df[\"Vader_Neu\"] = df['preprocessed_text'].apply(analyze_sentiment_Neu)"
   ]
  },
  {
   "cell_type": "code",
   "execution_count": 15,
   "id": "c2e99c18",
   "metadata": {},
   "outputs": [],
   "source": [
    "df[\"BERT_SCORE\"] = df['preprocessed_text'].apply(analyze_sentiment_BERT_int)\n",
    "\n",
    "# df7[\"BERT_LABEL\"] = df7['text'].apply(analyze_sentiment_BERT)"
   ]
  },
  {
   "cell_type": "code",
   "execution_count": 16,
   "id": "f089e759",
   "metadata": {},
   "outputs": [],
   "source": [
    "df.to_csv('bert_tweets.csv', index=False)"
   ]
  },
  {
   "cell_type": "code",
   "execution_count": 17,
   "id": "0216163c",
   "metadata": {},
   "outputs": [],
   "source": [
    "df[\"BERT_Sentiment\"] = df['preprocessed_text'].apply(analyze_sentiment_BERT)\n"
   ]
  },
  {
   "cell_type": "code",
   "execution_count": 18,
   "id": "4ed15ab8",
   "metadata": {},
   "outputs": [],
   "source": [
    "df.to_csv('bert_tweets.csv', index=False)"
   ]
  },
  {
   "cell_type": "code",
   "execution_count": 19,
   "id": "2d569013",
   "metadata": {},
   "outputs": [],
   "source": [
    "df7 = pd.read_csv('bert_tweets.csv')"
   ]
  },
  {
   "cell_type": "code",
   "execution_count": 24,
   "id": "f4bcbc06",
   "metadata": {},
   "outputs": [
    {
     "data": {
      "text/html": [
       "<div>\n",
       "<style scoped>\n",
       "    .dataframe tbody tr th:only-of-type {\n",
       "        vertical-align: middle;\n",
       "    }\n",
       "\n",
       "    .dataframe tbody tr th {\n",
       "        vertical-align: top;\n",
       "    }\n",
       "\n",
       "    .dataframe thead th {\n",
       "        text-align: right;\n",
       "    }\n",
       "</style>\n",
       "<table border=\"1\" class=\"dataframe\">\n",
       "  <thead>\n",
       "    <tr style=\"text-align: right;\">\n",
       "      <th></th>\n",
       "      <th>id</th>\n",
       "      <th>user</th>\n",
       "      <th>fullname</th>\n",
       "      <th>url</th>\n",
       "      <th>timestamp</th>\n",
       "      <th>replies</th>\n",
       "      <th>likes</th>\n",
       "      <th>retweets</th>\n",
       "      <th>text</th>\n",
       "      <th>preprocessed_text</th>\n",
       "      <th>language</th>\n",
       "      <th>Vader_Comp</th>\n",
       "      <th>Vader_Pos</th>\n",
       "      <th>Vader_Neg</th>\n",
       "      <th>Vader_Neu</th>\n",
       "      <th>BERT_SCORE</th>\n",
       "      <th>BERT_Sentiment</th>\n",
       "    </tr>\n",
       "  </thead>\n",
       "  <tbody>\n",
       "    <tr>\n",
       "      <th>0</th>\n",
       "      <td>1105610249069883392</td>\n",
       "      <td>coinairdropall</td>\n",
       "      <td>Crypto Airdrops</td>\n",
       "      <td>NaN</td>\n",
       "      <td>2019-03-12 23:23:19+00:00</td>\n",
       "      <td>1</td>\n",
       "      <td>0</td>\n",
       "      <td>1</td>\n",
       "      <td>#Bitcoin #Satoshi #crypto #blockchain #Airdrop...</td>\n",
       "      <td>bitcoin satoshi crypto blockchain airdrop new ...</td>\n",
       "      <td>en</td>\n",
       "      <td>0.2263</td>\n",
       "      <td>0.091</td>\n",
       "      <td>0.000</td>\n",
       "      <td>0.909</td>\n",
       "      <td>0.895744</td>\n",
       "      <td>1</td>\n",
       "    </tr>\n",
       "    <tr>\n",
       "      <th>1</th>\n",
       "      <td>1108810883290095616</td>\n",
       "      <td>Airdropnotecom</td>\n",
       "      <td>Crypto Airdrops</td>\n",
       "      <td>NaN</td>\n",
       "      <td>2019-03-21 19:21:29+00:00</td>\n",
       "      <td>0</td>\n",
       "      <td>13</td>\n",
       "      <td>13</td>\n",
       "      <td>#Bitcoin #Satoshi #crypto #blockchain #Airdrop...</td>\n",
       "      <td>bitcoin satoshi crypto blockchain airdrop new ...</td>\n",
       "      <td>en</td>\n",
       "      <td>0.9260</td>\n",
       "      <td>0.420</td>\n",
       "      <td>0.000</td>\n",
       "      <td>0.580</td>\n",
       "      <td>0.883305</td>\n",
       "      <td>1</td>\n",
       "    </tr>\n",
       "    <tr>\n",
       "      <th>2</th>\n",
       "      <td>1104519969398816771</td>\n",
       "      <td>coinairdropall</td>\n",
       "      <td>Crypto Airdrops</td>\n",
       "      <td>NaN</td>\n",
       "      <td>2019-03-09 23:10:56+00:00</td>\n",
       "      <td>0</td>\n",
       "      <td>0</td>\n",
       "      <td>1</td>\n",
       "      <td>#Bitcoin #Satoshi #crypto #blockchain #Airdrop...</td>\n",
       "      <td>bitcoin satoshi crypto blockchain airdrop new ...</td>\n",
       "      <td>en</td>\n",
       "      <td>0.0000</td>\n",
       "      <td>0.000</td>\n",
       "      <td>0.000</td>\n",
       "      <td>1.000</td>\n",
       "      <td>0.900940</td>\n",
       "      <td>1</td>\n",
       "    </tr>\n",
       "    <tr>\n",
       "      <th>3</th>\n",
       "      <td>1105606801914060801</td>\n",
       "      <td>CoinsAirdrops</td>\n",
       "      <td>Crypto Airdrops</td>\n",
       "      <td>NaN</td>\n",
       "      <td>2019-03-12 23:09:37+00:00</td>\n",
       "      <td>1</td>\n",
       "      <td>13</td>\n",
       "      <td>9</td>\n",
       "      <td>#Bitcoin #crypto #Airdrop\\nNew Airdrop #p2pb2b...</td>\n",
       "      <td>bitcoin crypto airdrop new airdrop ppbb airdro...</td>\n",
       "      <td>en</td>\n",
       "      <td>0.5859</td>\n",
       "      <td>0.202</td>\n",
       "      <td>0.000</td>\n",
       "      <td>0.798</td>\n",
       "      <td>0.921648</td>\n",
       "      <td>1</td>\n",
       "    </tr>\n",
       "    <tr>\n",
       "      <th>4</th>\n",
       "      <td>1078873154376880129</td>\n",
       "      <td>TheBitfi</td>\n",
       "      <td>Bitfi - open source: bitfi.dev</td>\n",
       "      <td>NaN</td>\n",
       "      <td>2018-12-29 04:39:39+00:00</td>\n",
       "      <td>9</td>\n",
       "      <td>61</td>\n",
       "      <td>16</td>\n",
       "      <td>The first lab made diamond happened in 1955 &amp;a...</td>\n",
       "      <td>first lab made diamond happened amp flawless m...</td>\n",
       "      <td>en</td>\n",
       "      <td>0.6908</td>\n",
       "      <td>0.180</td>\n",
       "      <td>0.000</td>\n",
       "      <td>0.820</td>\n",
       "      <td>0.872292</td>\n",
       "      <td>1</td>\n",
       "    </tr>\n",
       "    <tr>\n",
       "      <th>5</th>\n",
       "      <td>1105611129773006848</td>\n",
       "      <td>coinairdropall</td>\n",
       "      <td>Crypto Airdrops</td>\n",
       "      <td>NaN</td>\n",
       "      <td>2019-03-12 23:26:49+00:00</td>\n",
       "      <td>0</td>\n",
       "      <td>0</td>\n",
       "      <td>1</td>\n",
       "      <td>#Bitcoin #crypto #Airdrop\\nNew Airdrop #Crypto...</td>\n",
       "      <td>bitcoin crypto airdrop new airdrop cryptosoul ...</td>\n",
       "      <td>en</td>\n",
       "      <td>-0.3818</td>\n",
       "      <td>0.000</td>\n",
       "      <td>0.094</td>\n",
       "      <td>0.906</td>\n",
       "      <td>0.830180</td>\n",
       "      <td>1</td>\n",
       "    </tr>\n",
       "    <tr>\n",
       "      <th>6</th>\n",
       "      <td>1108499115334348801</td>\n",
       "      <td>Airdropnotecom</td>\n",
       "      <td>Crypto Airdrops</td>\n",
       "      <td>NaN</td>\n",
       "      <td>2019-03-20 22:42:38+00:00</td>\n",
       "      <td>2</td>\n",
       "      <td>8</td>\n",
       "      <td>8</td>\n",
       "      <td>#Bitcoin #Satoshi #crypto\\nCrypto Wallet #XAPO...</td>\n",
       "      <td>bitcoin satoshi crypto crypto wallet xapo xapo...</td>\n",
       "      <td>en</td>\n",
       "      <td>0.6249</td>\n",
       "      <td>0.203</td>\n",
       "      <td>0.000</td>\n",
       "      <td>0.797</td>\n",
       "      <td>0.931054</td>\n",
       "      <td>1</td>\n",
       "    </tr>\n",
       "    <tr>\n",
       "      <th>7</th>\n",
       "      <td>1105611397872996354</td>\n",
       "      <td>coinairdropall</td>\n",
       "      <td>Crypto Airdrops</td>\n",
       "      <td>NaN</td>\n",
       "      <td>2019-03-12 23:27:53+00:00</td>\n",
       "      <td>0</td>\n",
       "      <td>0</td>\n",
       "      <td>1</td>\n",
       "      <td>#Bitcoin #crypto #Airdrop\\nNew Airdrop #Bitdep...</td>\n",
       "      <td>bitcoin crypto airdrop new airdrop bitdeposita...</td>\n",
       "      <td>en</td>\n",
       "      <td>0.7783</td>\n",
       "      <td>0.238</td>\n",
       "      <td>0.000</td>\n",
       "      <td>0.762</td>\n",
       "      <td>0.923276</td>\n",
       "      <td>1</td>\n",
       "    </tr>\n",
       "    <tr>\n",
       "      <th>8</th>\n",
       "      <td>1105611682410315777</td>\n",
       "      <td>coinairdropall</td>\n",
       "      <td>Crypto Airdrops</td>\n",
       "      <td>NaN</td>\n",
       "      <td>2019-03-12 23:29:01+00:00</td>\n",
       "      <td>0</td>\n",
       "      <td>0</td>\n",
       "      <td>1</td>\n",
       "      <td>#Bitcoin #crypto #Airdrop\\nNew Airdrop #p2pb2b...</td>\n",
       "      <td>bitcoin crypto airdrop new airdrop ppbb airdro...</td>\n",
       "      <td>en</td>\n",
       "      <td>0.5859</td>\n",
       "      <td>0.202</td>\n",
       "      <td>0.000</td>\n",
       "      <td>0.798</td>\n",
       "      <td>0.921648</td>\n",
       "      <td>1</td>\n",
       "    </tr>\n",
       "    <tr>\n",
       "      <th>9</th>\n",
       "      <td>1100771310249095170</td>\n",
       "      <td>Airdropnotecom</td>\n",
       "      <td>Crypto Airdrops</td>\n",
       "      <td>NaN</td>\n",
       "      <td>2019-02-27 14:55:06+00:00</td>\n",
       "      <td>6</td>\n",
       "      <td>21</td>\n",
       "      <td>11</td>\n",
       "      <td>#Bitcoin #crypto #Airdrop\\nNew Airdrop #BIGtok...</td>\n",
       "      <td>bitcoin crypto airdrop new airdrop bigtoken ea...</td>\n",
       "      <td>en</td>\n",
       "      <td>0.8126</td>\n",
       "      <td>0.344</td>\n",
       "      <td>0.000</td>\n",
       "      <td>0.656</td>\n",
       "      <td>0.632297</td>\n",
       "      <td>2</td>\n",
       "    </tr>\n",
       "    <tr>\n",
       "      <th>10</th>\n",
       "      <td>1105612268182687746</td>\n",
       "      <td>coinairdropall</td>\n",
       "      <td>Crypto Airdrops</td>\n",
       "      <td>NaN</td>\n",
       "      <td>2019-03-12 23:31:20+00:00</td>\n",
       "      <td>2</td>\n",
       "      <td>11</td>\n",
       "      <td>2</td>\n",
       "      <td>#Bitcoin #crypto #Airdrop\\nNew Airdrop #BIGtok...</td>\n",
       "      <td>bitcoin crypto airdrop new airdrop bigtoken ea...</td>\n",
       "      <td>en</td>\n",
       "      <td>0.8126</td>\n",
       "      <td>0.344</td>\n",
       "      <td>0.000</td>\n",
       "      <td>0.656</td>\n",
       "      <td>0.632297</td>\n",
       "      <td>2</td>\n",
       "    </tr>\n",
       "    <tr>\n",
       "      <th>11</th>\n",
       "      <td>1105530425982758912</td>\n",
       "      <td>Airdropnotecom</td>\n",
       "      <td>Crypto Airdrops</td>\n",
       "      <td>NaN</td>\n",
       "      <td>2019-03-12 18:06:07+00:00</td>\n",
       "      <td>5</td>\n",
       "      <td>15</td>\n",
       "      <td>4</td>\n",
       "      <td>#Bitcoin #Satoshi #crypto #blockchain #Airdrop...</td>\n",
       "      <td>bitcoin satoshi crypto blockchain airdrop new ...</td>\n",
       "      <td>en</td>\n",
       "      <td>0.4767</td>\n",
       "      <td>0.129</td>\n",
       "      <td>0.000</td>\n",
       "      <td>0.871</td>\n",
       "      <td>0.932432</td>\n",
       "      <td>1</td>\n",
       "    </tr>\n",
       "    <tr>\n",
       "      <th>12</th>\n",
       "      <td>1084106234721169410</td>\n",
       "      <td>ModDre1982</td>\n",
       "      <td>Mod Dre1982</td>\n",
       "      <td>NaN</td>\n",
       "      <td>2019-01-12 15:14:02+00:00</td>\n",
       "      <td>0</td>\n",
       "      <td>5</td>\n",
       "      <td>9</td>\n",
       "      <td>I miss those days at DuckDice. :-(\\n\\nWanna tr...</td>\n",
       "      <td>miss days duckdice wanna try gt bitcoin gamble...</td>\n",
       "      <td>en</td>\n",
       "      <td>0.9042</td>\n",
       "      <td>0.317</td>\n",
       "      <td>0.040</td>\n",
       "      <td>0.644</td>\n",
       "      <td>0.929895</td>\n",
       "      <td>1</td>\n",
       "    </tr>\n",
       "    <tr>\n",
       "      <th>13</th>\n",
       "      <td>1107402616315830275</td>\n",
       "      <td>coinairdropall</td>\n",
       "      <td>Crypto Airdrops</td>\n",
       "      <td>NaN</td>\n",
       "      <td>2019-03-17 22:05:32+00:00</td>\n",
       "      <td>0</td>\n",
       "      <td>8</td>\n",
       "      <td>5</td>\n",
       "      <td>#Bitcoin #Satoshi #crypto #blockchain #Airdrop...</td>\n",
       "      <td>bitcoin satoshi crypto blockchain airdrop new ...</td>\n",
       "      <td>en</td>\n",
       "      <td>0.7579</td>\n",
       "      <td>0.263</td>\n",
       "      <td>0.000</td>\n",
       "      <td>0.737</td>\n",
       "      <td>0.891937</td>\n",
       "      <td>1</td>\n",
       "    </tr>\n",
       "    <tr>\n",
       "      <th>14</th>\n",
       "      <td>1111185767244746752</td>\n",
       "      <td>northernbtc</td>\n",
       "      <td>Northern Bitcoin AG</td>\n",
       "      <td>NaN</td>\n",
       "      <td>2019-03-28 08:38:26+00:00</td>\n",
       "      <td>3</td>\n",
       "      <td>653</td>\n",
       "      <td>62</td>\n",
       "      <td>Digitisation facilitates our lives and relieve...</td>\n",
       "      <td>digitisation facilitates lives relieves everyd...</td>\n",
       "      <td>en</td>\n",
       "      <td>0.6801</td>\n",
       "      <td>0.210</td>\n",
       "      <td>0.000</td>\n",
       "      <td>0.790</td>\n",
       "      <td>0.835683</td>\n",
       "      <td>1</td>\n",
       "    </tr>\n",
       "    <tr>\n",
       "      <th>15</th>\n",
       "      <td>1097491617282310144</td>\n",
       "      <td>BitBall_Erc20</td>\n",
       "      <td>BitBall BTB - Trade with the world #NoFakeProm...</td>\n",
       "      <td>NaN</td>\n",
       "      <td>2019-02-18 12:42:46+00:00</td>\n",
       "      <td>3</td>\n",
       "      <td>39</td>\n",
       "      <td>32</td>\n",
       "      <td>#Bitcoin #Btc has picked up and turned the who...</td>\n",
       "      <td>bitcoin btc has picked turned whole market gre...</td>\n",
       "      <td>en</td>\n",
       "      <td>0.4215</td>\n",
       "      <td>0.109</td>\n",
       "      <td>0.000</td>\n",
       "      <td>0.891</td>\n",
       "      <td>0.638577</td>\n",
       "      <td>2</td>\n",
       "    </tr>\n",
       "    <tr>\n",
       "      <th>16</th>\n",
       "      <td>1079077530995429377</td>\n",
       "      <td>TheCryptoCandy</td>\n",
       "      <td>The Crypto Candy 🍭</td>\n",
       "      <td>NaN</td>\n",
       "      <td>2018-12-29 18:11:46+00:00</td>\n",
       "      <td>180</td>\n",
       "      <td>2059</td>\n",
       "      <td>648</td>\n",
       "      <td>Is #History repeating? 🤔 \\n\\n#Bitcoin / #Gold ...</td>\n",
       "      <td>history repeating bitcoin gold</td>\n",
       "      <td>en</td>\n",
       "      <td>0.0000</td>\n",
       "      <td>0.000</td>\n",
       "      <td>0.000</td>\n",
       "      <td>1.000</td>\n",
       "      <td>0.934386</td>\n",
       "      <td>1</td>\n",
       "    </tr>\n",
       "    <tr>\n",
       "      <th>17</th>\n",
       "      <td>1096385091184451584</td>\n",
       "      <td>Trust_Dice</td>\n",
       "      <td>Trust Dice</td>\n",
       "      <td>NaN</td>\n",
       "      <td>2019-02-15 12:25:50+00:00</td>\n",
       "      <td>1</td>\n",
       "      <td>13</td>\n",
       "      <td>6</td>\n",
       "      <td>TXT Vision &amp;amp; Strategy 👇\\nSharing our Visio...</td>\n",
       "      <td>txt vision amp strategy sharing vision amp str...</td>\n",
       "      <td>en</td>\n",
       "      <td>0.8176</td>\n",
       "      <td>0.260</td>\n",
       "      <td>0.000</td>\n",
       "      <td>0.740</td>\n",
       "      <td>0.853825</td>\n",
       "      <td>1</td>\n",
       "    </tr>\n",
       "    <tr>\n",
       "      <th>18</th>\n",
       "      <td>1097453097113341954</td>\n",
       "      <td>bitcoincardvd</td>\n",
       "      <td>Bitcoin Card</td>\n",
       "      <td>NaN</td>\n",
       "      <td>2019-02-18 10:09:42+00:00</td>\n",
       "      <td>2</td>\n",
       "      <td>18</td>\n",
       "      <td>14</td>\n",
       "      <td>Good News For Bitcoin Card ( VD)  all Holder a...</td>\n",
       "      <td>good news bitcoin card vd holder users going l...</td>\n",
       "      <td>en</td>\n",
       "      <td>0.4404</td>\n",
       "      <td>0.209</td>\n",
       "      <td>0.000</td>\n",
       "      <td>0.791</td>\n",
       "      <td>0.826915</td>\n",
       "      <td>1</td>\n",
       "    </tr>\n",
       "    <tr>\n",
       "      <th>19</th>\n",
       "      <td>1078983552056799233</td>\n",
       "      <td>Plasma_Pay</td>\n",
       "      <td>PlasmaPay</td>\n",
       "      <td>NaN</td>\n",
       "      <td>2018-12-29 11:58:20+00:00</td>\n",
       "      <td>2</td>\n",
       "      <td>100</td>\n",
       "      <td>132</td>\n",
       "      <td>Remiit, a blockchain-powered remittance platfo...</td>\n",
       "      <td>remiit blockchainpowered remittance platform s...</td>\n",
       "      <td>en</td>\n",
       "      <td>0.0000</td>\n",
       "      <td>0.000</td>\n",
       "      <td>0.000</td>\n",
       "      <td>1.000</td>\n",
       "      <td>0.673151</td>\n",
       "      <td>2</td>\n",
       "    </tr>\n",
       "  </tbody>\n",
       "</table>\n",
       "</div>"
      ],
      "text/plain": [
       "                     id            user  \\\n",
       "0   1105610249069883392  coinairdropall   \n",
       "1   1108810883290095616  Airdropnotecom   \n",
       "2   1104519969398816771  coinairdropall   \n",
       "3   1105606801914060801   CoinsAirdrops   \n",
       "4   1078873154376880129        TheBitfi   \n",
       "5   1105611129773006848  coinairdropall   \n",
       "6   1108499115334348801  Airdropnotecom   \n",
       "7   1105611397872996354  coinairdropall   \n",
       "8   1105611682410315777  coinairdropall   \n",
       "9   1100771310249095170  Airdropnotecom   \n",
       "10  1105612268182687746  coinairdropall   \n",
       "11  1105530425982758912  Airdropnotecom   \n",
       "12  1084106234721169410      ModDre1982   \n",
       "13  1107402616315830275  coinairdropall   \n",
       "14  1111185767244746752     northernbtc   \n",
       "15  1097491617282310144   BitBall_Erc20   \n",
       "16  1079077530995429377  TheCryptoCandy   \n",
       "17  1096385091184451584      Trust_Dice   \n",
       "18  1097453097113341954   bitcoincardvd   \n",
       "19  1078983552056799233      Plasma_Pay   \n",
       "\n",
       "                                             fullname  url  \\\n",
       "0                                     Crypto Airdrops  NaN   \n",
       "1                                     Crypto Airdrops  NaN   \n",
       "2                                     Crypto Airdrops  NaN   \n",
       "3                                     Crypto Airdrops  NaN   \n",
       "4                      Bitfi - open source: bitfi.dev  NaN   \n",
       "5                                     Crypto Airdrops  NaN   \n",
       "6                                     Crypto Airdrops  NaN   \n",
       "7                                     Crypto Airdrops  NaN   \n",
       "8                                     Crypto Airdrops  NaN   \n",
       "9                                     Crypto Airdrops  NaN   \n",
       "10                                    Crypto Airdrops  NaN   \n",
       "11                                    Crypto Airdrops  NaN   \n",
       "12                                        Mod Dre1982  NaN   \n",
       "13                                    Crypto Airdrops  NaN   \n",
       "14                                Northern Bitcoin AG  NaN   \n",
       "15  BitBall BTB - Trade with the world #NoFakeProm...  NaN   \n",
       "16                                 The Crypto Candy 🍭  NaN   \n",
       "17                                         Trust Dice  NaN   \n",
       "18                                       Bitcoin Card  NaN   \n",
       "19                                          PlasmaPay  NaN   \n",
       "\n",
       "                    timestamp  replies  likes  retweets  \\\n",
       "0   2019-03-12 23:23:19+00:00        1      0         1   \n",
       "1   2019-03-21 19:21:29+00:00        0     13        13   \n",
       "2   2019-03-09 23:10:56+00:00        0      0         1   \n",
       "3   2019-03-12 23:09:37+00:00        1     13         9   \n",
       "4   2018-12-29 04:39:39+00:00        9     61        16   \n",
       "5   2019-03-12 23:26:49+00:00        0      0         1   \n",
       "6   2019-03-20 22:42:38+00:00        2      8         8   \n",
       "7   2019-03-12 23:27:53+00:00        0      0         1   \n",
       "8   2019-03-12 23:29:01+00:00        0      0         1   \n",
       "9   2019-02-27 14:55:06+00:00        6     21        11   \n",
       "10  2019-03-12 23:31:20+00:00        2     11         2   \n",
       "11  2019-03-12 18:06:07+00:00        5     15         4   \n",
       "12  2019-01-12 15:14:02+00:00        0      5         9   \n",
       "13  2019-03-17 22:05:32+00:00        0      8         5   \n",
       "14  2019-03-28 08:38:26+00:00        3    653        62   \n",
       "15  2019-02-18 12:42:46+00:00        3     39        32   \n",
       "16  2018-12-29 18:11:46+00:00      180   2059       648   \n",
       "17  2019-02-15 12:25:50+00:00        1     13         6   \n",
       "18  2019-02-18 10:09:42+00:00        2     18        14   \n",
       "19  2018-12-29 11:58:20+00:00        2    100       132   \n",
       "\n",
       "                                                 text  \\\n",
       "0   #Bitcoin #Satoshi #crypto #blockchain #Airdrop...   \n",
       "1   #Bitcoin #Satoshi #crypto #blockchain #Airdrop...   \n",
       "2   #Bitcoin #Satoshi #crypto #blockchain #Airdrop...   \n",
       "3   #Bitcoin #crypto #Airdrop\\nNew Airdrop #p2pb2b...   \n",
       "4   The first lab made diamond happened in 1955 &a...   \n",
       "5   #Bitcoin #crypto #Airdrop\\nNew Airdrop #Crypto...   \n",
       "6   #Bitcoin #Satoshi #crypto\\nCrypto Wallet #XAPO...   \n",
       "7   #Bitcoin #crypto #Airdrop\\nNew Airdrop #Bitdep...   \n",
       "8   #Bitcoin #crypto #Airdrop\\nNew Airdrop #p2pb2b...   \n",
       "9   #Bitcoin #crypto #Airdrop\\nNew Airdrop #BIGtok...   \n",
       "10  #Bitcoin #crypto #Airdrop\\nNew Airdrop #BIGtok...   \n",
       "11  #Bitcoin #Satoshi #crypto #blockchain #Airdrop...   \n",
       "12  I miss those days at DuckDice. :-(\\n\\nWanna tr...   \n",
       "13  #Bitcoin #Satoshi #crypto #blockchain #Airdrop...   \n",
       "14  Digitisation facilitates our lives and relieve...   \n",
       "15  #Bitcoin #Btc has picked up and turned the who...   \n",
       "16  Is #History repeating? 🤔 \\n\\n#Bitcoin / #Gold ...   \n",
       "17  TXT Vision &amp; Strategy 👇\\nSharing our Visio...   \n",
       "18  Good News For Bitcoin Card ( VD)  all Holder a...   \n",
       "19  Remiit, a blockchain-powered remittance platfo...   \n",
       "\n",
       "                                    preprocessed_text language  Vader_Comp  \\\n",
       "0   bitcoin satoshi crypto blockchain airdrop new ...       en      0.2263   \n",
       "1   bitcoin satoshi crypto blockchain airdrop new ...       en      0.9260   \n",
       "2   bitcoin satoshi crypto blockchain airdrop new ...       en      0.0000   \n",
       "3   bitcoin crypto airdrop new airdrop ppbb airdro...       en      0.5859   \n",
       "4   first lab made diamond happened amp flawless m...       en      0.6908   \n",
       "5   bitcoin crypto airdrop new airdrop cryptosoul ...       en     -0.3818   \n",
       "6   bitcoin satoshi crypto crypto wallet xapo xapo...       en      0.6249   \n",
       "7   bitcoin crypto airdrop new airdrop bitdeposita...       en      0.7783   \n",
       "8   bitcoin crypto airdrop new airdrop ppbb airdro...       en      0.5859   \n",
       "9   bitcoin crypto airdrop new airdrop bigtoken ea...       en      0.8126   \n",
       "10  bitcoin crypto airdrop new airdrop bigtoken ea...       en      0.8126   \n",
       "11  bitcoin satoshi crypto blockchain airdrop new ...       en      0.4767   \n",
       "12  miss days duckdice wanna try gt bitcoin gamble...       en      0.9042   \n",
       "13  bitcoin satoshi crypto blockchain airdrop new ...       en      0.7579   \n",
       "14  digitisation facilitates lives relieves everyd...       en      0.6801   \n",
       "15  bitcoin btc has picked turned whole market gre...       en      0.4215   \n",
       "16                     history repeating bitcoin gold       en      0.0000   \n",
       "17  txt vision amp strategy sharing vision amp str...       en      0.8176   \n",
       "18  good news bitcoin card vd holder users going l...       en      0.4404   \n",
       "19  remiit blockchainpowered remittance platform s...       en      0.0000   \n",
       "\n",
       "    Vader_Pos  Vader_Neg  Vader_Neu  BERT_SCORE  BERT_Sentiment  \n",
       "0       0.091      0.000      0.909    0.895744               1  \n",
       "1       0.420      0.000      0.580    0.883305               1  \n",
       "2       0.000      0.000      1.000    0.900940               1  \n",
       "3       0.202      0.000      0.798    0.921648               1  \n",
       "4       0.180      0.000      0.820    0.872292               1  \n",
       "5       0.000      0.094      0.906    0.830180               1  \n",
       "6       0.203      0.000      0.797    0.931054               1  \n",
       "7       0.238      0.000      0.762    0.923276               1  \n",
       "8       0.202      0.000      0.798    0.921648               1  \n",
       "9       0.344      0.000      0.656    0.632297               2  \n",
       "10      0.344      0.000      0.656    0.632297               2  \n",
       "11      0.129      0.000      0.871    0.932432               1  \n",
       "12      0.317      0.040      0.644    0.929895               1  \n",
       "13      0.263      0.000      0.737    0.891937               1  \n",
       "14      0.210      0.000      0.790    0.835683               1  \n",
       "15      0.109      0.000      0.891    0.638577               2  \n",
       "16      0.000      0.000      1.000    0.934386               1  \n",
       "17      0.260      0.000      0.740    0.853825               1  \n",
       "18      0.209      0.000      0.791    0.826915               1  \n",
       "19      0.000      0.000      1.000    0.673151               2  "
      ]
     },
     "execution_count": 24,
     "metadata": {},
     "output_type": "execute_result"
    }
   ],
   "source": [
    "df7.head(20)"
   ]
  },
  {
   "cell_type": "code",
   "execution_count": 81,
   "id": "ba26c270",
   "metadata": {},
   "outputs": [],
   "source": [
    "tweets_data = {'date': [], 'tweets_number': [], 'replies': [], 'likes': [], 'retweets':[], 'BERT_SCORE':[], 'Vader_Comp':[]}\n",
    "\n",
    "tdf = pd.DataFrame(tweets_data)"
   ]
  },
  {
   "cell_type": "code",
   "execution_count": 82,
   "id": "8368600e",
   "metadata": {},
   "outputs": [],
   "source": [
    "def dt(x):\n",
    "    t = pd.Timestamp(x)\n",
    "    return pd.Timestamp.date(t)\n",
    "\n",
    "df7.timestamp = df7.timestamp.apply(dt)"
   ]
  },
  {
   "cell_type": "code",
   "execution_count": 83,
   "id": "55e9aa21",
   "metadata": {},
   "outputs": [
    {
     "data": {
      "text/plain": [
       "datetime.date(2018, 12, 29)"
      ]
     },
     "execution_count": 83,
     "metadata": {},
     "output_type": "execute_result"
    }
   ],
   "source": [
    "df7['timestamp'].loc[0]"
   ]
  },
  {
   "cell_type": "code",
   "execution_count": 68,
   "id": "7425cae5",
   "metadata": {},
   "outputs": [
    {
     "data": {
      "text/html": [
       "<div>\n",
       "<style scoped>\n",
       "    .dataframe tbody tr th:only-of-type {\n",
       "        vertical-align: middle;\n",
       "    }\n",
       "\n",
       "    .dataframe tbody tr th {\n",
       "        vertical-align: top;\n",
       "    }\n",
       "\n",
       "    .dataframe thead th {\n",
       "        text-align: right;\n",
       "    }\n",
       "</style>\n",
       "<table border=\"1\" class=\"dataframe\">\n",
       "  <thead>\n",
       "    <tr style=\"text-align: right;\">\n",
       "      <th></th>\n",
       "      <th>date</th>\n",
       "      <th>tweets_number</th>\n",
       "    </tr>\n",
       "  </thead>\n",
       "  <tbody>\n",
       "    <tr>\n",
       "      <th>0</th>\n",
       "      <td>2016-01-02</td>\n",
       "      <td>2</td>\n",
       "    </tr>\n",
       "    <tr>\n",
       "      <th>1</th>\n",
       "      <td>2016-01-04</td>\n",
       "      <td>1</td>\n",
       "    </tr>\n",
       "    <tr>\n",
       "      <th>2</th>\n",
       "      <td>2016-01-07</td>\n",
       "      <td>2</td>\n",
       "    </tr>\n",
       "    <tr>\n",
       "      <th>3</th>\n",
       "      <td>2016-01-08</td>\n",
       "      <td>1</td>\n",
       "    </tr>\n",
       "    <tr>\n",
       "      <th>4</th>\n",
       "      <td>2016-01-11</td>\n",
       "      <td>2</td>\n",
       "    </tr>\n",
       "    <tr>\n",
       "      <th>...</th>\n",
       "      <td>...</td>\n",
       "      <td>...</td>\n",
       "    </tr>\n",
       "    <tr>\n",
       "      <th>1096</th>\n",
       "      <td>2019-03-25</td>\n",
       "      <td>64</td>\n",
       "    </tr>\n",
       "    <tr>\n",
       "      <th>1097</th>\n",
       "      <td>2019-03-26</td>\n",
       "      <td>85</td>\n",
       "    </tr>\n",
       "    <tr>\n",
       "      <th>1098</th>\n",
       "      <td>2019-03-27</td>\n",
       "      <td>75</td>\n",
       "    </tr>\n",
       "    <tr>\n",
       "      <th>1099</th>\n",
       "      <td>2019-03-28</td>\n",
       "      <td>234</td>\n",
       "    </tr>\n",
       "    <tr>\n",
       "      <th>1100</th>\n",
       "      <td>2019-03-29</td>\n",
       "      <td>107</td>\n",
       "    </tr>\n",
       "  </tbody>\n",
       "</table>\n",
       "<p>1101 rows × 2 columns</p>\n",
       "</div>"
      ],
      "text/plain": [
       "            date  tweets_number\n",
       "0     2016-01-02              2\n",
       "1     2016-01-04              1\n",
       "2     2016-01-07              2\n",
       "3     2016-01-08              1\n",
       "4     2016-01-11              2\n",
       "...          ...            ...\n",
       "1096  2019-03-25             64\n",
       "1097  2019-03-26             85\n",
       "1098  2019-03-27             75\n",
       "1099  2019-03-28            234\n",
       "1100  2019-03-29            107\n",
       "\n",
       "[1101 rows x 2 columns]"
      ]
     },
     "execution_count": 68,
     "metadata": {},
     "output_type": "execute_result"
    }
   ],
   "source": [
    "sdf=pd.DataFrame(df7['timestamp'].value_counts())\n",
    "sdf = sdf.reset_index()\n",
    "sdf.columns = ['date','tweets_number']\n",
    "sdf = sdf.sort_values(by=['date'], ascending=True)\n",
    "sdf.insert(0, 'id_d', range(1, 1 + len(sdf)))\n",
    "sdf = sdf.reset_index()\n",
    "sdf = sdf[['date','tweets_number']]\n",
    "sdf"
   ]
  },
  {
   "cell_type": "markdown",
   "id": "ce8d36e0",
   "metadata": {},
   "source": [
    "for date in sdf['date']:\n",
    "    sdf.loc[sdf['date'] == date, 'likes_sum'] = df7.loc[df7['timestamp'] == date, 'likes'].sum()"
   ]
  },
  {
   "cell_type": "markdown",
   "id": "64b248d6",
   "metadata": {},
   "source": [
    "for date in sdf['date']:\n",
    "    sdf.loc[sdf['date'] == date, 'replies_sum'] = df7.loc[df7['timestamp'] == date, 'replies'].sum()\n",
    "    sdf.loc[sdf['date'] == date, 'retweets_sum'] = df7.loc[df7['timestamp'] == date, 'retweets'].sum()"
   ]
  },
  {
   "cell_type": "markdown",
   "id": "55a2afec",
   "metadata": {},
   "source": [
    "for date in sdf['date']:\n",
    "    sdf.loc[sdf['date'] == date, 'BERT_SCORE_sum'] = df7.loc[df7['timestamp'] == date, 'BERT_SCORE'].sum()\n",
    "    sdf.loc[sdf['date'] == date, 'Vader_Comp_sum'] = df7.loc[df7['timestamp'] == date, 'Vader_Comp'].sum()"
   ]
  },
  {
   "cell_type": "code",
   "execution_count": 29,
   "id": "f17804c0",
   "metadata": {},
   "outputs": [],
   "source": [
    "for date in sdf['date']:\n",
    "    sdf.loc[sdf['date'] == date, 'likes_mean'] = df7.loc[df7['timestamp'] == date, 'likes'].mean()\n",
    "    \n",
    "for date in sdf['date']:\n",
    "    sdf.loc[sdf['date'] == date, 'replies_mean'] = df7.loc[df7['timestamp'] == date, 'replies'].mean()\n",
    "    sdf.loc[sdf['date'] == date, 'retweets_mean'] = df7.loc[df7['timestamp'] == date, 'retweets'].mean()\n",
    "    \n",
    "for date in sdf['date']:\n",
    "    sdf.loc[sdf['date'] == date, 'BERT_SCORE_mean'] = df7.loc[df7['timestamp'] == date, 'BERT_SCORE'].mean()\n",
    "    sdf.loc[sdf['date'] == date, 'Vader_Comp_mean'] = df7.loc[df7['timestamp'] == date, 'Vader_Comp'].mean()"
   ]
  },
  {
   "cell_type": "code",
   "execution_count": 30,
   "id": "309d96a2",
   "metadata": {},
   "outputs": [],
   "source": [
    "sdf['date'] =  pd.to_datetime(sdf['date'],errors='coerce')"
   ]
  },
  {
   "cell_type": "code",
   "execution_count": 31,
   "id": "e5ab877b",
   "metadata": {},
   "outputs": [
    {
     "data": {
      "text/plain": [
       "(1183, 8)"
      ]
     },
     "execution_count": 31,
     "metadata": {},
     "output_type": "execute_result"
    }
   ],
   "source": [
    "# Find the range of dates in the dataframe\n",
    "date_range = pd.date_range(start=sdf['date'].min(), end=sdf['date'].max(), freq='D')\n",
    "\n",
    "# Reindex the dataframe to align with the range of dates\n",
    "sdf = sdf.set_index('date').reindex(date_range, fill_value=0)\n",
    "sdf.reset_index(inplace=True)\n",
    "sdf.rename(columns={'index': 'date'}, inplace=True)\n",
    "sdf.shape"
   ]
  },
  {
   "cell_type": "code",
   "execution_count": 12,
   "id": "4df00224",
   "metadata": {},
   "outputs": [],
   "source": [
    "btc = pd.read_csv('BTC-EUR2019.csv')"
   ]
  },
  {
   "cell_type": "code",
   "execution_count": 13,
   "id": "6a6e9284",
   "metadata": {},
   "outputs": [
    {
     "data": {
      "text/html": [
       "<div>\n",
       "<style scoped>\n",
       "    .dataframe tbody tr th:only-of-type {\n",
       "        vertical-align: middle;\n",
       "    }\n",
       "\n",
       "    .dataframe tbody tr th {\n",
       "        vertical-align: top;\n",
       "    }\n",
       "\n",
       "    .dataframe thead th {\n",
       "        text-align: right;\n",
       "    }\n",
       "</style>\n",
       "<table border=\"1\" class=\"dataframe\">\n",
       "  <thead>\n",
       "    <tr style=\"text-align: right;\">\n",
       "      <th></th>\n",
       "      <th>Date</th>\n",
       "      <th>Open</th>\n",
       "      <th>High</th>\n",
       "      <th>Low</th>\n",
       "      <th>Close</th>\n",
       "      <th>Adj Close</th>\n",
       "      <th>Volume</th>\n",
       "    </tr>\n",
       "  </thead>\n",
       "  <tbody>\n",
       "    <tr>\n",
       "      <th>0</th>\n",
       "      <td>2016-01-02</td>\n",
       "      <td>400.278137</td>\n",
       "      <td>401.604370</td>\n",
       "      <td>397.743591</td>\n",
       "      <td>399.187683</td>\n",
       "      <td>399.187683</td>\n",
       "      <td>27718364</td>\n",
       "    </tr>\n",
       "    <tr>\n",
       "      <th>1</th>\n",
       "      <td>2016-01-03</td>\n",
       "      <td>399.316650</td>\n",
       "      <td>399.468597</td>\n",
       "      <td>391.145691</td>\n",
       "      <td>396.360016</td>\n",
       "      <td>396.360016</td>\n",
       "      <td>36532215</td>\n",
       "    </tr>\n",
       "    <tr>\n",
       "      <th>2</th>\n",
       "      <td>2016-01-04</td>\n",
       "      <td>396.406128</td>\n",
       "      <td>401.623993</td>\n",
       "      <td>395.797455</td>\n",
       "      <td>400.194977</td>\n",
       "      <td>400.194977</td>\n",
       "      <td>35554888</td>\n",
       "    </tr>\n",
       "    <tr>\n",
       "      <th>3</th>\n",
       "      <td>2016-01-05</td>\n",
       "      <td>400.174652</td>\n",
       "      <td>401.314362</td>\n",
       "      <td>399.884583</td>\n",
       "      <td>401.898010</td>\n",
       "      <td>401.898010</td>\n",
       "      <td>32120022</td>\n",
       "    </tr>\n",
       "    <tr>\n",
       "      <th>4</th>\n",
       "      <td>2016-01-06</td>\n",
       "      <td>401.801239</td>\n",
       "      <td>401.801239</td>\n",
       "      <td>396.743896</td>\n",
       "      <td>398.278259</td>\n",
       "      <td>398.278259</td>\n",
       "      <td>31596900</td>\n",
       "    </tr>\n",
       "  </tbody>\n",
       "</table>\n",
       "</div>"
      ],
      "text/plain": [
       "         Date        Open        High         Low       Close   Adj Close  \\\n",
       "0  2016-01-02  400.278137  401.604370  397.743591  399.187683  399.187683   \n",
       "1  2016-01-03  399.316650  399.468597  391.145691  396.360016  396.360016   \n",
       "2  2016-01-04  396.406128  401.623993  395.797455  400.194977  400.194977   \n",
       "3  2016-01-05  400.174652  401.314362  399.884583  401.898010  401.898010   \n",
       "4  2016-01-06  401.801239  401.801239  396.743896  398.278259  398.278259   \n",
       "\n",
       "     Volume  \n",
       "0  27718364  \n",
       "1  36532215  \n",
       "2  35554888  \n",
       "3  32120022  \n",
       "4  31596900  "
      ]
     },
     "execution_count": 13,
     "metadata": {},
     "output_type": "execute_result"
    }
   ],
   "source": [
    "btc.head()"
   ]
  },
  {
   "cell_type": "code",
   "execution_count": 14,
   "id": "9c6372f3",
   "metadata": {},
   "outputs": [
    {
     "data": {
      "text/plain": [
       "(1183, 8)"
      ]
     },
     "execution_count": 14,
     "metadata": {},
     "output_type": "execute_result"
    }
   ],
   "source": [
    "sdf.shape"
   ]
  },
  {
   "cell_type": "code",
   "execution_count": 15,
   "id": "25f324fb",
   "metadata": {},
   "outputs": [],
   "source": [
    "sdf['BTC'] = btc['Close'].copy()"
   ]
  },
  {
   "cell_type": "code",
   "execution_count": 16,
   "id": "b8306909",
   "metadata": {},
   "outputs": [
    {
     "data": {
      "text/html": [
       "<div>\n",
       "<style scoped>\n",
       "    .dataframe tbody tr th:only-of-type {\n",
       "        vertical-align: middle;\n",
       "    }\n",
       "\n",
       "    .dataframe tbody tr th {\n",
       "        vertical-align: top;\n",
       "    }\n",
       "\n",
       "    .dataframe thead th {\n",
       "        text-align: right;\n",
       "    }\n",
       "</style>\n",
       "<table border=\"1\" class=\"dataframe\">\n",
       "  <thead>\n",
       "    <tr style=\"text-align: right;\">\n",
       "      <th></th>\n",
       "      <th>date</th>\n",
       "      <th>id_d</th>\n",
       "      <th>tweets_number</th>\n",
       "      <th>likes_mean</th>\n",
       "      <th>replies_mean</th>\n",
       "      <th>retweets_mean</th>\n",
       "      <th>BERT_SCORE_mean</th>\n",
       "      <th>Vader_Comp_mean</th>\n",
       "      <th>BTC</th>\n",
       "    </tr>\n",
       "  </thead>\n",
       "  <tbody>\n",
       "    <tr>\n",
       "      <th>0</th>\n",
       "      <td>2016-01-02</td>\n",
       "      <td>1</td>\n",
       "      <td>2</td>\n",
       "      <td>26.000000</td>\n",
       "      <td>0.500000</td>\n",
       "      <td>35.000000</td>\n",
       "      <td>0.838269</td>\n",
       "      <td>0.598400</td>\n",
       "      <td>399.187683</td>\n",
       "    </tr>\n",
       "    <tr>\n",
       "      <th>1</th>\n",
       "      <td>2016-01-03</td>\n",
       "      <td>0</td>\n",
       "      <td>0</td>\n",
       "      <td>0.000000</td>\n",
       "      <td>0.000000</td>\n",
       "      <td>0.000000</td>\n",
       "      <td>0.000000</td>\n",
       "      <td>0.000000</td>\n",
       "      <td>396.360016</td>\n",
       "    </tr>\n",
       "    <tr>\n",
       "      <th>2</th>\n",
       "      <td>2016-01-04</td>\n",
       "      <td>2</td>\n",
       "      <td>1</td>\n",
       "      <td>25.000000</td>\n",
       "      <td>1.000000</td>\n",
       "      <td>23.000000</td>\n",
       "      <td>0.715233</td>\n",
       "      <td>-0.440400</td>\n",
       "      <td>400.194977</td>\n",
       "    </tr>\n",
       "    <tr>\n",
       "      <th>3</th>\n",
       "      <td>2016-01-05</td>\n",
       "      <td>0</td>\n",
       "      <td>0</td>\n",
       "      <td>0.000000</td>\n",
       "      <td>0.000000</td>\n",
       "      <td>0.000000</td>\n",
       "      <td>0.000000</td>\n",
       "      <td>0.000000</td>\n",
       "      <td>401.898010</td>\n",
       "    </tr>\n",
       "    <tr>\n",
       "      <th>4</th>\n",
       "      <td>2016-01-06</td>\n",
       "      <td>0</td>\n",
       "      <td>0</td>\n",
       "      <td>0.000000</td>\n",
       "      <td>0.000000</td>\n",
       "      <td>0.000000</td>\n",
       "      <td>0.000000</td>\n",
       "      <td>0.000000</td>\n",
       "      <td>398.278259</td>\n",
       "    </tr>\n",
       "    <tr>\n",
       "      <th>...</th>\n",
       "      <td>...</td>\n",
       "      <td>...</td>\n",
       "      <td>...</td>\n",
       "      <td>...</td>\n",
       "      <td>...</td>\n",
       "      <td>...</td>\n",
       "      <td>...</td>\n",
       "      <td>...</td>\n",
       "      <td>...</td>\n",
       "    </tr>\n",
       "    <tr>\n",
       "      <th>1178</th>\n",
       "      <td>2019-03-25</td>\n",
       "      <td>1097</td>\n",
       "      <td>64</td>\n",
       "      <td>109.765625</td>\n",
       "      <td>17.296875</td>\n",
       "      <td>37.296875</td>\n",
       "      <td>0.877080</td>\n",
       "      <td>0.324702</td>\n",
       "      <td>3502.470703</td>\n",
       "    </tr>\n",
       "    <tr>\n",
       "      <th>1179</th>\n",
       "      <td>2019-03-26</td>\n",
       "      <td>1098</td>\n",
       "      <td>85</td>\n",
       "      <td>164.600000</td>\n",
       "      <td>20.458824</td>\n",
       "      <td>72.223529</td>\n",
       "      <td>0.884376</td>\n",
       "      <td>0.345486</td>\n",
       "      <td>3534.563477</td>\n",
       "    </tr>\n",
       "    <tr>\n",
       "      <th>1180</th>\n",
       "      <td>2019-03-27</td>\n",
       "      <td>1099</td>\n",
       "      <td>75</td>\n",
       "      <td>129.026667</td>\n",
       "      <td>9.386667</td>\n",
       "      <td>46.266667</td>\n",
       "      <td>0.877857</td>\n",
       "      <td>0.169812</td>\n",
       "      <td>3631.979492</td>\n",
       "    </tr>\n",
       "    <tr>\n",
       "      <th>1181</th>\n",
       "      <td>2019-03-28</td>\n",
       "      <td>1100</td>\n",
       "      <td>234</td>\n",
       "      <td>106.380342</td>\n",
       "      <td>8.940171</td>\n",
       "      <td>28.303419</td>\n",
       "      <td>0.859504</td>\n",
       "      <td>0.204927</td>\n",
       "      <td>3623.731201</td>\n",
       "    </tr>\n",
       "    <tr>\n",
       "      <th>1182</th>\n",
       "      <td>2019-03-29</td>\n",
       "      <td>1101</td>\n",
       "      <td>107</td>\n",
       "      <td>180.523364</td>\n",
       "      <td>17.934579</td>\n",
       "      <td>66.728972</td>\n",
       "      <td>0.879765</td>\n",
       "      <td>0.228485</td>\n",
       "      <td>3652.061523</td>\n",
       "    </tr>\n",
       "  </tbody>\n",
       "</table>\n",
       "<p>1183 rows × 9 columns</p>\n",
       "</div>"
      ],
      "text/plain": [
       "           date  id_d  tweets_number  likes_mean  replies_mean  retweets_mean  \\\n",
       "0    2016-01-02     1              2   26.000000      0.500000      35.000000   \n",
       "1    2016-01-03     0              0    0.000000      0.000000       0.000000   \n",
       "2    2016-01-04     2              1   25.000000      1.000000      23.000000   \n",
       "3    2016-01-05     0              0    0.000000      0.000000       0.000000   \n",
       "4    2016-01-06     0              0    0.000000      0.000000       0.000000   \n",
       "...         ...   ...            ...         ...           ...            ...   \n",
       "1178 2019-03-25  1097             64  109.765625     17.296875      37.296875   \n",
       "1179 2019-03-26  1098             85  164.600000     20.458824      72.223529   \n",
       "1180 2019-03-27  1099             75  129.026667      9.386667      46.266667   \n",
       "1181 2019-03-28  1100            234  106.380342      8.940171      28.303419   \n",
       "1182 2019-03-29  1101            107  180.523364     17.934579      66.728972   \n",
       "\n",
       "      BERT_SCORE_mean  Vader_Comp_mean          BTC  \n",
       "0            0.838269         0.598400   399.187683  \n",
       "1            0.000000         0.000000   396.360016  \n",
       "2            0.715233        -0.440400   400.194977  \n",
       "3            0.000000         0.000000   401.898010  \n",
       "4            0.000000         0.000000   398.278259  \n",
       "...               ...              ...          ...  \n",
       "1178         0.877080         0.324702  3502.470703  \n",
       "1179         0.884376         0.345486  3534.563477  \n",
       "1180         0.877857         0.169812  3631.979492  \n",
       "1181         0.859504         0.204927  3623.731201  \n",
       "1182         0.879765         0.228485  3652.061523  \n",
       "\n",
       "[1183 rows x 9 columns]"
      ]
     },
     "execution_count": 16,
     "metadata": {},
     "output_type": "execute_result"
    }
   ],
   "source": [
    "sdf"
   ]
  },
  {
   "cell_type": "code",
   "execution_count": 17,
   "id": "08ddf0a5",
   "metadata": {},
   "outputs": [
    {
     "data": {
      "image/png": "[encoded data removed]",
      "text/plain": [
       "<Figure size 432x288 with 1 Axes>"
      ]
     },
     "metadata": {
      "needs_background": "light"
     },
     "output_type": "display_data"
    }
   ],
   "source": [
    "\n",
    "sdf.set_index('date', inplace=True)\n",
    "\n",
    "# Select the column of interest\n",
    "column = sdf['BTC']\n",
    "\n",
    "# Plot the time series\n",
    "plt.plot(column)\n",
    "plt.xlabel('Date')\n",
    "plt.ylabel('BTC')\n",
    "plt.title('Time Series')\n",
    "plt.show()\n"
   ]
  },
  {
   "cell_type": "code",
   "execution_count": 18,
   "id": "4189c067",
   "metadata": {},
   "outputs": [
    {
     "data": {
      "image/png": "[encoded data removed]",
      "text/plain": [
       "<Figure size 432x288 with 1 Axes>"
      ]
     },
     "metadata": {
      "needs_background": "light"
     },
     "output_type": "display_data"
    }
   ],
   "source": [
    "# Select the column of interest\n",
    "column = sdf['BERT_SCORE_mean']\n",
    "\n",
    "# Plot the time series\n",
    "plt.plot(column)\n",
    "plt.xlabel('Date')\n",
    "plt.ylabel('BERT_SCORE_mean')\n",
    "plt.title('Time Series')\n",
    "plt.show()"
   ]
  },
  {
   "cell_type": "code",
   "execution_count": 19,
   "id": "fb7887a1",
   "metadata": {},
   "outputs": [
    {
     "data": {
      "image/png": "[encoded data removed]",
      "text/plain": [
       "<Figure size 432x288 with 1 Axes>"
      ]
     },
     "metadata": {
      "needs_background": "light"
     },
     "output_type": "display_data"
    }
   ],
   "source": [
    "# Select the column of interest\n",
    "column = sdf['Vader_Comp_mean']\n",
    "\n",
    "# Plot the time series\n",
    "plt.plot(column)\n",
    "plt.xlabel('Date')\n",
    "plt.ylabel('Vader_Comp_mean')\n",
    "plt.title('Time Series')\n",
    "plt.show()"
   ]
  },
  {
   "cell_type": "code",
   "execution_count": 20,
   "id": "85ad6cce",
   "metadata": {},
   "outputs": [
    {
     "data": {
      "image/png": "[encoded data removed]",
      "text/plain": [
       "<Figure size 432x288 with 1 Axes>"
      ]
     },
     "metadata": {
      "needs_background": "light"
     },
     "output_type": "display_data"
    }
   ],
   "source": [
    "# Select the column of interest\n",
    "column = sdf['likes_mean']\n",
    "\n",
    "# Plot the time series\n",
    "plt.plot(column)\n",
    "plt.xlabel('Date')\n",
    "plt.ylabel('likes_mean')\n",
    "plt.title('Time Series')\n",
    "plt.show()"
   ]
  },
  {
   "cell_type": "code",
   "execution_count": 21,
   "id": "e27a3893",
   "metadata": {},
   "outputs": [
    {
     "data": {
      "image/png": "[encoded data removed]",
      "text/plain": [
       "<Figure size 432x288 with 1 Axes>"
      ]
     },
     "metadata": {
      "needs_background": "light"
     },
     "output_type": "display_data"
    }
   ],
   "source": [
    "# Select the column of interest\n",
    "column = sdf['tweets_number']\n",
    "\n",
    "# Plot the time series\n",
    "plt.plot(column)\n",
    "plt.xlabel('Date')\n",
    "plt.ylabel('tweets_number')\n",
    "plt.title('Time Series')\n",
    "plt.show()"
   ]
  },
  {
   "cell_type": "code",
   "execution_count": 22,
   "id": "2c73274a",
   "metadata": {},
   "outputs": [
    {
     "data": {
      "text/plain": [
       "73.22823330515638"
      ]
     },
     "execution_count": 22,
     "metadata": {},
     "output_type": "execute_result"
    }
   ],
   "source": [
    "sdf['tweets_number'].mean()"
   ]
  },
  {
   "cell_type": "code",
   "execution_count": 23,
   "id": "4d0fe3d9",
   "metadata": {},
   "outputs": [],
   "source": [
    "# sdf= sdf[sdf.index > datetime(2018, 11, 23).date()]\n",
    "sdf = sdf.loc['2018-11-23':]"
   ]
  },
  {
   "cell_type": "code",
   "execution_count": 242,
   "id": "e31ce273",
   "metadata": {},
   "outputs": [
    {
     "data": {
      "text/plain": [
       "(127, 8)"
      ]
     },
     "execution_count": 242,
     "metadata": {},
     "output_type": "execute_result"
    }
   ],
   "source": [
    "sdf.shape"
   ]
  },
  {
   "cell_type": "code",
   "execution_count": 244,
   "id": "7b4b07fa",
   "metadata": {},
   "outputs": [],
   "source": [
    "sdf.to_csv(\"final_data.csv\", index=True)"
   ]
  },
  {
   "cell_type": "code",
   "execution_count": 243,
   "id": "410fcaeb",
   "metadata": {},
   "outputs": [
    {
     "data": {
      "text/html": [
       "<div>\n",
       "<style scoped>\n",
       "    .dataframe tbody tr th:only-of-type {\n",
       "        vertical-align: middle;\n",
       "    }\n",
       "\n",
       "    .dataframe tbody tr th {\n",
       "        vertical-align: top;\n",
       "    }\n",
       "\n",
       "    .dataframe thead th {\n",
       "        text-align: right;\n",
       "    }\n",
       "</style>\n",
       "<table border=\"1\" class=\"dataframe\">\n",
       "  <thead>\n",
       "    <tr style=\"text-align: right;\">\n",
       "      <th></th>\n",
       "      <th>id_d</th>\n",
       "      <th>tweets_number</th>\n",
       "      <th>likes_mean</th>\n",
       "      <th>replies_mean</th>\n",
       "      <th>retweets_mean</th>\n",
       "      <th>BERT_SCORE_mean</th>\n",
       "      <th>Vader_Comp_mean</th>\n",
       "      <th>BTC</th>\n",
       "    </tr>\n",
       "    <tr>\n",
       "      <th>date</th>\n",
       "      <th></th>\n",
       "      <th></th>\n",
       "      <th></th>\n",
       "      <th></th>\n",
       "      <th></th>\n",
       "      <th></th>\n",
       "      <th></th>\n",
       "      <th></th>\n",
       "    </tr>\n",
       "  </thead>\n",
       "  <tbody>\n",
       "    <tr>\n",
       "      <th>2018-11-23</th>\n",
       "      <td>975</td>\n",
       "      <td>39</td>\n",
       "      <td>234.666667</td>\n",
       "      <td>17.948718</td>\n",
       "      <td>69.897436</td>\n",
       "      <td>0.872507</td>\n",
       "      <td>0.352369</td>\n",
       "      <td>3833.607666</td>\n",
       "    </tr>\n",
       "    <tr>\n",
       "      <th>2018-11-24</th>\n",
       "      <td>976</td>\n",
       "      <td>38</td>\n",
       "      <td>280.157895</td>\n",
       "      <td>20.026316</td>\n",
       "      <td>72.736842</td>\n",
       "      <td>0.869439</td>\n",
       "      <td>0.149608</td>\n",
       "      <td>3422.345215</td>\n",
       "    </tr>\n",
       "    <tr>\n",
       "      <th>2018-11-25</th>\n",
       "      <td>977</td>\n",
       "      <td>61</td>\n",
       "      <td>328.573770</td>\n",
       "      <td>18.459016</td>\n",
       "      <td>85.704918</td>\n",
       "      <td>0.839590</td>\n",
       "      <td>0.214480</td>\n",
       "      <td>3537.531494</td>\n",
       "    </tr>\n",
       "    <tr>\n",
       "      <th>2018-11-26</th>\n",
       "      <td>978</td>\n",
       "      <td>62</td>\n",
       "      <td>268.080645</td>\n",
       "      <td>15.467742</td>\n",
       "      <td>66.403226</td>\n",
       "      <td>0.855086</td>\n",
       "      <td>0.198289</td>\n",
       "      <td>3334.840332</td>\n",
       "    </tr>\n",
       "    <tr>\n",
       "      <th>2018-11-27</th>\n",
       "      <td>979</td>\n",
       "      <td>45</td>\n",
       "      <td>258.311111</td>\n",
       "      <td>21.977778</td>\n",
       "      <td>88.666667</td>\n",
       "      <td>0.852590</td>\n",
       "      <td>0.079982</td>\n",
       "      <td>3381.917969</td>\n",
       "    </tr>\n",
       "  </tbody>\n",
       "</table>\n",
       "</div>"
      ],
      "text/plain": [
       "            id_d  tweets_number  likes_mean  replies_mean  retweets_mean  \\\n",
       "date                                                                       \n",
       "2018-11-23   975             39  234.666667     17.948718      69.897436   \n",
       "2018-11-24   976             38  280.157895     20.026316      72.736842   \n",
       "2018-11-25   977             61  328.573770     18.459016      85.704918   \n",
       "2018-11-26   978             62  268.080645     15.467742      66.403226   \n",
       "2018-11-27   979             45  258.311111     21.977778      88.666667   \n",
       "\n",
       "            BERT_SCORE_mean  Vader_Comp_mean          BTC  \n",
       "date                                                       \n",
       "2018-11-23         0.872507         0.352369  3833.607666  \n",
       "2018-11-24         0.869439         0.149608  3422.345215  \n",
       "2018-11-25         0.839590         0.214480  3537.531494  \n",
       "2018-11-26         0.855086         0.198289  3334.840332  \n",
       "2018-11-27         0.852590         0.079982  3381.917969  "
      ]
     },
     "execution_count": 243,
     "metadata": {},
     "output_type": "execute_result"
    }
   ],
   "source": [
    "sdf.head()"
   ]
  },
  {
   "cell_type": "code",
   "execution_count": null,
   "id": "3b2f1aaa",
   "metadata": {},
   "outputs": [],
   "source": []
  }
 ],
 "metadata": {
  "kernelspec": {
   "display_name": "Python 3 (ipykernel)",
   "language": "python",
   "name": "python3"
  },
  "language_info": {
   "codemirror_mode": {
    "name": "ipython",
    "version": 3
   },
   "file_extension": ".py",
   "mimetype": "text/x-python",
   "name": "python",
   "nbconvert_exporter": "python",
   "pygments_lexer": "ipython3",
   "version": "3.9.7"
  }
 },
 "nbformat": 4,
 "nbformat_minor": 5
}
